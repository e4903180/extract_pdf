{
 "cells": [
  {
   "cell_type": "code",
   "execution_count": 66,
   "metadata": {},
   "outputs": [],
   "source": [
    "import os\n",
    "import fitz\n",
    "from tqdm import tqdm"
   ]
  },
  {
   "cell_type": "code",
   "execution_count": 67,
   "metadata": {},
   "outputs": [],
   "source": [
    "def check_rate_function(rate_1, rate_2, possible_rate):\n",
    "        # 檢查兩種方法提取的評價是否相同\n",
    "    if rate_1 == rate_2 and rate_1!= None:\n",
    "        return rate_1\n",
    "    elif rate_1 in possible_rate:\n",
    "        return rate_1\n",
    "    elif rate_2 in possible_rate:\n",
    "        return rate_2\n",
    "    else :\n",
    "        return 'NULL'\n",
    "            "
   ]
  },
  {
   "cell_type": "code",
   "execution_count": 68,
   "metadata": {},
   "outputs": [
    {
     "name": "stderr",
     "output_type": "stream",
     "text": [
      "100%|██████████| 24/24 [00:00<00:00, 29.87it/s]"
     ]
    },
    {
     "name": "stdout",
     "output_type": "stream",
     "text": [
      "共24件, 成功24件, 失敗0件, 成功率:100.0%\n"
     ]
    },
    {
     "name": "stderr",
     "output_type": "stream",
     "text": [
      "\n"
     ]
    }
   ],
   "source": [
    "zip_path = r'..\\file\\J.P.morgan'\n",
    "count_true = 0\n",
    "possible_rate = ['Buy', 'Overweight', 'Neutral', 'Underweight', 'Sell']\n",
    "for directory in tqdm(os.listdir(zip_path)):\n",
    "    directory_path = os.path.join(zip_path, directory)\n",
    "    rate_1 = None\n",
    "    rate_2 = None\n",
    "    rate = None\n",
    "    try:\n",
    "        with fitz.open(directory_path) as doc:\n",
    "            mat = fitz.Matrix(1, 1)\n",
    "            page = doc.load_page(0)\n",
    "            rect = page.rect\n",
    "            page_check_source = doc.load_page(-1)\n",
    "            text_check_source = page_check_source.get_text()\n",
    "            if 'JPMorgan' in text_check_source :\n",
    "                # 檢查版本                \n",
    "                clip_check_report = fitz.Rect(350, 0, rect.width, 80)\n",
    "                text_check_report = page.get_text(clip=clip_check_report)\n",
    "                if 'Asia Pacific Equity Research' in text_check_report:\n",
    "                    # 提取評價的第一種方法\n",
    "                    try:\n",
    "                        clip_version_1_1 = fitz.Rect(400, 60, rect.width, 200)\n",
    "                        text_version_1_1 = page.get_text(clip=clip_version_1_1, sort=True).strip()\n",
    "                        rate_1 = text_version_1_1.split('\\n')[0].strip()\n",
    "                    except:\n",
    "                        rate_1 = None\n",
    "                    try:\n",
    "                        clip_version_1_2 = fitz.Rect(410, 90, 580, 120)\n",
    "                        rate_2 = page.get_text(clip=clip_version_1_2).strip()\n",
    "                    except:\n",
    "                        rate_2 = None\n",
    "                else:\n",
    "                    try:\n",
    "                        clip_version_2_1 = fitz.Rect(40, 90, 200, 200)\n",
    "                        text_version_2_1 = page.get_text(clip=clip_version_2_1, sort=True).strip()\n",
    "                        rate_1 = text_version_2_1.split('\\n')[0].strip()\n",
    "                    except:\n",
    "                        rate_1 = None\n",
    "                    try:\n",
    "                        clip_version_2_2 = fitz.Rect(40, 100, 180, 127)\n",
    "                        rate_2 = page.get_text(clip=clip_version_2_2).strip()\n",
    "                    except:\n",
    "                        rate_2 = None\n",
    "                # else :\n",
    "                #     print(f'{text_check_report}, {directory_path} NULL')\n",
    "                # if rate_1 == rate_2 and rate_1 not in possible_rate:\n",
    "                #     possible_rate.append(rate_1)\n",
    "                rate = check_rate_function(rate_1, rate_2, possible_rate)\n",
    "            else:\n",
    "                # False\n",
    "                print(f'{directory_path} is not posted by hsbc')\n",
    "    except:\n",
    "        print(directory_path, 'fail')\n",
    "    if rate == 'NULL' :\n",
    "        print('case1', directory_path, rate,\n",
    "                f'rate_1={rate_1}, rate_2={rate_2}')\n",
    "    elif rate == 'wrong':\n",
    "        count_true += 1\n",
    "        # print(directory_path, rate,\n",
    "        #       f'text_check_new_report={text_check_new_report}, text_check_old_fast_report={text_check_old_fast_report}')\n",
    "    elif rate != None :\n",
    "        count_true += 1\n",
    "        # print(directory_path, rate,\n",
    "        #         f'rate_1={rate_1}, rate_2={rate_2}')\n",
    "    else :\n",
    "        print('case2', directory_path, rate,\n",
    "                f'rate_1={rate_1}, rate_2={rate_2}')\n",
    "# 計算成功和失敗的數量並打印\n",
    "count_false = len(os.listdir(zip_path)) - count_true\n",
    "success_rate = round((count_true/len(os.listdir(zip_path))), 3)*100\n",
    "print(f'共{len(os.listdir(zip_path))}件, 成功{count_true}件, 失敗{count_false}件, 成功率:{success_rate}%')"
   ]
  },
  {
   "cell_type": "code",
   "execution_count": 69,
   "metadata": {},
   "outputs": [
    {
     "data": {
      "text/plain": [
       "['Buy', 'Overweight', 'Neutral', 'Underweight', 'Sell']"
      ]
     },
     "execution_count": 69,
     "metadata": {},
     "output_type": "execute_result"
    }
   ],
   "source": [
    "possible_rate"
   ]
  },
  {
   "cell_type": "code",
   "execution_count": 70,
   "metadata": {},
   "outputs": [
    {
     "name": "stdout",
     "output_type": "stream",
     "text": [
      "共24件, 成功24件, 失敗0件, 成功率:100.0%\n"
     ]
    }
   ],
   "source": [
    "# 計算成功和失敗的數量並打印\n",
    "count_false = len(os.listdir(zip_path)) - count_true\n",
    "success_rate = round((count_true/len(os.listdir(zip_path))), 3)*100\n",
    "print(f'共{len(os.listdir(zip_path))}件, 成功{count_true}件, 失敗{count_false}件, 成功率:{success_rate}%')"
   ]
  },
  {
   "cell_type": "code",
   "execution_count": 71,
   "metadata": {},
   "outputs": [],
   "source": [
    "import fitz\n",
    "# doc = fitz.open(r'..\\file\\J.P.morgan\\2344_華邦電_jpm_Overweight.pdf')\n",
    "# doc = fitz.open(r'..\\file\\J.P.morgan\\8454-富邦媒-2023_02_17-瑞士信貸-Overweight.pdf')\n",
    "doc = fitz.open(r'..\\file\\J.P.morgan\\2379-瑞昱-2023_02_24-摩根大通-Neutral.pdf')\n",
    "mat = fitz.Matrix(1, 1)\n",
    "page = doc.load_page(0)  # loads page number 'pno' of the document (0-based)\n",
    "rect = page.rect\n",
    "pix = page.get_pixmap(matrix=mat, alpha=False)\n",
    "pix.save(\"page-%i.png\" % page.number)"
   ]
  },
  {
   "cell_type": "code",
   "execution_count": 72,
   "metadata": {},
   "outputs": [
    {
     "name": "stdout",
     "output_type": "stream",
     "text": [
      "True\n"
     ]
    }
   ],
   "source": [
    "# 檢查是否由第一金投顧出版\n",
    "page_check_source = doc.load_page(-1)\n",
    "text_check_source = page_check_source.get_text()\n",
    "if ' JPMorgan' in text_check_source :\n",
    "    print('True')"
   ]
  },
  {
   "cell_type": "code",
   "execution_count": 73,
   "metadata": {},
   "outputs": [
    {
     "name": "stdout",
     "output_type": "stream",
     "text": [
      "version_1\n"
     ]
    },
    {
     "data": {
      "text/plain": [
       "'Asia Pacific Equity Research\\n23 February 2023\\n'"
      ]
     },
     "execution_count": 73,
     "metadata": {},
     "output_type": "execute_result"
    }
   ],
   "source": [
    "# 檢查版本\n",
    "clip_check_report = fitz.Rect(350, 0, rect.width, 80)\n",
    "pix = page.get_pixmap(matrix=mat, alpha=False, clip=clip_check_report)\n",
    "pix.save(\"page-clip_check_report.png\")\n",
    "text_check_report = page.get_text(clip=clip_check_report)\n",
    "if 'Asia Pacific Equity Research' in text_check_report:\n",
    "    print('version_1')\n",
    "else :\n",
    "    print('version_2')\n",
    "text_check_report"
   ]
  },
  {
   "cell_type": "code",
   "execution_count": 74,
   "metadata": {},
   "outputs": [
    {
     "data": {
      "text/plain": [
       "'Neutral'"
      ]
     },
     "execution_count": 74,
     "metadata": {},
     "output_type": "execute_result"
    }
   ],
   "source": [
    "# 報告為新版個股報告 提取評價的第一種方法\n",
    "try:\n",
    "    clip_version_1_1 = fitz.Rect(400, 60, rect.width, 200)\n",
    "    text_version_1_1 = page.get_text(clip=clip_version_1_1, sort=True).strip()\n",
    "    pix = page.get_pixmap(matrix=mat, alpha=False, clip=clip_version_1_1)\n",
    "    pix.save(\"page-clip_version_1_1.png\")\n",
    "    rate_1 = text_version_1_1.split('\\n')[0].strip()\n",
    "except:\n",
    "    rate_1 = None\n",
    "rate_1"
   ]
  },
  {
   "cell_type": "code",
   "execution_count": 75,
   "metadata": {},
   "outputs": [
    {
     "data": {
      "text/plain": [
       "'2379.TW, 2379 TT'"
      ]
     },
     "execution_count": 75,
     "metadata": {},
     "output_type": "execute_result"
    }
   ],
   "source": [
    "# 報告為新版個股報告 提取評價的第二種方法\n",
    "try:\n",
    "    clip_version_1_2 = fitz.Rect(410, 90, 580, 120)\n",
    "    rate_2 = page.get_text(clip=clip_version_1_2).strip()\n",
    "    pix = page.get_pixmap(matrix=mat, alpha=False, clip=clip_version_1_2)\n",
    "    pix.save(\"page-clip_version_1_2.png\")\n",
    "except:\n",
    "    rate_2 = None\n",
    "rate_2"
   ]
  },
  {
   "cell_type": "code",
   "execution_count": 76,
   "metadata": {},
   "outputs": [
    {
     "data": {
      "text/plain": [
       "'On the recovery ro'"
      ]
     },
     "execution_count": 76,
     "metadata": {},
     "output_type": "execute_result"
    }
   ],
   "source": [
    "# 報告為新版個股報告 提取評價的第一種方法\n",
    "try:\n",
    "    clip_version_2_1 = fitz.Rect(40, 90, 200, 200)\n",
    "    text_version_2_1 = page.get_text(clip=clip_version_2_1, sort=True).strip()\n",
    "    pix = page.get_pixmap(matrix=mat, alpha=False, clip=clip_version_2_1)\n",
    "    pix.save(\"page-clip_version_2_1.png\")\n",
    "    # text_version_2_1 = text_version_2_1.split('TARGET')[0].strip()\n",
    "    rate_1 = text_version_2_1.split('\\n')[0].strip()\n",
    "except:\n",
    "    rate_1 = None\n",
    "rate_1"
   ]
  },
  {
   "cell_type": "code",
   "execution_count": 77,
   "metadata": {},
   "outputs": [
    {
     "data": {
      "text/plain": [
       "''"
      ]
     },
     "execution_count": 77,
     "metadata": {},
     "output_type": "execute_result"
    }
   ],
   "source": [
    "# 報告為新版個股報告 提取評價的第二種方法\n",
    "try:\n",
    "    clip_version_2_2 = fitz.Rect(40, 100, 180, 127)\n",
    "    rate_2 = page.get_text(clip=clip_version_2_2).strip()\n",
    "    pix = page.get_pixmap(matrix=mat, alpha=False, clip=clip_version_2_2)\n",
    "    pix.save(\"page-clip_version_2_2.png\")\n",
    "except:\n",
    "    rate_2 = None\n",
    "rate_2"
   ]
  }
 ],
 "metadata": {
  "kernelspec": {
   "display_name": "venv_stock",
   "language": "python",
   "name": "python3"
  },
  "language_info": {
   "codemirror_mode": {
    "name": "ipython",
    "version": 3
   },
   "file_extension": ".py",
   "mimetype": "text/x-python",
   "name": "python",
   "nbconvert_exporter": "python",
   "pygments_lexer": "ipython3",
   "version": "3.8.5"
  },
  "orig_nbformat": 4,
  "vscode": {
   "interpreter": {
    "hash": "ba787645ba8ce3b43ca5d5c1bc5ea17dd580ada22e1bd31731a2a86b718f16cf"
   }
  }
 },
 "nbformat": 4,
 "nbformat_minor": 2
}
