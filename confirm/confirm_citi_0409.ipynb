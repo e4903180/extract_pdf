{
 "cells": [
  {
   "cell_type": "code",
   "execution_count": 73,
   "metadata": {},
   "outputs": [],
   "source": [
    "import os\n",
    "import fitz\n",
    "from tqdm import tqdm"
   ]
  },
  {
   "cell_type": "code",
   "execution_count": 74,
   "metadata": {},
   "outputs": [],
   "source": [
    "def check_rate_function(rate_1, rate_2, possible_rate):\n",
    "        # 檢查兩種方法提取的評價是否相同\n",
    "    if rate_1 == rate_2 and rate_1!= None:\n",
    "        return rate_1\n",
    "    elif rate_1 in possible_rate:\n",
    "        return rate_1\n",
    "    elif rate_2 in possible_rate:\n",
    "        return rate_2\n",
    "    else :\n",
    "        return 'NULL'\n",
    "            "
   ]
  },
  {
   "cell_type": "code",
   "execution_count": 76,
   "metadata": {},
   "outputs": [
    {
     "name": "stderr",
     "output_type": "stream",
     "text": [
      " 25%|██▌       | 4/16 [00:00<00:00, 33.92it/s]"
     ]
    },
    {
     "name": "stdout",
     "output_type": "stream",
     "text": [
      "..\\file\\citi\\2317-┬E«ⁿ-2023_03_07-citi-buy.pdf Buy rate_1=Buy, rate_2=Buy\n",
      "..\\file\\citi\\2317-鴻海-2023_03_07-citi-buy.pdf Buy rate_1=Buy, rate_2=Buy\n",
      "..\\file\\citi\\2317_鴻海_citi_buy.pdf Buy rate_1=Buy, rate_2=Buy\n",
      "..\\file\\citi\\2330-台積電-2023_02_13-citi-Buy.pdf Buy rate_1=Buy, rate_2=Buy\n",
      "..\\file\\citi\\2330_台積電_citi_Buy.pdf Buy rate_1=Buy, rate_2=Buy\n"
     ]
    },
    {
     "name": "stderr",
     "output_type": "stream",
     "text": [
      " 69%|██████▉   | 11/16 [00:00<00:00, 25.26it/s]"
     ]
    },
    {
     "name": "stdout",
     "output_type": "stream",
     "text": [
      "..\\file\\citi\\2360-¡P¡Z-2023_02_17-citi-BUY.pdf Buy rate_1=Buy, rate_2=Buy\n",
      "..\\file\\citi\\2360-致茂-2023_02_17-citi-BUY.pdf Buy rate_1=Buy, rate_2=Buy\n",
      "..\\file\\citi\\2360_致茂_citi_BUY.pdf Buy rate_1=Buy, rate_2=Buy\n",
      "..\\file\\citi\\3034-┴p╡·-2023_02_08-citi-Neutral.pdf Neutral rate_1=Neutral, rate_2=Neutral\n",
      "..\\file\\citi\\3034-聯詠-2023_02_08-citi-Neutral.pdf Neutral rate_1=Neutral, rate_2=Neutral\n",
      "..\\file\\citi\\3034_聯詠_citi_Neutral.pdf Neutral rate_1=Neutral, rate_2=Neutral\n"
     ]
    },
    {
     "name": "stderr",
     "output_type": "stream",
     "text": [
      " 88%|████████▊ | 14/16 [00:00<00:00, 19.24it/s]"
     ]
    },
    {
     "name": "stdout",
     "output_type": "stream",
     "text": [
      "..\\file\\citi\\3034聯詠-citi-0207.pdf Neutral rate_1=Neutral, rate_2=Neutral\n",
      "..\\file\\citi\\5347_世界_2018-06-07__5347,S,TP45_Citi05272018.pdf Sell rate_1=Sell, rate_2=�\n",
      "..\\file\\citi\\6488_環球晶_2018-06-07__6488,B,TP755_Citi05282018.pdf Buy rate_1=Buy, rate_2=Buy\n"
     ]
    },
    {
     "name": "stderr",
     "output_type": "stream",
     "text": [
      "100%|██████████| 16/16 [00:00<00:00, 21.86it/s]"
     ]
    },
    {
     "name": "stdout",
     "output_type": "stream",
     "text": [
      "..\\file\\citi\\8454-┤I¿╣┤C-2023_02_20-citi-Buy.pdf Buy rate_1=Buy, rate_2=Buy\n",
      "..\\file\\citi\\8454-富邦媒-2023_02_20-citi-Buy.pdf Buy rate_1=Buy, rate_2=Buy\n",
      "共16件, 成功16件, 失敗0件, 成功率:100.0%\n"
     ]
    },
    {
     "name": "stderr",
     "output_type": "stream",
     "text": [
      "\n"
     ]
    }
   ],
   "source": [
    "zip_path = r'..\\file\\citi'\n",
    "count_true = 0\n",
    "possible_rate = ['Buy', 'Neutral', 'Sell']\n",
    "for directory in tqdm(os.listdir(zip_path)):\n",
    "    directory_path = os.path.join(zip_path, directory)\n",
    "    rate_1 = None\n",
    "    rate_2 = None\n",
    "    rate = None\n",
    "    try:\n",
    "        with fitz.open(directory_path) as doc:\n",
    "            mat = fitz.Matrix(1, 1)\n",
    "            page = doc.load_page(0)\n",
    "            rect = page.rect\n",
    "            page_check_source = doc.load_page(-1)\n",
    "            text_check_source = page_check_source.get_text()\n",
    "            page_check_source_2 = doc.load_page(-2)\n",
    "            text_check_source_2 = page_check_source_2.get_text()\n",
    "            if 'Citi Research' in text_check_source :\n",
    "                # 檢查版本                \n",
    "                clip_check_report = fitz.Rect(350, 0, rect.width, 250)\n",
    "                text_check_report = page.get_text(clip=clip_check_report)\n",
    "                if any(keyword in text_check_report for keyword in ['Citi Research']):\n",
    "                    # 提取評價的第一種方法\n",
    "                    try:\n",
    "                        clip_old_report_1 = fitz.Rect(390, 170, rect.width, 500)\n",
    "                        text_old_report_1 = page.get_text(clip=clip_old_report_1, sort=True).strip()\n",
    "                        text_old_report_1 = text_old_report_1.split('Price')[0].strip()\n",
    "                        rate_1 = text_old_report_1.split('\\n')[0].strip()\n",
    "                        for rate in possible_rate:\n",
    "                            if rate in rate_1:\n",
    "                                rate_1 = rate\n",
    "                    except:\n",
    "                        rate_1 = None\n",
    "                        # 提取評價的第二種方法\n",
    "                    try:\n",
    "                        clip_old_report_2 = fitz.Rect(390, 170, rect.width, 500)\n",
    "                        text_old_report_2 = page.get_text(clip=clip_old_report_2).strip()\n",
    "                        rate_2 = text_old_report_2.split('\\n')[0].strip()\n",
    "                        for rate in possible_rate:\n",
    "                            if rate in rate_2:\n",
    "                                rate_2 = rate\n",
    "                    except:\n",
    "                        rate_2 = None\n",
    "                # else :\n",
    "                #     print(f'{text_check_report}, {directory_path} NULL')\n",
    "                # if rate_1 == rate_2 and rate_1 not in possible_rate:\n",
    "                #     possible_rate.append(rate_1)\n",
    "                rate = check_rate_function(rate_1, rate_2, possible_rate)\n",
    "            else:\n",
    "                # False\n",
    "                print(f'{directory_path} is not posted by hsbc')\n",
    "    except:\n",
    "        print(directory_path, 'fail')\n",
    "    if rate == 'NULL' :\n",
    "        print('case1', directory_path, rate,\n",
    "                f'rate_1={rate_1}, rate_2={rate_2}')\n",
    "    elif rate == 'wrong':\n",
    "        count_true += 1\n",
    "        # print(directory_path, rate,\n",
    "        #       f'text_check_new_report={text_check_new_report}, text_check_old_fast_report={text_check_old_fast_report}')\n",
    "    elif rate != None :\n",
    "        count_true += 1\n",
    "        print(directory_path, rate,\n",
    "                f'rate_1={rate_1}, rate_2={rate_2}')\n",
    "    else :\n",
    "        print('case2', directory_path, rate,\n",
    "                f'rate_1={rate_1}, rate_2={rate_2}')\n",
    "# 計算成功和失敗的數量並打印\n",
    "count_false = len(os.listdir(zip_path)) - count_true\n",
    "success_rate = round((count_true/len(os.listdir(zip_path))), 3)*100\n",
    "print(f'共{len(os.listdir(zip_path))}件, 成功{count_true}件, 失敗{count_false}件, 成功率:{success_rate}%')"
   ]
  },
  {
   "cell_type": "code",
   "execution_count": 77,
   "metadata": {},
   "outputs": [],
   "source": [
    "import fitz\n",
    "doc = fitz.open(r'..\\file\\citi\\5347_世界_2018-06-07__5347,S,TP45_Citi05272018.pdf')\n",
    "mat = fitz.Matrix(1, 1)\n",
    "page = doc.load_page(0)  # loads page number 'pno' of the document (0-based)\n",
    "rect = page.rect\n",
    "pix = page.get_pixmap(matrix=mat, alpha=False)\n",
    "pix.save(\"page-%i.png\" % page.number)"
   ]
  },
  {
   "cell_type": "code",
   "execution_count": 78,
   "metadata": {},
   "outputs": [
    {
     "name": "stdout",
     "output_type": "stream",
     "text": [
      "True\n"
     ]
    }
   ],
   "source": [
    "# 檢查是否由第一金投顧出版\n",
    "page_check_source = doc.load_page(-1)\n",
    "text_check_source = page_check_source.get_text()\n",
    "if 'Citi Research' in text_check_source :\n",
    "    print('True')"
   ]
  },
  {
   "cell_type": "code",
   "execution_count": 79,
   "metadata": {},
   "outputs": [
    {
     "name": "stdout",
     "output_type": "stream",
     "text": [
      "Citi Research\n"
     ]
    },
    {
     "data": {
      "text/plain": [
       "'Citi Research\\n   Equities\\n'"
      ]
     },
     "execution_count": 79,
     "metadata": {},
     "output_type": "execute_result"
    }
   ],
   "source": [
    "# 檢查版本\n",
    "clip_check_report = fitz.Rect(350, 0, rect.width, 100)\n",
    "pix = page.get_pixmap(matrix=mat, alpha=False, clip=clip_check_report)\n",
    "pix.save(\"page-clip_check_report.png\")\n",
    "text_check_report = page.get_text(clip=clip_check_report)\n",
    "if 'Citi Research' in text_check_report:\n",
    "    print('Citi Research')\n",
    "else :\n",
    "    print('NULL')\n",
    "text_check_report"
   ]
  },
  {
   "cell_type": "code",
   "execution_count": 80,
   "metadata": {},
   "outputs": [
    {
     "data": {
      "text/plain": [
       "'Sell'"
      ]
     },
     "execution_count": 80,
     "metadata": {},
     "output_type": "execute_result"
    }
   ],
   "source": [
    "# 報告為新版個股報告 提取評價的第一種方法\n",
    "try:\n",
    "    clip_old_report_1 = fitz.Rect(390, 170, rect.width, 500)\n",
    "    text_old_report_1 = page.get_text(clip=clip_old_report_1, sort=True).strip()\n",
    "    pix = page.get_pixmap(matrix=mat, alpha=False, clip=clip_old_report_1)\n",
    "    pix.save(\"page-clip_new_report_1.png\")\n",
    "    text_old_report_1 = text_old_report_1.split('Price')[0].strip()\n",
    "    rate_1 = text_old_report_1.split('\\n')[0].strip()\n",
    "except:\n",
    "    rate_1 = None\n",
    "rate_1"
   ]
  },
  {
   "cell_type": "code",
   "execution_count": 81,
   "metadata": {},
   "outputs": [
    {
     "data": {
      "text/plain": [
       "'�'"
      ]
     },
     "execution_count": 81,
     "metadata": {},
     "output_type": "execute_result"
    }
   ],
   "source": [
    "# 報告為新版個股報告 提取評價的第二種方法\n",
    "try:\n",
    "    clip_old_report_2 = fitz.Rect(390, 170, rect.width, 500)\n",
    "    text_old_report_2 = page.get_text(clip=clip_old_report_2).strip()\n",
    "    pix = page.get_pixmap(matrix=mat, alpha=False, clip=clip_old_report_2)\n",
    "    pix.save(\"page-clip_new_report_2.png\")\n",
    "    rate_2 = text_old_report_2.split('\\n')[0].strip()\n",
    "except:\n",
    "    rate_2 = None\n",
    "rate_2"
   ]
  }
 ],
 "metadata": {
  "kernelspec": {
   "display_name": "venv_stock",
   "language": "python",
   "name": "python3"
  },
  "language_info": {
   "codemirror_mode": {
    "name": "ipython",
    "version": 3
   },
   "file_extension": ".py",
   "mimetype": "text/x-python",
   "name": "python",
   "nbconvert_exporter": "python",
   "pygments_lexer": "ipython3",
   "version": "3.8.5"
  },
  "orig_nbformat": 4,
  "vscode": {
   "interpreter": {
    "hash": "ba787645ba8ce3b43ca5d5c1bc5ea17dd580ada22e1bd31731a2a86b718f16cf"
   }
  }
 },
 "nbformat": 4,
 "nbformat_minor": 2
}
