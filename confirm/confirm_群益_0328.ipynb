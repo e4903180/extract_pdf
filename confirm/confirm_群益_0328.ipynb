{
 "cells": [
  {
   "cell_type": "code",
   "execution_count": 19,
   "metadata": {},
   "outputs": [],
   "source": [
    "import os\n",
    "import fitz\n",
    "from tqdm import tqdm"
   ]
  },
  {
   "cell_type": "code",
   "execution_count": 20,
   "metadata": {},
   "outputs": [],
   "source": [
    "def check_rate_function(rate_1, rate_2, possible_rate):\n",
    "        # 檢查兩種方法提取的評價是否相同\n",
    "    if rate_1 == rate_2 and rate_1!= None:\n",
    "        return rate_1\n",
    "    elif rate_1 in possible_rate:\n",
    "        return rate_1\n",
    "    elif rate_2 in possible_rate:\n",
    "        return rate_2\n",
    "    else :\n",
    "        return 'NULL'\n",
    "            "
   ]
  },
  {
   "cell_type": "code",
   "execution_count": 21,
   "metadata": {},
   "outputs": [
    {
     "name": "stderr",
     "output_type": "stream",
     "text": [
      " 53%|█████▎    | 117/222 [00:07<00:06, 17.08it/s]"
     ]
    },
    {
     "name": "stdout",
     "output_type": "stream",
     "text": [
      "群益\\3443-創意-2023_02_07-群益-Buy.pdf is not posted by 元富投顧\n",
      "群益\\3443-創意-2023_02_07-群益-Buy.pdf None rate_1=None, rate_2=None\n",
      "群益\\3443_創意_群益_Buy.pdf is not posted by 元富投顧\n",
      "群益\\3443_創意_群益_Buy.pdf None rate_1=None, rate_2=None\n"
     ]
    },
    {
     "name": "stderr",
     "output_type": "stream",
     "text": [
      "100%|██████████| 222/222 [00:14<00:00, 15.48it/s]"
     ]
    },
    {
     "name": "stdout",
     "output_type": "stream",
     "text": [
      "共222件, 成功220件, 失敗2件, 成功率:99.1%\n"
     ]
    },
    {
     "name": "stderr",
     "output_type": "stream",
     "text": [
      "\n"
     ]
    }
   ],
   "source": [
    "zip_path = '群益'\n",
    "count_true = 0\n",
    "possible_rate = ['中立', '中立', '區間操作', '買進']\n",
    "for directory in tqdm(os.listdir(zip_path)):\n",
    "    directory_path = os.path.join(zip_path, directory)\n",
    "    rate_1 = None\n",
    "    rate_2 = None\n",
    "    rate = None\n",
    "    try:\n",
    "        # 使用with語句讀取PDF文件，確保在使用後自動關閉文件。\n",
    "        with fitz.open(directory_path) as doc:\n",
    "            mat = fitz.Matrix(1, 1)\n",
    "            page = doc.load_page(0)  # 加載文檔的第0頁\n",
    "            rect = page.rect\n",
    "            # 檢查是否由群益投顧出版\n",
    "            clip_check_source = fitz.Rect(0, 0.9*rect.height, rect.width, rect.height)\n",
    "            text_check_source = page.get_text(clip=clip_check_source)\n",
    "            if '群益投顧' in text_check_source :\n",
    "                # 檢查版本\n",
    "                clip_check_new_report = fitz.Rect(rect.width/2, 0, rect.width, 70)\n",
    "                text_check_new_report = page.get_text(clip=clip_check_new_report)\n",
    "                if '個股報告' in text_check_new_report :\n",
    "                    # 報告為新版個股報告 提取評價的第一種方法\n",
    "                    try:\n",
    "                        clip_new_report_1 = fitz.Rect(190, 105, rect.width, 160)\n",
    "                        text_new_report_1 = page.get_text(clip=clip_new_report_1).strip()\n",
    "                        text_new_report_1 = text_new_report_1.split(')')[1].strip()\n",
    "                        rate_1 = text_new_report_1.split('\\n')[0].strip()\n",
    "                    except:\n",
    "                        rate_1 = None\n",
    "                    # 報告為新版個股報告 提取評價的第二種方法\n",
    "                    try:\n",
    "                        clip_new_report_2 = fitz.Rect(400, 105, 565, 160)\n",
    "                        rate_2 = page.get_text(clip=clip_new_report_2).strip()\n",
    "                    except:\n",
    "                        rate_2 = None\n",
    "                    rate = check_rate_function(rate_1, rate_2, possible_rate)\n",
    "                elif '晨訊' in  text_check_new_report :\n",
    "                    rate = '晨訊'\n",
    "                else:\n",
    "                    rate = 'wrong'\n",
    "                    # print(f'{directory_path} is not 個股報告 or 拜訪快報')\n",
    "            else:\n",
    "                # False\n",
    "                print(f'{directory_path} is not posted by 元富投顧')\n",
    "    except:\n",
    "        print(directory_path, 'fail')\n",
    "\n",
    "    if '立' in str(rate):\n",
    "        str(rate).replace('立', '立')\n",
    "\n",
    "    if rate == 'NULL' :\n",
    "        print(directory_path, rate,\n",
    "                f'rate_1={rate_1}, rate_2={rate_2}')\n",
    "    elif rate == '晨訊':\n",
    "        count_true += 1\n",
    "    elif rate != None :\n",
    "        count_true += 1\n",
    "        # print(directory_path, rate,\n",
    "        #         f'rate_1={rate_1}, rate_2={rate_2}')\n",
    "    else :\n",
    "        print(directory_path, rate,\n",
    "                f'rate_1={rate_1}, rate_2={rate_2}')\n",
    "# 計算成功和失敗的數量並打印\n",
    "count_false = len(os.listdir(zip_path)) - count_true\n",
    "success_rate = round((count_true/len(os.listdir(zip_path))), 3)*100\n",
    "print(f'共{len(os.listdir(zip_path))}件, 成功{count_true}件, 失敗{count_false}件, 成功率:{success_rate}%')"
   ]
  },
  {
   "cell_type": "code",
   "execution_count": 22,
   "metadata": {},
   "outputs": [
    {
     "data": {
      "text/plain": [
       "False"
      ]
     },
     "execution_count": 22,
     "metadata": {},
     "output_type": "execute_result"
    }
   ],
   "source": [
    "'立' == '立'"
   ]
  },
  {
   "cell_type": "code",
   "execution_count": 23,
   "metadata": {},
   "outputs": [],
   "source": [
    "import fitz\n",
    "doc = fitz.open(r'群益\\8454-富邦媒-2023_02_22-群益-中立.pdf')\n",
    "mat = fitz.Matrix(1, 1)\n",
    "page = doc.load_page(0)  # loads page number 'pno' of the document (0-based)\n",
    "rect = page.rect\n",
    "pix = page.get_pixmap(matrix=mat, alpha=False)\n",
    "pix.save(\"page-%i.png\" % page.number)"
   ]
  },
  {
   "cell_type": "code",
   "execution_count": 24,
   "metadata": {},
   "outputs": [
    {
     "name": "stdout",
     "output_type": "stream",
     "text": [
      "True\n"
     ]
    }
   ],
   "source": [
    "# 檢查是否由群益投顧出版\n",
    "clip_check_source = fitz.Rect(0, 0.9*rect.height, rect.width, rect.height)\n",
    "pix = page.get_pixmap(matrix=mat, alpha=False, clip=clip_check_source)\n",
    "pix.save(\"page-clip_check_source.png\")\n",
    "text_check_source = page.get_text(clip=clip_check_source)\n",
    "if '群益投顧' in text_check_source :\n",
    "    print('True')"
   ]
  },
  {
   "cell_type": "code",
   "execution_count": 25,
   "metadata": {},
   "outputs": [
    {
     "name": "stdout",
     "output_type": "stream",
     "text": [
      "個股報告\n"
     ]
    }
   ],
   "source": [
    "# 檢查版本\n",
    "clip_check_new_report = fitz.Rect(rect.width/2, 0, rect.width, 70)\n",
    "pix = page.get_pixmap(matrix=mat, alpha=False, clip=clip_check_new_report)\n",
    "pix.save(\"page-clip_check_new_report.png\")\n",
    "text_check_new_report = page.get_text(clip=clip_check_new_report)\n",
    "if '個股報告' in text_check_new_report :\n",
    "    print('個股報告')\n",
    "else :\n",
    "    print('NULL')"
   ]
  },
  {
   "cell_type": "code",
   "execution_count": 26,
   "metadata": {},
   "outputs": [
    {
     "data": {
      "text/plain": [
       "'中立'"
      ]
     },
     "execution_count": 26,
     "metadata": {},
     "output_type": "execute_result"
    }
   ],
   "source": [
    "# 報告為新版個股報告 提取評價的第一種方法\n",
    "try:\n",
    "    clip_new_report_1 = fitz.Rect(190, 105, rect.width, 160)\n",
    "    text_new_report_1 = page.get_text(clip=clip_new_report_1).strip()\n",
    "    pix = page.get_pixmap(matrix=mat, alpha=False, clip=clip_new_report_1)\n",
    "    pix.save(\"page-clip_new_report_1.png\")\n",
    "    text_new_report_1 = text_new_report_1.split(')')[1].strip()\n",
    "    rate_1 = text_new_report_1.split('\\n')[0].strip()\n",
    "except:\n",
    "    rate_1 = None\n",
    "rate_1"
   ]
  },
  {
   "cell_type": "code",
   "execution_count": 27,
   "metadata": {},
   "outputs": [
    {
     "data": {
      "text/plain": [
       "'中立'"
      ]
     },
     "execution_count": 27,
     "metadata": {},
     "output_type": "execute_result"
    }
   ],
   "source": [
    "# 報告為新版個股報告 提取評價的第二種方法\n",
    "try:\n",
    "    clip_new_report_2 = fitz.Rect(400, 105, 565, 160)\n",
    "    rate_2 = page.get_text(clip=clip_new_report_2).strip()\n",
    "    pix = page.get_pixmap(matrix=mat, alpha=False, clip=clip_new_report_2)\n",
    "    pix.save(\"page-clip_new_report_2.png\")\n",
    "except:\n",
    "    rate_2 = None\n",
    "rate_2"
   ]
  }
 ],
 "metadata": {
  "kernelspec": {
   "display_name": "venv_stock",
   "language": "python",
   "name": "python3"
  },
  "language_info": {
   "codemirror_mode": {
    "name": "ipython",
    "version": 3
   },
   "file_extension": ".py",
   "mimetype": "text/x-python",
   "name": "python",
   "nbconvert_exporter": "python",
   "pygments_lexer": "ipython3",
   "version": "3.8.5"
  },
  "orig_nbformat": 4,
  "vscode": {
   "interpreter": {
    "hash": "ba787645ba8ce3b43ca5d5c1bc5ea17dd580ada22e1bd31731a2a86b718f16cf"
   }
  }
 },
 "nbformat": 4,
 "nbformat_minor": 2
}
