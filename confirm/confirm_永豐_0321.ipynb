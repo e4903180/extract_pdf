{
 "cells": [
  {
   "cell_type": "code",
   "execution_count": 1,
   "metadata": {},
   "outputs": [],
   "source": [
    "import os\n",
    "import fitz"
   ]
  },
  {
   "cell_type": "code",
   "execution_count": 2,
   "metadata": {},
   "outputs": [],
   "source": [
    "def check_rate_function(rate_1, rate_2, possible_rate):\n",
    "        # 檢查兩種方法提取的評價是否相同\n",
    "    if rate_1 == rate_2 and rate_1!= None:\n",
    "        return rate_1\n",
    "    else:\n",
    "        if rate_1 in possible_rate:\n",
    "            return rate_1\n",
    "        elif rate_2 in possible_rate:\n",
    "            return rate_2\n",
    "        else :\n",
    "            return 'NULL'\n",
    "            "
   ]
  },
  {
   "cell_type": "code",
   "execution_count": 7,
   "metadata": {},
   "outputs": [
    {
     "name": "stdout",
     "output_type": "stream",
     "text": [
      "永豐\\4958-臻鼎-KY-2023_03_13-永豐投顧- 茂矽 (N)、臻鼎-KY (4958 TT，N).pdf is not 個股報告\n",
      "永豐\\6840-東研信超-2023_02_14-永豐投顧- 台灣第二大本土專業檢測業者，營運穩健增長.pdf is not 個股報告\n",
      "共234件, 成功234件, 失敗0件, 成功率:100.0%\n"
     ]
    }
   ],
   "source": [
    "zip_path = '永豐'\n",
    "count_true = 0\n",
    "possible_rate = ['買進', '中立']\n",
    "rate_1 = None\n",
    "rate_2 = None\n",
    "for directory in os.listdir(zip_path):\n",
    "    directory_path = os.path.join(zip_path, directory)\n",
    "    try:\n",
    "        # 使用with語句讀取PDF文件，確保在使用後自動關閉文件。\n",
    "        with fitz.open(directory_path) as doc:\n",
    "            mat = fitz.Matrix(1, 1)\n",
    "            page = doc.load_page(0)  # 加載文檔的第0頁\n",
    "            rect = page.rect\n",
    "            try:\n",
    "                # 檢查是否由永豐投顧出版\n",
    "                page_check_source = doc.load_page(-1)\n",
    "                text_check_source = page_check_source.get_text()\n",
    "                if 'SinoPac Securities' or '永豐證券投資顧問股份有限公司' in text_check_source:\n",
    "                    if '永豐證券投資顧問股份有限公司' in text_check_source:\n",
    "                        # 報告為舊版\n",
    "                        try:\n",
    "                            # 裁剪並提取文本的第一種方法\n",
    "                            clip_old_version_1 = fitz.Rect(220, 80, 560, 140)\n",
    "                            text_old_version_1 = page.get_text(clip=clip_old_version_1).strip()\n",
    "                            text_old_version_1 = text_old_version_1.split('）')[1].strip()\n",
    "                            rate_1 = text_old_version_1.split('\\n')[1].strip()\n",
    "                        except:\n",
    "                            rate_1 = None\n",
    "                        try:\n",
    "                            # 裁剪文本的第二種方法\n",
    "                            clip_old_version_2 = fitz.Rect(425, 90, 560, 130)\n",
    "                            rate_2 = page.get_text(clip=clip_old_version_2).strip()\n",
    "                        except:\n",
    "                            rate_2 = None\n",
    "                    elif 'SinoPac Securities' in text_check_source:\n",
    "                        # 報告為新版\n",
    "                        # 檢查報告版本\n",
    "                        clip_check_report = fitz.Rect(0, 0, rect.width, 150)\n",
    "                        text_check_report = page.get_text(clip=clip_check_report, sort=True).strip()\n",
    "                        if '個股聚焦' in text_check_report:\n",
    "                            try:\n",
    "                                # 裁剪並提取文本的第一種方法\n",
    "                                clip_new_version_1 = fitz.Rect(0, 0, 200, 400)\n",
    "                                text_new_version_1 = page.get_text(clip=clip_new_version_1).strip()\n",
    "                                text_new_version_1 = text_new_version_1.split('投資建議')[1]\n",
    "                                rate_1 = text_new_version_1.split('\\n')[0].strip()\n",
    "                            # 如果出現任何錯誤，設置rate_1為None。\n",
    "                            except:\n",
    "                                rate_1 = None\n",
    "                            try:\n",
    "                                # 裁剪文本的第二種方法\n",
    "                                clip_new_version_2 = fitz.Rect(75, 200, 120, 235)\n",
    "                                text_new_version_1 = page.get_text(clip=clip_new_version_2).strip()\n",
    "                                rate_2 = text_new_version_1\n",
    "                            # 如果出現任何錯誤，設置rate_2為None。\n",
    "                            except:\n",
    "                                rate_2 = None\n",
    "                        else:\n",
    "                            # count_true+=1\n",
    "                            print(f'{directory_path} is not 個股報告')\n",
    "                            # pass\n",
    "                    else:\n",
    "                        rate_1 = None\n",
    "                        rate_2 = None\n",
    "                else:\n",
    "                    # False\n",
    "                    print(f'{directory_path} is not posted by 永豐投顧')            \n",
    "            except:\n",
    "                print(directory_path, 'fail')\n",
    "        rate = check_rate_function(rate_1, rate_2, possible_rate)\n",
    "        if rate == 'NULL' :\n",
    "            print(directory_path, rate,\n",
    "                    f'rate_1={rate_1}, rate_2={rate_2}')\n",
    "        elif rate != None :\n",
    "            count_true += 1\n",
    "            # print(directory_path, rate,\n",
    "            #         f'rate_1={rate_1}, rate_2={rate_2}')\n",
    "        else :\n",
    "            print(directory_path, rate,\n",
    "                    f'rate_1={rate_1}, rate_2={rate_2}')\n",
    "        if rate not in possible_rate and rate != 'NULL':\n",
    "            possible_rate.append(rate)\n",
    "    except:\n",
    "        print(directory_path, 'fail')\n",
    "\n",
    "# 計算成功和失敗的數量並打印\n",
    "count_false = len(os.listdir(zip_path)) - count_true\n",
    "success_rate = round((count_true/len(os.listdir(zip_path))), 3)*100\n",
    "print(f'共{len(os.listdir(zip_path))}件, 成功{count_true}件, 失敗{count_false}件, 成功率:{success_rate}%')"
   ]
  },
  {
   "cell_type": "code",
   "execution_count": 8,
   "metadata": {},
   "outputs": [
    {
     "data": {
      "text/plain": [
       "['買進', '中立']"
      ]
     },
     "execution_count": 8,
     "metadata": {},
     "output_type": "execute_result"
    }
   ],
   "source": [
    "possible_rate"
   ]
  },
  {
   "cell_type": "code",
   "execution_count": null,
   "metadata": {},
   "outputs": [],
   "source": [
    "# # check header\n",
    "# zip_path = '永豐'\n",
    "# count_true = 0\n",
    "\n",
    "# for directory in os.listdir(zip_path):\n",
    "#     directory_path = os.path.join(zip_path, directory)\n",
    "#     try:\n",
    "#         # 使用with語句讀取PDF文件，確保在使用後自動關閉文件。\n",
    "#         with fitz.open(directory_path) as doc:\n",
    "#             mat = fitz.Matrix(1, 1)\n",
    "#             page = doc.load_page(-1)  # 加載文檔的第-1頁\n",
    "#             rect = page.rect\n",
    "#             try:\n",
    "#                 clip = fitz.Rect(0, 0, rect.width, rect.height)\n",
    "#                 text = page.get_text(clip=clip)\n",
    "#                 if '中國信託金融控股' or '中信投顧投資分析報告' in text :\n",
    "#                     count_true+=1\n",
    "#                     # print(directory_path, 'True')\n",
    "#                 else:\n",
    "#                     print(directory_path, 'False')\n",
    "#             except:\n",
    "#                 pass\n",
    "#     except:\n",
    "#         print(directory_path, 'fail')\n",
    "\n",
    "# # 計算成功和失敗的數量並打印\n",
    "# count_false = len(os.listdir(zip_path)) - count_true\n",
    "# print(f'共{len(os.listdir(zip_path))}件, 成功{count_true}件, 失敗{count_false}件')"
   ]
  },
  {
   "cell_type": "code",
   "execution_count": 106,
   "metadata": {},
   "outputs": [],
   "source": [
    "import fitz\n",
    "doc = fitz.open(r'../file/永豐/1464_得力_2019-05-24_永豐_得力(1464)-買進.pdf')\n",
    "mat = fitz.Matrix(1, 1)\n",
    "page = doc.load_page(0)  # loads page number 'pno' of the document (0-based)\n",
    "rect = page.rect\n",
    "pix = page.get_pixmap(matrix=mat, alpha=False)\n",
    "pix.save(\"page-%i.png\" % page.number)"
   ]
  },
  {
   "cell_type": "code",
   "execution_count": 107,
   "metadata": {},
   "outputs": [
    {
     "name": "stdout",
     "output_type": "stream",
     "text": [
      "True\n"
     ]
    }
   ],
   "source": [
    "page_check_source = doc.load_page(-1)\n",
    "clip_check_source = fitz.Rect(0, 0, rect.width, rect.height)\n",
    "pix = page_check_source.get_pixmap(matrix=mat, alpha=False, clip=clip_check_source)\n",
    "pix.save(\"page-clip_check_source.png\")\n",
    "text_check_source = page_check_source.get_text(clip=clip_check_source)\n",
    "if 'SinoPac Securities' or '永豐證券投資顧問股份有限公司' in text_check_source :\n",
    "    print('True')"
   ]
  },
  {
   "cell_type": "code",
   "execution_count": 108,
   "metadata": {},
   "outputs": [],
   "source": [
    "# 檢查報告版本\n",
    "if 'SinoPac Securities' in text_check_source:\n",
    "   print('報告為新版')\n",
    "elif '永豐證券投資顧問股份有限公司' in text_check_source:\n",
    "   print('報告為舊版')"
   ]
  },
  {
   "cell_type": "code",
   "execution_count": 109,
   "metadata": {},
   "outputs": [
    {
     "data": {
      "text/plain": [
       "'力(1464) \\nP 30 (潛在報酬 20%)\\n2019/05/24'"
      ]
     },
     "execution_count": 109,
     "metadata": {},
     "output_type": "execute_result"
    }
   ],
   "source": [
    "# 報告為舊版\n",
    "try:\n",
    "    clip_old_version_1 = fitz.Rect(220, 80, 560, 140)\n",
    "    pix = page.get_pixmap(matrix=mat, alpha=False, clip=clip_old_version_1)\n",
    "    pix.save(\"page-clip_old_version_1.png\")\n",
    "    text_old_version_1 = page.get_text(clip=clip_old_version_1).strip()\n",
    "    text_old_version_1 = text_old_version_1.split('）')[1].strip()\n",
    "    rate_1 = text_old_version_1.split('\\n')[1].strip()\n",
    "except:\n",
    "    rate_1 = None\n",
    "text_old_version_1"
   ]
  },
  {
   "cell_type": "code",
   "execution_count": 110,
   "metadata": {},
   "outputs": [
    {
     "data": {
      "text/plain": [
       "''"
      ]
     },
     "execution_count": 110,
     "metadata": {},
     "output_type": "execute_result"
    }
   ],
   "source": [
    "# 報告為舊版\n",
    "try:\n",
    "    clip_old_version_2 = fitz.Rect(425, 90, 560, 130)\n",
    "    pix = page.get_pixmap(matrix=mat, alpha=False, clip=clip_old_version_2)\n",
    "    pix.save(\"page-clip_old_version_2.png\")\n",
    "    rate_2 = page.get_text(clip=clip_old_version_2).strip()\n",
    "except:\n",
    "    rate_2 = None\n",
    "rate_2"
   ]
  },
  {
   "cell_type": "code",
   "execution_count": 111,
   "metadata": {},
   "outputs": [],
   "source": [
    "# 報告為舊版\n",
    "try:\n",
    "    clip_old_version_1 = fitz.Rect(130, 100, 200, 160)\n",
    "    pix = page.get_pixmap(matrix=mat, alpha=False, clip=clip_old_version_1)\n",
    "    pix.save(\"page-clip_old_version_1.png\")\n",
    "    text_old_version_1 = page.get_text(clip=clip_old_version_1).strip()\n",
    "    text_old_version_1 = text_old_version_1.split('$')[1].strip()\n",
    "    tp_1 = text_old_version_1.split('\\n')[0].strip()\n",
    "except:\n",
    "    tp_1 = None\n",
    "tp_1"
   ]
  },
  {
   "cell_type": "code",
   "execution_count": 112,
   "metadata": {},
   "outputs": [],
   "source": [
    "# 報告為舊版\n",
    "try:\n",
    "    clip_old_version_2 = fitz.Rect(130, 140, 200, 160)\n",
    "    pix = page.get_pixmap(matrix=mat, alpha=False, clip=clip_old_version_2)\n",
    "    pix.save(\"page-clip_old_version_2.png\")\n",
    "    text_old_version_2 = page.get_text(clip=clip_old_version_2).strip()\n",
    "    tp_2 = text_old_version_2.split('$')[1].strip()\n",
    "except:\n",
    "    tp_2 = None\n",
    "tp_2"
   ]
  },
  {
   "cell_type": "code",
   "execution_count": 113,
   "metadata": {},
   "outputs": [],
   "source": [
    "# 報告為新版\n",
    "try:\n",
    "    # 裁剪並提取文本的第一種方法\n",
    "    clip_new_version_1 = fitz.Rect(0, 0, 200, 400)\n",
    "    pix = page.get_pixmap(matrix=mat, alpha=False, clip=clip_new_version_1)\n",
    "    pix.save(\"page-clip_new_version_1.png\")\n",
    "    text_new_version_1 = page.get_text(clip=clip_new_version_1, sort=True).strip()\n",
    "    text_new_version_1 = text_new_version_1.split('投資建議')[1]\n",
    "    rate_1 = text_new_version_1.split('\\n')[0].strip()\n",
    "# 如果出現任何錯誤，設置rate_1和rate_2為None。\n",
    "except:\n",
    "    rate_1 = None\n",
    "rate_1"
   ]
  },
  {
   "cell_type": "code",
   "execution_count": 114,
   "metadata": {},
   "outputs": [
    {
     "data": {
      "text/plain": [
       "'rget Price'"
      ]
     },
     "execution_count": 114,
     "metadata": {},
     "output_type": "execute_result"
    }
   ],
   "source": [
    "# 報告為新版\n",
    "try:\n",
    "    # 裁剪文本的第二種方法\n",
    "    clip_new_version_2 = fitz.Rect(75, 200, 120, 235)\n",
    "    pix = page.get_pixmap(matrix=mat, alpha=False, clip=clip_new_version_2)\n",
    "    pix.save(\"page-clip_new_version_2.png\")\n",
    "    text_new_version_1 = page.get_text(clip=clip_new_version_2).strip()\n",
    "    rate_2 = text_new_version_1\n",
    "# 如果出現任何錯誤，設置rate_2為None。\n",
    "except:\n",
    "    rate_2 = None\n",
    "rate_2"
   ]
  },
  {
   "cell_type": "code",
   "execution_count": 115,
   "metadata": {},
   "outputs": [],
   "source": [
    "# 報告為新版\n",
    "try:\n",
    "    # 裁剪並提取文本的第一種方法\n",
    "    clip_new_version_1 = fitz.Rect(115, 0, 200, 300)\n",
    "    pix = page.get_pixmap(matrix=mat, alpha=False, clip=clip_new_version_1)\n",
    "    pix.save(\"page-clip_new_version_1.png\")\n",
    "    text_new_version_1 = page.get_text(clip=clip_new_version_1, sort=True).strip()\n",
    "    text_new_version_1 = text_new_version_1.split('NT$')[1]\n",
    "    tp_1 = text_new_version_1.split('\\n')[0].strip()\n",
    "# 如果出現任何錯誤，設置rate_1和rate_2為None。\n",
    "except:\n",
    "    tp_1 = None\n",
    "tp_1"
   ]
  },
  {
   "cell_type": "code",
   "execution_count": 116,
   "metadata": {},
   "outputs": [],
   "source": [
    "# 報告為新版\n",
    "try:\n",
    "    # 裁剪文本的第二種方法\n",
    "    clip_new_version_2 = fitz.Rect(115, 235, 200, 270)\n",
    "    pix = page.get_pixmap(matrix=mat, alpha=False, clip=clip_new_version_2)\n",
    "    pix.save(\"page-clip_new_version_2.png\")\n",
    "    text_new_version_2 = page.get_text(clip=clip_new_version_2).strip()\n",
    "    tp_2 = text_new_version_2.split('NT$')[1].strip()\n",
    "# 如果出現任何錯誤，設置rate_2為None。\n",
    "except:\n",
    "    tp_2 = None\n",
    "tp_2"
   ]
  },
  {
   "cell_type": "code",
   "execution_count": 117,
   "metadata": {},
   "outputs": [
    {
     "data": {
      "text/plain": [
       "False"
      ]
     },
     "execution_count": 117,
     "metadata": {},
     "output_type": "execute_result"
    }
   ],
   "source": [
    "'29.5'.isnumeric()"
   ]
  },
  {
   "cell_type": "code",
   "execution_count": 118,
   "metadata": {},
   "outputs": [],
   "source": [
    "def check_float(element):\n",
    "    partition = element.partition('.')\n",
    "    print(partition)\n",
    "    \n",
    "    if element.isdigit():\n",
    "      newelement = float(element)\n",
    "      print('string is valid')\n",
    "\n",
    "    elif (partition[0].isdigit() and partition[1] == '.' and partition[2].isdigit()) or (partition[0] == '' and partition[1] == '.' and partition[2].isdigit()) or (partition[0].isdigit() and partition[1] == '.' and partition[2] == ''):\n",
    "            newelement = float(element)\n",
    "            print(newelement)\n",
    "            print(\"String is also valid !\")\n",
    "    else:\n",
    "        print(\"string is not valid !\")\n"
   ]
  }
 ],
 "metadata": {
  "kernelspec": {
   "display_name": "venv_stock",
   "language": "python",
   "name": "python3"
  },
  "language_info": {
   "codemirror_mode": {
    "name": "ipython",
    "version": 3
   },
   "file_extension": ".py",
   "mimetype": "text/x-python",
   "name": "python",
   "nbconvert_exporter": "python",
   "pygments_lexer": "ipython3",
   "version": "3.11.1"
  },
  "orig_nbformat": 4,
  "vscode": {
   "interpreter": {
    "hash": "ba787645ba8ce3b43ca5d5c1bc5ea17dd580ada22e1bd31731a2a86b718f16cf"
   }
  }
 },
 "nbformat": 4,
 "nbformat_minor": 2
}
