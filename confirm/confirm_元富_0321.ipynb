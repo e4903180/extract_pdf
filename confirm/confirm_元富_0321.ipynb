{
 "cells": [
  {
   "cell_type": "code",
   "execution_count": 1,
   "metadata": {},
   "outputs": [],
   "source": [
    "import os\n",
    "import fitz\n",
    "from tqdm import tqdm"
   ]
  },
  {
   "cell_type": "code",
   "execution_count": 2,
   "metadata": {},
   "outputs": [],
   "source": [
    "def check_rate_function(rate_1, rate_2, possible_rate):\n",
    "        # 檢查兩種方法提取的評價是否相同\n",
    "    if rate_1 == rate_2 and rate_1!= None:\n",
    "        return rate_1\n",
    "    else:\n",
    "        if rate_1 in possible_rate:\n",
    "            return rate_1\n",
    "        elif rate_2 in possible_rate:\n",
    "            return rate_2\n",
    "        else :\n",
    "            return 'NULL'\n",
    "            "
   ]
  },
  {
   "cell_type": "code",
   "execution_count": 3,
   "metadata": {},
   "outputs": [
    {
     "name": "stderr",
     "output_type": "stream",
     "text": [
      "  8%|▊         | 169/2216 [00:21<04:15,  8.00it/s]"
     ]
    },
    {
     "name": "stdout",
     "output_type": "stream",
     "text": [
      "..\\file\\元富\\1710_東聯_2018-09-04_元富_1710東聯20180904-報告.pdf wrong text_check_new_report=, text_check_old_fast_report=\n"
     ]
    },
    {
     "name": "stderr",
     "output_type": "stream",
     "text": [
      "  9%|▉         | 210/2216 [00:26<02:59, 11.20it/s]"
     ]
    },
    {
     "name": "stdout",
     "output_type": "stream",
     "text": [
      "..\\file\\元富\\1789_神隆_2018-02-26_元富_1789神隆20180226-報告.pdf wrong text_check_new_report=, text_check_old_fast_report=\n"
     ]
    },
    {
     "name": "stderr",
     "output_type": "stream",
     "text": [
      " 10%|▉         | 218/2216 [00:27<03:09, 10.55it/s]"
     ]
    },
    {
     "name": "stdout",
     "output_type": "stream",
     "text": [
      "..\\file\\元富\\1795_美時_2018-10-17_元富_美時(1795)-20181017-速報.pdf wrong text_check_new_report=, text_check_old_fast_report=\n"
     ]
    },
    {
     "name": "stderr",
     "output_type": "stream",
     "text": [
      " 11%|█         | 233/2216 [00:28<02:53, 11.42it/s]"
     ]
    },
    {
     "name": "stdout",
     "output_type": "stream",
     "text": [
      "..\\file\\元富\\2002_中鋼_2018-09-07_元富_中鋼(2002)-20180907-速報.pdf wrong text_check_new_report=, text_check_old_fast_report=  \n",
      " \n",
      "\n"
     ]
    },
    {
     "name": "stderr",
     "output_type": "stream",
     "text": [
      " 12%|█▏        | 256/2216 [00:31<04:25,  7.38it/s]"
     ]
    },
    {
     "name": "stdout",
     "output_type": "stream",
     "text": [
      "..\\file\\元富\\2027_大成鋼_2018-10-17_元富_大成鋼(2027)-20181017-速報.pdf wrong text_check_new_report=, text_check_old_fast_report=\n"
     ]
    },
    {
     "name": "stderr",
     "output_type": "stream",
     "text": [
      " 16%|█▌        | 352/2216 [00:40<02:53, 10.77it/s]"
     ]
    },
    {
     "name": "stdout",
     "output_type": "stream",
     "text": [
      "..\\file\\元富\\2308_台達電_2018-08-02_元富_台達電(2308)-20180802-速報.pdf wrong text_check_new_report=, text_check_old_fast_report=  \n",
      " \n",
      "\n"
     ]
    },
    {
     "name": "stderr",
     "output_type": "stream",
     "text": [
      " 23%|██▎       | 520/2216 [00:56<03:09,  8.94it/s]"
     ]
    },
    {
     "name": "stdout",
     "output_type": "stream",
     "text": [
      "..\\file\\元富\\2408_南亞科_2018-10-17_元富_南亞科(2408)-20181017-速報.pdf wrong text_check_new_report=, text_check_old_fast_report=\n"
     ]
    },
    {
     "name": "stderr",
     "output_type": "stream",
     "text": [
      " 26%|██▋       | 582/2216 [01:02<04:20,  6.27it/s]"
     ]
    },
    {
     "name": "stdout",
     "output_type": "stream",
     "text": [
      "..\\file\\元富\\2448_晶電_2018-10-16_元富_晶電(2448)-20181016-速報.pdf wrong text_check_new_report=, text_check_old_fast_report=\n"
     ]
    },
    {
     "name": "stderr",
     "output_type": "stream",
     "text": [
      " 27%|██▋       | 593/2216 [01:03<02:23, 11.32it/s]"
     ]
    },
    {
     "name": "stdout",
     "output_type": "stream",
     "text": [
      "..\\file\\元富\\2454_聯發科_2018-08-01_元富_聯發科(2454)-20180801-速報.pdf wrong text_check_new_report=, text_check_old_fast_report=  \n",
      " \n",
      "\n",
      "..\\file\\元富\\2454_聯發科_2018-08-02_元富_2454聯發科20180802-報告.pdf wrong text_check_new_report=, text_check_old_fast_report=\n"
     ]
    },
    {
     "name": "stderr",
     "output_type": "stream",
     "text": [
      " 29%|██▊       | 636/2216 [01:08<02:15, 11.65it/s]"
     ]
    },
    {
     "name": "stdout",
     "output_type": "stream",
     "text": [
      "..\\file\\元富\\2481_強茂_2018-08-01_元富_2481強茂20180801-報告.pdf wrong text_check_new_report=, text_check_old_fast_report=\n",
      "..\\file\\元富\\2481_強茂_2018-08-01_元富_強茂(2481)-20180801-速報.pdf wrong text_check_new_report=, text_check_old_fast_report=  \n",
      " \n",
      "\n"
     ]
    },
    {
     "name": "stderr",
     "output_type": "stream",
     "text": [
      " 31%|███       | 679/2216 [01:12<02:19, 11.01it/s]"
     ]
    },
    {
     "name": "stdout",
     "output_type": "stream",
     "text": [
      "..\\file\\元富\\2633_台灣高鐵_2018-03-26_元富_台灣高鐵(2633)-20180326-速報.pdf wrong text_check_new_report=, text_check_old_fast_report=  \n",
      " \n",
      "\n"
     ]
    },
    {
     "name": "stderr",
     "output_type": "stream",
     "text": [
      " 36%|███▌      | 800/2216 [01:28<02:48,  8.42it/s]"
     ]
    },
    {
     "name": "stdout",
     "output_type": "stream",
     "text": [
      "..\\file\\元富\\3008_大立光_2018-07-13_元富_3008大立光20180713-報告.pdf wrong text_check_new_report=, text_check_old_fast_report=\n",
      "..\\file\\元富\\3008_大立光_2018-07-16_元富_3008大立光20180713-報告.pdf wrong text_check_new_report=, text_check_old_fast_report=\n",
      "..\\file\\元富\\3008_大立光_2018-10-12_元富_大立光(3008)-20181012-速報.pdf wrong text_check_new_report=, text_check_old_fast_report=\n"
     ]
    },
    {
     "name": "stderr",
     "output_type": "stream",
     "text": [
      " 37%|███▋      | 817/2216 [01:30<01:36, 14.43it/s]"
     ]
    },
    {
     "name": "stdout",
     "output_type": "stream",
     "text": [
      "..\\file\\元富\\3017_奇鋐_2018-03-26_元富_3017奇鋐20180326-報告.pdf wrong text_check_new_report=, text_check_old_fast_report=\n"
     ]
    },
    {
     "name": "stderr",
     "output_type": "stream",
     "text": [
      " 40%|███▉      | 881/2216 [01:34<01:24, 15.82it/s]"
     ]
    },
    {
     "name": "stdout",
     "output_type": "stream",
     "text": [
      "..\\file\\元富\\3081_聯亞_2018-08-01_元富_3081聯亞20180801-報告.pdf wrong text_check_new_report=, text_check_old_fast_report=\n"
     ]
    },
    {
     "name": "stderr",
     "output_type": "stream",
     "text": [
      " 43%|████▎     | 952/2216 [01:40<01:36, 13.11it/s]"
     ]
    },
    {
     "name": "stdout",
     "output_type": "stream",
     "text": [
      "..\\file\\元富\\3231_緯創_2018-08-01_元富_緯創(3231)-20180801-速報.pdf wrong text_check_new_report=, text_check_old_fast_report=  \n",
      " \n",
      "\n",
      "..\\file\\元富\\3231_緯創_2018-08-02_元富_3231緯創20180802-報告.pdf wrong text_check_new_report=, text_check_old_fast_report=\n"
     ]
    },
    {
     "name": "stderr",
     "output_type": "stream",
     "text": [
      " 45%|████▌     | 1005/2216 [01:46<01:48, 11.20it/s]"
     ]
    },
    {
     "name": "stdout",
     "output_type": "stream",
     "text": [
      "..\\file\\元富\\3413_京鼎_2018-10-17_元富_京鼎(3413)-20181017-速報.pdf wrong text_check_new_report=, text_check_old_fast_report=\n"
     ]
    },
    {
     "name": "stderr",
     "output_type": "stream",
     "text": [
      " 47%|████▋     | 1045/2216 [01:50<01:36, 12.17it/s]"
     ]
    },
    {
     "name": "stdout",
     "output_type": "stream",
     "text": [
      "..\\file\\元富\\3519_綠能_2018-08-01_元富_綠能(3519)-20180801-速報.pdf wrong text_check_new_report=, text_check_old_fast_report=  \n",
      " \n",
      "\n"
     ]
    },
    {
     "name": "stderr",
     "output_type": "stream",
     "text": [
      " 49%|████▉     | 1090/2216 [01:55<01:32, 12.23it/s]"
     ]
    },
    {
     "name": "stdout",
     "output_type": "stream",
     "text": [
      "..\\file\\元富\\3611_鼎漢_元富_買進.pdf is not posted by 元富投顧\n",
      "..\\file\\元富\\3611_鼎漢_元富_買進.pdf None rate_1=None, rate_2=None\n"
     ]
    },
    {
     "name": "stderr",
     "output_type": "stream",
     "text": [
      " 52%|█████▏    | 1147/2216 [02:00<01:45, 10.13it/s]"
     ]
    },
    {
     "name": "stdout",
     "output_type": "stream",
     "text": [
      "..\\file\\元富\\3708_上緯_2018-08-29_元富_3708上緯投控20180829-報告.pdf wrong text_check_new_report=, text_check_old_fast_report=\n"
     ]
    },
    {
     "name": "stderr",
     "output_type": "stream",
     "text": [
      " 55%|█████▍    | 1213/2216 [02:06<01:26, 11.62it/s]"
     ]
    },
    {
     "name": "stdout",
     "output_type": "stream",
     "text": [
      "..\\file\\元富\\4147_中裕_2018-03-09_元富_4147中裕20180308-報告.pdf wrong text_check_new_report=, text_check_old_fast_report=\n"
     ]
    },
    {
     "name": "stderr",
     "output_type": "stream",
     "text": [
      " 57%|█████▋    | 1273/2216 [02:12<01:43,  9.09it/s]"
     ]
    },
    {
     "name": "stdout",
     "output_type": "stream",
     "text": [
      "..\\file\\元富\\4555_氣立_2018-03-26_元富_氣立(4555)-20180326-速報.pdf wrong text_check_new_report=, text_check_old_fast_report=  \n",
      " \n",
      "\n"
     ]
    },
    {
     "name": "stderr",
     "output_type": "stream",
     "text": [
      " 66%|██████▋   | 1469/2216 [02:37<00:58, 12.67it/s]"
     ]
    },
    {
     "name": "stdout",
     "output_type": "stream",
     "text": [
      "..\\file\\元富\\5288_豐祥-KY_2018-06-28_元富_5288豐祥-KY20180628-報告.pdf wrong text_check_new_report=, text_check_old_fast_report=\n"
     ]
    },
    {
     "name": "stderr",
     "output_type": "stream",
     "text": [
      " 68%|██████▊   | 1501/2216 [02:40<01:05, 10.92it/s]"
     ]
    },
    {
     "name": "stdout",
     "output_type": "stream",
     "text": [
      "..\\file\\元富\\5371_中光電_2018-07-25_元富_5371中光電20180725-報告.pdf wrong text_check_new_report=    中光電(5371)\n",
      ", text_check_old_fast_report= BUY\n",
      "期待 2019 年 \n",
      "\n"
     ]
    },
    {
     "name": "stderr",
     "output_type": "stream",
     "text": [
      " 69%|██████▉   | 1535/2216 [02:43<00:58, 11.59it/s]"
     ]
    },
    {
     "name": "stdout",
     "output_type": "stream",
     "text": [
      "..\\file\\元富\\5483_中美晶_2018-04-16_元富_5483中美晶20180416-報告.pdf wrong text_check_new_report=, text_check_old_fast_report=\n"
     ]
    },
    {
     "name": "stderr",
     "output_type": "stream",
     "text": [
      " 71%|███████   | 1571/2216 [02:49<00:57, 11.15it/s]"
     ]
    },
    {
     "name": "stdout",
     "output_type": "stream",
     "text": [
      "..\\file\\元富\\6121_新普_2018-10-11_元富_新普(6121)-20181011-速報.pdf wrong text_check_new_report=, text_check_old_fast_report=\n"
     ]
    },
    {
     "name": "stderr",
     "output_type": "stream",
     "text": [
      " 74%|███████▎  | 1630/2216 [02:55<00:59,  9.90it/s]"
     ]
    },
    {
     "name": "stdout",
     "output_type": "stream",
     "text": [
      "..\\file\\元富\\6202_盛群_2018-08-01_元富_6202盛群20180801-報告.pdf wrong text_check_new_report=, text_check_old_fast_report=\n"
     ]
    },
    {
     "name": "stderr",
     "output_type": "stream",
     "text": [
      " 82%|████████▏ | 1828/2216 [03:14<00:32, 11.91it/s]"
     ]
    },
    {
     "name": "stdout",
     "output_type": "stream",
     "text": [
      "..\\file\\元富\\6496_科懋_2018-03-26_元富_科懋(6496)-20180326-速報.pdf wrong text_check_new_report=, text_check_old_fast_report=  \n",
      " \n",
      "\n"
     ]
    },
    {
     "name": "stderr",
     "output_type": "stream",
     "text": [
      " 85%|████████▍ | 1883/2216 [03:19<00:28, 11.68it/s]"
     ]
    },
    {
     "name": "stdout",
     "output_type": "stream",
     "text": [
      "..\\file\\元富\\6576_逸達_2018-08-01_元富_逸達(6576)-20180801-速報.pdf wrong text_check_new_report=, text_check_old_fast_report=  \n",
      " \n",
      "\n",
      "..\\file\\元富\\6581_鋼聯_2018-08-01_元富_鋼聯(6581)-20180801-速報.pdf wrong text_check_new_report=, text_check_old_fast_report=  \n",
      " \n",
      "\n"
     ]
    },
    {
     "name": "stderr",
     "output_type": "stream",
     "text": [
      " 91%|█████████ | 2017/2216 [03:31<00:16, 12.34it/s]"
     ]
    },
    {
     "name": "stdout",
     "output_type": "stream",
     "text": [
      "..\\file\\元富\\8215_明基材_2018-10-16_元富_明基材(8215)-20181016-速報.pdf wrong text_check_new_report=, text_check_old_fast_report=\n"
     ]
    },
    {
     "name": "stderr",
     "output_type": "stream",
     "text": [
      " 94%|█████████▍| 2094/2216 [03:38<00:09, 13.15it/s]"
     ]
    },
    {
     "name": "stdout",
     "output_type": "stream",
     "text": [
      "..\\file\\元富\\8444_綠河-KY_2018-06-28_元富_8444綠河-KY20180628-報告.pdf wrong text_check_new_report=, text_check_old_fast_report=\n"
     ]
    },
    {
     "name": "stderr",
     "output_type": "stream",
     "text": [
      " 95%|█████████▌| 2112/2216 [03:40<00:07, 14.49it/s]"
     ]
    },
    {
     "name": "stdout",
     "output_type": "stream",
     "text": [
      "..\\file\\元富\\8464_億豐_2018-08-17_元富_8464億豐20180817-報告.pdf wrong text_check_new_report=, text_check_old_fast_report=\n",
      "..\\file\\元富\\8464_億豐_2018-08-20_元富_8464億豐20180817-報告.pdf wrong text_check_new_report=, text_check_old_fast_report=\n"
     ]
    },
    {
     "name": "stderr",
     "output_type": "stream",
     "text": [
      " 99%|█████████▉| 2194/2216 [03:49<00:01, 11.57it/s]"
     ]
    },
    {
     "name": "stdout",
     "output_type": "stream",
     "text": [
      "..\\file\\元富\\9939_宏全_2018-08-14_元富_9939宏全20180814-報告.pdf wrong text_check_new_report=, text_check_old_fast_report=\n",
      "..\\file\\元富\\9939_宏全_2018-08-15_元富_9939宏全20180814-報告.pdf wrong text_check_new_report=, text_check_old_fast_report=\n"
     ]
    },
    {
     "name": "stderr",
     "output_type": "stream",
     "text": [
      "100%|██████████| 2216/2216 [03:51<00:00,  9.57it/s]"
     ]
    },
    {
     "name": "stdout",
     "output_type": "stream",
     "text": [
      "共2216件, 成功2176件, 失敗40件, 成功率:98.2%\n"
     ]
    },
    {
     "name": "stderr",
     "output_type": "stream",
     "text": [
      "\n"
     ]
    }
   ],
   "source": [
    "zip_path = r'..\\file\\元富'\n",
    "count_true = 0\n",
    "possible_rate = ['維持買進', 'BUY', '評等中立', '維持中立', 'HOLD', '中立轉買進', \n",
    "                 'Upgrade to BUY', '買進轉中立', 'Downgrade to HOLD', '評等買進', \n",
    "                 'UPGRADE TO BUY', 'Upgrade To BUY', '買進轉強力買進', '維持強力買進', \n",
    "                 'STRONG BUY', 'Upgarde to BUY']\n",
    "for directory in tqdm(os.listdir(zip_path)):\n",
    "    directory_path = os.path.join(zip_path, directory)\n",
    "    rate_1 = None\n",
    "    rate_2 = None\n",
    "    rate = None\n",
    "    try:\n",
    "        # 使用with語句讀取PDF文件，確保在使用後自動關閉文件。\n",
    "        with fitz.open(directory_path) as doc:\n",
    "            mat = fitz.Matrix(1, 1)\n",
    "            page = doc.load_page(0)  # 加載文檔的第0頁\n",
    "            rect = page.rect\n",
    "            # 檢查是否由元富投顧出版\n",
    "            clip_check_source = fitz.Rect(0, rect.height/2, rect.width, rect.height)\n",
    "            text_check_source = page.get_text(clip=clip_check_source)\n",
    "            if '本刊載之報告為元富投顧於特定日期之分析' in text_check_source or 'MasterLink Research' in text_check_source :\n",
    "                # 檢查版本\n",
    "                clip_check_new_report = fitz.Rect(rect.width/2, 0, rect.width, 70)\n",
    "                text_check_new_report = page.get_text(clip=clip_check_new_report)\n",
    "                clip_check_old_fast_report = fitz.Rect(rect.width/2, 50, rect.width, 150)\n",
    "                text_check_old_report = text_check_new_report\n",
    "                text_check_old_fast_report = page.get_text(clip=clip_check_old_fast_report)\n",
    "                check_old_report = ['公司訪談報告', '評等調整', '訪談報告']\n",
    "                check_new_report = ['公司拜訪報告', '個股報告', '評等調升報告']\n",
    "                if any(keyword in text_check_old_report for keyword in check_old_report):\n",
    "                    # 報告為舊版個股報告 提取評價的第一種方法\n",
    "                    try:\n",
    "                        clip_old_report_1 = fitz.Rect(0, 0, rect.width, 120)\n",
    "                        text_old_report_1 = page.get_text(clip=clip_old_report_1).strip()\n",
    "                        pix = page.get_pixmap(matrix=mat, alpha=False, clip=clip_old_report_1)\n",
    "                        pix.save(\"page-clip_old_report_1.png\")\n",
    "                        text_old_report_1 = text_old_report_1.split(')')[1].strip()\n",
    "                        rate_1 = text_old_report_1.split('\\n')[0].strip()\n",
    "                    except:\n",
    "                        rate_1 = None\n",
    "                    # 報告為舊版個股報告 提取評價的第二種方法\n",
    "                    try:\n",
    "                        clip_old_report_2 = fitz.Rect(250, 60, rect.width, 110)\n",
    "                        rate_2 = page.get_text(clip=clip_old_report_2).strip()\n",
    "                    except:\n",
    "                        rate_2 = None\n",
    "                    rate = check_rate_function(rate_1, rate_2, possible_rate)\n",
    "                elif '公司拜訪快報' in text_check_old_fast_report :\n",
    "                # 報告為舊版公司拜訪快報 提取評價的第一種方法\n",
    "                    try:\n",
    "                        clip_old_fast_report_1 = fitz.Rect(0, 0, rect.width, 200)\n",
    "                        text_old_fast_report_1 = page.get_text(clip=clip_old_fast_report_1).strip()\n",
    "                        text_old_fast_report_1 = text_old_fast_report_1.split('建議：')[1].strip()\n",
    "                        rate_1 = text_old_fast_report_1.split('\\n')[0].strip()\n",
    "                    except:\n",
    "                        rate_1 = None\n",
    "                    # 報告為舊版公司拜訪快報 提取評價的第二種方法\n",
    "                    try:\n",
    "                        clip_old_fast_report_2 = fitz.Rect(70, 140, rect.width, 170)\n",
    "                        rate_2 = page.get_text(clip=clip_old_fast_report_2).strip()\n",
    "                    except:\n",
    "                        rate_2 = None\n",
    "                    rate = check_rate_function(rate_1, rate_2, possible_rate)\n",
    "                elif any(keyword in text_check_new_report for keyword in check_new_report):\n",
    "                    # 報告為新版個股報告 提取評價的第一種方法\n",
    "                    try:\n",
    "                        clip_new_report_1 = fitz.Rect(0, 0, rect.width, 120)\n",
    "                        text_new_report_1 = page.get_text(clip=clip_new_report_1).strip()\n",
    "                        text_new_report_1 = text_new_report_1.split(')')[1].strip()\n",
    "                        rate_1 = text_new_report_1.split('\\n')[0].strip()\n",
    "                    except:\n",
    "                        rate_1 = None\n",
    "                    # 報告為新版個股報告 提取評價的第二種方法\n",
    "                    try:\n",
    "                        clip_new_report_2 = fitz.Rect(250, 60, rect.width, 110)\n",
    "                        rate_2 = page.get_text(clip=clip_new_report_2).strip()\n",
    "                    except:\n",
    "                        rate_2 = None\n",
    "                    rate = check_rate_function(rate_1, rate_2, possible_rate)\n",
    "                elif '公司拜訪快報' in text_check_new_report :\n",
    "                    # 報告為新版公司拜訪快報 提取評價的第一種方法\n",
    "                    try:\n",
    "                        clip_new_fast_report_1 = fitz.Rect(0, 0, rect.width, 150)\n",
    "                        text_new_fast_report_1 = page.get_text(clip=clip_new_fast_report_1).strip()\n",
    "                        text_new_fast_report_1 = text_new_fast_report_1.split('建議：')[1].strip()\n",
    "                        rate_1 = text_new_fast_report_1.split('\\n')[0].strip()\n",
    "                    except:\n",
    "                        rate_1 = None\n",
    "                    # 報告為新版公司拜訪快報 提取評價的第二種方法\n",
    "                    try:\n",
    "                        clip_new_fast_report_2 = fitz.Rect(80, 105, rect.width, 140)\n",
    "                        rate_2 = page.get_text(clip=clip_new_fast_report_2).strip()\n",
    "                    except:\n",
    "                        rate_2 = None\n",
    "                    rate = check_rate_function(rate_1, rate_2, possible_rate)\n",
    "\n",
    "                elif 'Company Report' in text_check_new_report :\n",
    "                    # 報告為英文版個股報告 提取評價的第一種方法\n",
    "                    try:\n",
    "                        clip_english_report_1 = fitz.Rect(0, 0, rect.width, 100)\n",
    "                        text_english_report_1 = page.get_text(clip=clip_english_report_1).strip()\n",
    "                        text_english_report_1 = text_english_report_1.split(')')[-1].strip()\n",
    "                        rate_1 = text_english_report_1.split('\\n')[0].strip()\n",
    "                    except:\n",
    "                        rate_1 = None\n",
    "                    # 報告為新版個股報告 提取評價的第二種方法\n",
    "                    try:\n",
    "                        clip_english_report_2 = fitz.Rect(320, 60, rect.width, 110)\n",
    "                        rate_2 = page.get_text(clip=clip_english_report_2).strip()\n",
    "                    except:\n",
    "                        rate_2 = None\n",
    "                    rate = check_rate_function(rate_1, rate_2, possible_rate)\n",
    "                \n",
    "                elif '晨訊' in  text_check_new_report :\n",
    "                    rate = '晨訊'\n",
    "                else:\n",
    "                    rate = 'wrong'\n",
    "                    # print(f'{directory_path} is not 個股報告 or 拜訪快報')\n",
    "            else:\n",
    "                # False\n",
    "                print(f'{directory_path} is not posted by 元富投顧')\n",
    "    except:\n",
    "        print(directory_path, 'fail')\n",
    "    if rate == 'NULL' :\n",
    "        print(directory_path, rate,\n",
    "                f'rate_1={rate_1}, rate_2={rate_2}')\n",
    "    elif rate == 'wrong':\n",
    "        # pass\n",
    "        print(directory_path, rate,\n",
    "              f'text_check_new_report={text_check_new_report}, text_check_old_fast_report={text_check_old_fast_report}')\n",
    "    elif rate != None :\n",
    "        count_true += 1\n",
    "        # print(directory_path, rate,\n",
    "        #         f'rate_1={rate_1}, rate_2={rate_2}')\n",
    "    else :\n",
    "        print(directory_path, rate,\n",
    "                f'rate_1={rate_1}, rate_2={rate_2}')\n",
    "# 計算成功和失敗的數量並打印\n",
    "count_false = len(os.listdir(zip_path)) - count_true\n",
    "success_rate = round((count_true/len(os.listdir(zip_path))), 3)*100\n",
    "print(f'共{len(os.listdir(zip_path))}件, 成功{count_true}件, 失敗{count_false}件, 成功率:{success_rate}%')"
   ]
  },
  {
   "cell_type": "code",
   "execution_count": 17,
   "metadata": {},
   "outputs": [],
   "source": [
    "import fitz\n",
    "doc = fitz.open(r'..\\file\\元富\\6598_ABC_元富_HOLD.pdf')\n",
    "mat = fitz.Matrix(1, 1)\n",
    "page = doc.load_page(0)  # loads page number 'pno' of the document (0-based)\n",
    "rect = page.rect\n",
    "pix = page.get_pixmap(matrix=mat, alpha=False)\n",
    "pix.save(\"page-%i.png\" % page.number)"
   ]
  },
  {
   "cell_type": "code",
   "execution_count": 18,
   "metadata": {},
   "outputs": [
    {
     "name": "stdout",
     "output_type": "stream",
     "text": [
      "True\n"
     ]
    }
   ],
   "source": [
    "# 檢查是否由元富投顧出版\n",
    "clip_check_source = fitz.Rect(0, rect.height/2, rect.width, rect.height)\n",
    "pix = page.get_pixmap(matrix=mat, alpha=False, clip=clip_check_source)\n",
    "pix.save(\"page-clip_check_source.png\")\n",
    "text_check_source = page.get_text(clip=clip_check_source)\n",
    "if '本刊載之報告為元富投顧於特定日期之分析' in text_check_source or 'MasterLink Research'in text_check_source:\n",
    "    print('True')"
   ]
  },
  {
   "cell_type": "code",
   "execution_count": 19,
   "metadata": {},
   "outputs": [
    {
     "name": "stdout",
     "output_type": "stream",
     "text": [
      "新版個股報告\n"
     ]
    }
   ],
   "source": [
    "# 檢查版本\n",
    "clip_check_new_report = fitz.Rect(rect.width/2, 0, rect.width, 70)\n",
    "pix = page.get_pixmap(matrix=mat, alpha=False, clip=clip_check_new_report)\n",
    "pix.save(\"page-clip_check_new_report.png\")\n",
    "text_check_new_report = page.get_text(clip=clip_check_new_report)\n",
    "\n",
    "clip_check_old_fast_report = fitz.Rect(rect.width/2, 50, rect.width, 150)\n",
    "pix = page.get_pixmap(matrix=mat, alpha=False, clip=clip_check_old_fast_report)\n",
    "pix.save(\"page-clip_check_old_report.png\")\n",
    "text_check_old_report = text_check_new_report\n",
    "text_check_old_fast_report = page.get_text(clip=clip_check_old_fast_report)\n",
    "\n",
    "if '公司訪談報告' in text_check_old_report or '評等調整' in text_check_old_report or '訪談報告' in text_check_old_report :\n",
    "    print('舊版個股報告')\n",
    "elif'公司拜訪快報' in text_check_old_fast_report :\n",
    "    print('舊版公司拜訪快報')\n",
    "elif '公司拜訪報告' in text_check_new_report or '個股報告' in text_check_new_report or '評等調升報告' in text_check_new_report or 'Company Report' in text_check_new_report:\n",
    "    print('新版個股報告')\n",
    "elif '公司拜訪快報' in text_check_new_report :\n",
    "    print('新版公司拜訪快報')\n",
    "else :\n",
    "    print('NULL')"
   ]
  },
  {
   "cell_type": "code",
   "execution_count": 20,
   "metadata": {},
   "outputs": [
    {
     "data": {
      "text/plain": [
       "'Company Report \\n'"
      ]
     },
     "execution_count": 20,
     "metadata": {},
     "output_type": "execute_result"
    }
   ],
   "source": [
    "text_check_old_report"
   ]
  },
  {
   "cell_type": "code",
   "execution_count": 21,
   "metadata": {},
   "outputs": [
    {
     "data": {
      "text/plain": [
       "'HOLD'"
      ]
     },
     "execution_count": 21,
     "metadata": {},
     "output_type": "execute_result"
    }
   ],
   "source": [
    "# 報告為舊版個股報告 提取評價的第一種方法\n",
    "try:\n",
    "    clip_old_report_1 = fitz.Rect(0, 0, rect.width, 100)\n",
    "    text_old_report_1 = page.get_text(clip=clip_old_report_1).strip()\n",
    "    pix = page.get_pixmap(matrix=mat, alpha=False, clip=clip_old_report_1)\n",
    "    pix.save(\"page-clip_old_report_1.png\")\n",
    "    text_old_report_1 = text_old_report_1.split(')')[-1].strip()\n",
    "    rate_1 = text_old_report_1.split('\\n')[0].strip()\n",
    "except:\n",
    "    rate_1 = None\n",
    "rate_1"
   ]
  },
  {
   "cell_type": "code",
   "execution_count": 22,
   "metadata": {},
   "outputs": [
    {
     "data": {
      "text/plain": [
       "'8 TT) \\nHOLD'"
      ]
     },
     "execution_count": 22,
     "metadata": {},
     "output_type": "execute_result"
    }
   ],
   "source": [
    "# 報告為舊版個股報告 提取評價的第二種方法\n",
    "try:\n",
    "    clip_old_report_2 = fitz.Rect(310, 60, rect.width, 110)\n",
    "    rate_2 = page.get_text(clip=clip_old_report_2).strip()\n",
    "    pix = page.get_pixmap(matrix=mat, alpha=False, clip=clip_old_report_2)\n",
    "    pix.save(\"page-clip_old_report_2.png\")\n",
    "except:\n",
    "    rate_2 = None\n",
    "rate_2"
   ]
  },
  {
   "cell_type": "code",
   "execution_count": 23,
   "metadata": {},
   "outputs": [],
   "source": [
    "# 報告為舊版公司拜訪快報 提取評價的第一種方法\n",
    "try:\n",
    "    clip_old_fast_report_1 = fitz.Rect(0, 0, rect.width, 200)\n",
    "    text_old_fast_report_1 = page.get_text(clip=clip_old_fast_report_1).strip()\n",
    "    pix = page.get_pixmap(matrix=mat, alpha=False, clip=clip_old_fast_report_1)\n",
    "    pix.save(\"page-clip_old_fast_report_1.png\")\n",
    "    text_old_fast_report_1 = text_old_fast_report_1.split('建議：')[1].strip()\n",
    "    rate_1 = text_old_fast_report_1.split('\\n')[0].strip()\n",
    "except:\n",
    "    rate_1 = None\n",
    "rate_1"
   ]
  },
  {
   "cell_type": "code",
   "execution_count": 24,
   "metadata": {},
   "outputs": [
    {
     "data": {
      "text/plain": [
       "'lyst: Irene Huang \\nfungus product is expected to start making sales contributions in \\n2H23. Among the products developed by Applied BioCode (ABC-KY),'"
      ]
     },
     "execution_count": 24,
     "metadata": {},
     "output_type": "execute_result"
    }
   ],
   "source": [
    "# 報告為舊版公司拜訪快報 提取評價的第二種方法\n",
    "try:\n",
    "    clip_old_fast_report_2 = fitz.Rect(70, 140, rect.width, 170)\n",
    "    rate_2 = page.get_text(clip=clip_old_fast_report_2).strip()\n",
    "    pix = page.get_pixmap(matrix=mat, alpha=False, clip=clip_old_fast_report_2)\n",
    "    pix.save(\"page-clip_old_fast_report_2.png\")\n",
    "except:\n",
    "    rate_2 = None\n",
    "rate_2"
   ]
  },
  {
   "cell_type": "code",
   "execution_count": 25,
   "metadata": {},
   "outputs": [
    {
     "data": {
      "text/plain": [
       "'HOLD'"
      ]
     },
     "execution_count": 25,
     "metadata": {},
     "output_type": "execute_result"
    }
   ],
   "source": [
    "# 報告為新版個股報告 提取評價的第一種方法\n",
    "try:\n",
    "    clip_new_report_1 = fitz.Rect(0, 0, rect.width, 120)\n",
    "    text_new_report_1 = page.get_text(clip=clip_new_report_1).strip()\n",
    "    pix = page.get_pixmap(matrix=mat, alpha=False, clip=clip_new_report_1)\n",
    "    pix.save(\"page-clip_new_report_1.png\")\n",
    "    text_new_report_1 = text_new_report_1.split(')')[1].strip()\n",
    "    rate_1 = text_new_report_1.split('\\n')[0].strip()\n",
    "except:\n",
    "    rate_1 = None\n",
    "rate_1"
   ]
  },
  {
   "cell_type": "code",
   "execution_count": 26,
   "metadata": {},
   "outputs": [
    {
     "data": {
      "text/plain": [
       "'p. (6598 TT) \\nHOLD'"
      ]
     },
     "execution_count": 26,
     "metadata": {},
     "output_type": "execute_result"
    }
   ],
   "source": [
    "# 報告為新版個股報告 提取評價的第二種方法\n",
    "try:\n",
    "    clip_new_report_2 = fitz.Rect(250, 60, rect.width, 110)\n",
    "    rate_2 = page.get_text(clip=clip_new_report_2).strip()\n",
    "    pix = page.get_pixmap(matrix=mat, alpha=False, clip=clip_new_report_2)\n",
    "    pix.save(\"page-clip_new_report_2.png\")\n",
    "except:\n",
    "    rate_2 = None\n",
    "rate_2"
   ]
  },
  {
   "cell_type": "code",
   "execution_count": 27,
   "metadata": {},
   "outputs": [
    {
     "data": {
      "text/plain": [
       "False"
      ]
     },
     "execution_count": 27,
     "metadata": {},
     "output_type": "execute_result"
    }
   ],
   "source": [
    "rate_1 == rate_2"
   ]
  },
  {
   "cell_type": "code",
   "execution_count": 28,
   "metadata": {},
   "outputs": [],
   "source": [
    "# 報告為新版公司拜訪快報 提取評價的第一種方法\n",
    "try:\n",
    "    clip_new_fast_report_1 = fitz.Rect(0, 0, rect.width, 150)\n",
    "    text_new_fast_report_1 = page.get_text(clip=clip_new_fast_report_1).strip()\n",
    "    pix = page.get_pixmap(matrix=mat, alpha=False, clip=clip_new_fast_report_1)\n",
    "    pix.save(\"page-clip_new_fast_report_1.png\")\n",
    "    text_new_fast_report_1 = text_new_fast_report_1.split('建議：')[1].strip()\n",
    "    rate_1 = text_new_fast_report_1.split('\\n')[0].strip()\n",
    "except:\n",
    "    rate_1 = None\n",
    "rate_1"
   ]
  },
  {
   "cell_type": "code",
   "execution_count": 29,
   "metadata": {},
   "outputs": [
    {
     "data": {
      "text/plain": [
       "'□ TW Mid-Cap100  □ MSCI'"
      ]
     },
     "execution_count": 29,
     "metadata": {},
     "output_type": "execute_result"
    }
   ],
   "source": [
    "# 報告為新版公司拜訪快報 提取評價的第二種方法\n",
    "try:\n",
    "    clip_new_fast_report_2 = fitz.Rect(80, 105, rect.width, 140)\n",
    "    rate_2 = page.get_text(clip=clip_new_fast_report_2).strip()\n",
    "    pix = page.get_pixmap(matrix=mat, alpha=False, clip=clip_new_fast_report_2)\n",
    "    pix.save(\"page-clip_new_fast_report_2.png\")\n",
    "except:\n",
    "    rate_2 = None\n",
    "rate_2"
   ]
  },
  {
   "cell_type": "code",
   "execution_count": 30,
   "metadata": {},
   "outputs": [
    {
     "name": "stdout",
     "output_type": "stream",
     "text": [
      "英文版個股報告\n"
     ]
    }
   ],
   "source": [
    "if 'Company Report' in text_check_new_report :\n",
    "    print('英文版個股報告')"
   ]
  },
  {
   "cell_type": "code",
   "execution_count": 31,
   "metadata": {},
   "outputs": [
    {
     "data": {
      "text/plain": [
       "'HOLD'"
      ]
     },
     "execution_count": 31,
     "metadata": {},
     "output_type": "execute_result"
    }
   ],
   "source": [
    "# 報告為英文版個股報告 提取評價的第一種方法\n",
    "try:\n",
    "    clip_english_report_1 = fitz.Rect(0, 0, rect.width, 100)\n",
    "    text_english_report_1 = page.get_text(clip=clip_english_report_1).strip()\n",
    "    text_english_report_1 = text_english_report_1.split(')')[-1].strip()\n",
    "    rate_1 = text_english_report_1.split('\\n')[0].strip()\n",
    "except:\n",
    "    rate_1 = None\n",
    "rate_1"
   ]
  },
  {
   "cell_type": "code",
   "execution_count": 36,
   "metadata": {},
   "outputs": [
    {
     "data": {
      "text/plain": [
       "'HOLD'"
      ]
     },
     "execution_count": 36,
     "metadata": {},
     "output_type": "execute_result"
    }
   ],
   "source": [
    "# 報告為英文版個股報告 提取評價的第二種方法\n",
    "try:\n",
    "    clip_english_report_2 = fitz.Rect(370, 60, rect.width, 110)\n",
    "    pix = page.get_pixmap(matrix=mat, alpha=False, clip=clip_english_report_2)\n",
    "    pix.save(\"page-clip_english_report_2.png\")\n",
    "    rate_2 = page.get_text(clip=clip_english_report_2).strip()\n",
    "except:\n",
    "    rate_2 = None\n",
    "rate_2"
   ]
  }
 ],
 "metadata": {
  "kernelspec": {
   "display_name": "venv_stock",
   "language": "python",
   "name": "python3"
  },
  "language_info": {
   "codemirror_mode": {
    "name": "ipython",
    "version": 3
   },
   "file_extension": ".py",
   "mimetype": "text/x-python",
   "name": "python",
   "nbconvert_exporter": "python",
   "pygments_lexer": "ipython3",
   "version": "3.8.5"
  },
  "orig_nbformat": 4,
  "vscode": {
   "interpreter": {
    "hash": "ba787645ba8ce3b43ca5d5c1bc5ea17dd580ada22e1bd31731a2a86b718f16cf"
   }
  }
 },
 "nbformat": 4,
 "nbformat_minor": 2
}
