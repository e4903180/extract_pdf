{
 "cells": [
  {
   "cell_type": "code",
   "execution_count": 12,
   "metadata": {},
   "outputs": [],
   "source": [
    "import os\n",
    "import fitz\n",
    "from tqdm import tqdm"
   ]
  },
  {
   "cell_type": "code",
   "execution_count": 13,
   "metadata": {},
   "outputs": [],
   "source": [
    "def check_rate_function(rate_1, rate_2, possible_rate):\n",
    "        # 檢查兩種方法提取的評價是否相同\n",
    "    if rate_1 == rate_2 and rate_1!= None:\n",
    "        return rate_1\n",
    "    elif rate_1 in possible_rate:\n",
    "        return rate_1\n",
    "    elif rate_2 in possible_rate:\n",
    "        return rate_2\n",
    "    else :\n",
    "        return 'NULL'\n",
    "            "
   ]
  },
  {
   "cell_type": "code",
   "execution_count": 24,
   "metadata": {},
   "outputs": [
    {
     "name": "stderr",
     "output_type": "stream",
     "text": [
      " 11%|█         | 303/2748 [00:09<01:33, 26.02it/s]"
     ]
    },
    {
     "name": "stdout",
     "output_type": "stream",
     "text": [
      "統一\\2020-美亞-2020_03_31-統一投顧-NULL (2).pdf is not posted by 統一投顧\n",
      "統一\\2020-美亞-2020_03_31-統一投顧-NULL (2).pdf None rate_1=None, rate_2=None\n",
      "統一\\2020-美亞-2020_03_31-統一投顧-Null.pdf is not posted by 統一投顧\n",
      "統一\\2020-美亞-2020_03_31-統一投顧-Null.pdf None rate_1=None, rate_2=None\n"
     ]
    },
    {
     "name": "stderr",
     "output_type": "stream",
     "text": [
      " 32%|███▏      | 883/2748 [00:27<00:52, 35.61it/s]"
     ]
    },
    {
     "name": "stdout",
     "output_type": "stream",
     "text": [
      "統一\\2637-慧洋-KY-統一投顧-中立-2637慧洋 統一 20230106.pdf is not posted by 統一投顧\n",
      "統一\\2637-慧洋-KY-統一投顧-中立-2637慧洋 統一 20230106.pdf None rate_1=None, rate_2=None\n"
     ]
    },
    {
     "name": "stderr",
     "output_type": "stream",
     "text": [
      " 55%|█████▍    | 1504/2748 [00:45<00:34, 36.28it/s]"
     ]
    },
    {
     "name": "stdout",
     "output_type": "stream",
     "text": [
      "統一\\3680-家登-統一投顧-買進-3680家登 統一.pdf is not posted by 統一投顧\n",
      "統一\\3680-家登-統一投顧-買進-3680家登 統一.pdf None rate_1=None, rate_2=None\n"
     ]
    },
    {
     "name": "stderr",
     "output_type": "stream",
     "text": [
      " 61%|██████    | 1677/2748 [00:50<00:32, 33.43it/s]"
     ]
    },
    {
     "name": "stdout",
     "output_type": "stream",
     "text": [
      "統一\\4726-永昕-2023_02_08-統一投顧-買進.pdf is not posted by 統一投顧\n",
      "統一\\4726-永昕-2023_02_08-統一投顧-買進.pdf None rate_1=None, rate_2=None\n"
     ]
    },
    {
     "name": "stderr",
     "output_type": "stream",
     "text": [
      " 95%|█████████▌| 2624/2748 [01:18<00:03, 36.64it/s]"
     ]
    },
    {
     "name": "stdout",
     "output_type": "stream",
     "text": [
      "統一\\8464-億豐-2023_02_07-統一投顧-買進.pdf is not posted by 統一投顧\n",
      "統一\\8464-億豐-2023_02_07-統一投顧-買進.pdf None rate_1=None, rate_2=None\n"
     ]
    },
    {
     "name": "stderr",
     "output_type": "stream",
     "text": [
      "100%|██████████| 2748/2748 [01:22<00:00, 33.41it/s]"
     ]
    },
    {
     "name": "stdout",
     "output_type": "stream",
     "text": [
      "共2748件, 成功2742件, 失敗6件, 成功率:99.8%\n"
     ]
    },
    {
     "name": "stderr",
     "output_type": "stream",
     "text": [
      "\n"
     ]
    }
   ],
   "source": [
    "zip_path = '統一'\n",
    "count_true = 0\n",
    "possible_rate = ['中立(維持評等)', '買進(調升評等)', '買進(維持評等)', '降低持股(調降評等)', '中立(調降評等)', '強力買進(調升評等)',\n",
    "                    '強力買進(維持評等)', '未評等', '中立(初次評等)', '中立 (維持評等)', '強力買進(上調評等)', '買進(初次評等)', '買進 (維持評等)',\n",
    "                    '買進(調降目標價)', '中立(降低評等)', '買進 (調升評等)', '買進', '賣出(調降評等)', '中立(調升評等)', '中立(下修評等)', \n",
    "                    '中立', '未評等(調整評等)', '中立 (調降評等)', '未評等(初次評等)', '強力買進(初次評等)']\n",
    "for directory in tqdm(os.listdir(zip_path)):\n",
    "    directory_path = os.path.join(zip_path, directory)\n",
    "    rate_1 = None\n",
    "    rate_2 = None\n",
    "    rate = None\n",
    "    try:\n",
    "        # 使用with語句讀取PDF文件，確保在使用後自動關閉文件。\n",
    "        with fitz.open(directory_path) as doc:\n",
    "            mat = fitz.Matrix(1, 1)\n",
    "            page = doc.load_page(0)  # 加載文檔的第0頁\n",
    "            rect = page.rect\n",
    "            # 檢查是否由元富投顧出版\n",
    "            page_check_source = doc.load_page(-1)\n",
    "            text_check_source = page_check_source.get_text()\n",
    "            if '統一證券投資顧問' in text_check_source :\n",
    "                # 檢查版本\n",
    "                clip_check_new_report = fitz.Rect(rect.width/2, 0, rect.width, 150)\n",
    "                text_check_new_report = page.get_text(clip=clip_check_new_report)\n",
    "                if '投資速報' in text_check_new_report :\n",
    "                    # 報告為投資速報提取評價的第一種方法\n",
    "                    try:\n",
    "                        clip_old_report_1 = fitz.Rect(0, 0, 270, 270)\n",
    "                        text_old_report_1 = page.get_text(clip=clip_old_report_1).strip()\n",
    "                        text_old_report_1 = text_old_report_1.split('出刊緣由')[0].strip()\n",
    "                        rate_1 = text_old_report_1.split('\\n')[0].strip()\n",
    "                    except:\n",
    "                        rate_1 = None\n",
    "                        # 報告為舊版個股報告 提取評價的第二種方法\n",
    "                    try:\n",
    "                        clip_old_report_2 = fitz.Rect(70, 130, 265, 160)\n",
    "                        rate_2 = page.get_text(clip=clip_old_report_2).strip()\n",
    "                    except:\n",
    "                        rate_2 = None\n",
    "                    rate = check_rate_function(rate_1, rate_2, possible_rate)\n",
    "                elif '訪談報告' in text_check_new_report :\n",
    "                    # 報告為訪談報告提取評價的第一種方法\n",
    "                    try:\n",
    "                        clip_new_report_1 = fitz.Rect(375, 120, 565, 190)\n",
    "                        text_new_report_1 = page.get_text(clip=clip_new_report_1).strip()\n",
    "                        text_new_report_1 = text_new_report_1.split('出刊緣由')[0].strip()\n",
    "                        rate_1 = text_new_report_1.split('\\n')[0].strip()\n",
    "                    except:\n",
    "                        rate_1 = None\n",
    "                        # 報告為訪談報提取評價的第二種方法\n",
    "                    try:\n",
    "                        clip_new_report_2 = fitz.Rect(375, 120, 565, 160)\n",
    "                        rate_2 = page.get_text(clip=clip_new_report_2).strip()\n",
    "                    except:\n",
    "                        rate_2 = None\n",
    "                    rate = check_rate_function(rate_1, rate_2, possible_rate)\n",
    "                elif '初次報告' in text_check_new_report :\n",
    "                    # 報告為初次報告提取評價的第一種方法\n",
    "                    try:\n",
    "                        clip_new_report_1 = fitz.Rect(365, 190, 565, 380)\n",
    "                        text_new_report_1 = page.get_text(clip=clip_new_report_1).strip()\n",
    "                        text_new_report_1 = text_new_report_1.split('目標價')[0].strip()\n",
    "                        rate_1 = text_new_report_1.split('\\n')[0].strip()\n",
    "                    except:\n",
    "                        rate_1 = None\n",
    "                    # 報告為初次報告提取評價的第二種方法\n",
    "                    try:\n",
    "                        clip_new_report_2 = fitz.Rect(365, 190, 565, 220)\n",
    "                        rate_2 = page.get_text(clip=clip_new_report_2).strip()\n",
    "                    except:\n",
    "                        rate_2 = None\n",
    "                    rate = check_rate_function(rate_1, rate_2, possible_rate)\n",
    "                elif '投資早報' in text_check_new_report or '港股投資' in text_check_new_report:\n",
    "                    rate = 'wrong'\n",
    "                else :\n",
    "                    print(f'{text_check_new_report}, {directory_path} NULL')\n",
    "            else:\n",
    "                # False\n",
    "                print(f'{directory_path} is not posted by 統一投顧')\n",
    "    except:\n",
    "        print(directory_path, 'fail')\n",
    "    if rate == 'NULL' :\n",
    "        count_true += 1\n",
    "        # print(directory_path, rate,\n",
    "        #         f'rate_1={rate_1}, rate_2={rate_2}')\n",
    "    elif rate == 'wrong':\n",
    "        count_true += 1\n",
    "        # pass\n",
    "        # print(directory_path, rate,\n",
    "        #       f'text_check_new_report={text_check_new_report}, text_check_old_fast_report={text_check_old_fast_report}')\n",
    "    elif rate != None :\n",
    "        count_true += 1\n",
    "        # print(directory_path, rate,\n",
    "        #         f'rate_1={rate_1}, rate_2={rate_2}')\n",
    "    else :\n",
    "        print(directory_path, rate,\n",
    "                f'rate_1={rate_1}, rate_2={rate_2}')\n",
    "# 計算成功和失敗的數量並打印\n",
    "count_false = len(os.listdir(zip_path)) - count_true\n",
    "success_rate = round((count_true/len(os.listdir(zip_path))), 3)*100\n",
    "print(f'共{len(os.listdir(zip_path))}件, 成功{count_true}件, 失敗{count_false}件, 成功率:{success_rate}%')"
   ]
  },
  {
   "cell_type": "code",
   "execution_count": 15,
   "metadata": {},
   "outputs": [],
   "source": [
    "import fitz\n",
    "doc = fitz.open(r'統一\\2338_光罩_2018-06-26_統一投顧_統一投顧-鄭高輯-【初次報告】光罩(2338.TT，買進) 收購美祿引進重要客戶，成熟製程光罩需求展望正向.pdf')\n",
    "mat = fitz.Matrix(1, 1)\n",
    "page = doc.load_page(0)  # loads page number 'pno' of the document (0-based)\n",
    "rect = page.rect\n",
    "pix = page.get_pixmap(matrix=mat, alpha=False)\n",
    "pix.save(\"page-%i.png\" % page.number)"
   ]
  },
  {
   "cell_type": "code",
   "execution_count": 16,
   "metadata": {},
   "outputs": [
    {
     "name": "stdout",
     "output_type": "stream",
     "text": [
      "True\n"
     ]
    }
   ],
   "source": [
    "# 檢查是否由統一投顧出版\n",
    "page_check_source = doc.load_page(-1)\n",
    "text_check_source = page_check_source.get_text()\n",
    "if '統一證券投資顧問' in text_check_source :\n",
    "    print('True')"
   ]
  },
  {
   "cell_type": "code",
   "execution_count": 17,
   "metadata": {},
   "outputs": [
    {
     "name": "stdout",
     "output_type": "stream",
     "text": [
      "初次報告\n"
     ]
    }
   ],
   "source": [
    "# 檢查版本\n",
    "clip_check_new_report = fitz.Rect(rect.width/2, 0, rect.width, 150)\n",
    "pix = page.get_pixmap(matrix=mat, alpha=False, clip=clip_check_new_report)\n",
    "pix.save(\"page-clip_check_new_report.png\")\n",
    "text_check_new_report = page.get_text(clip=clip_check_new_report)\n",
    "if '投資速報' in text_check_new_report :\n",
    "    print('投資速報')\n",
    "elif '訪談報告' in text_check_new_report :\n",
    "    print('訪談報告')\n",
    "elif '初次報告' in text_check_new_report :\n",
    "    print('初次報告')\n",
    "elif '投資早報' in text_check_new_report or '港股投資' in text_check_new_report:\n",
    "    print('投資早報 or 港股投資')\n",
    "else :\n",
    "    print('NULL')\n"
   ]
  },
  {
   "cell_type": "code",
   "execution_count": 18,
   "metadata": {},
   "outputs": [
    {
     "data": {
      "text/plain": [
       "'鄭高輯   OWENCHENG@uni-psg.com'"
      ]
     },
     "execution_count": 18,
     "metadata": {},
     "output_type": "execute_result"
    }
   ],
   "source": [
    "# 報告為舊版個股報告 提取評價的第一種方法\n",
    "try:\n",
    "    clip_old_report_1 = fitz.Rect(0, 0, 270, 270)\n",
    "    text_old_report_1 = page.get_text(clip=clip_old_report_1).strip()\n",
    "    pix = page.get_pixmap(matrix=mat, alpha=False, clip=clip_old_report_1)\n",
    "    pix.save(\"page-clip_old_report_1.png\")\n",
    "    # text_old_report_1 = text_old_report_1.split('出刊緣由')[0].strip()\n",
    "    rate_1 = text_old_report_1.split('\\n')[0].strip()\n",
    "except:\n",
    "    rate_1 = None\n",
    "rate_1"
   ]
  },
  {
   "cell_type": "code",
   "execution_count": 19,
   "metadata": {},
   "outputs": [
    {
     "data": {
      "text/plain": [
       "'罩(2338.TT)'"
      ]
     },
     "execution_count": 19,
     "metadata": {},
     "output_type": "execute_result"
    }
   ],
   "source": [
    "# 報告為舊版個股報告 提取評價的第二種方法\n",
    "try:\n",
    "    clip_old_report_2 = fitz.Rect(70, 130, 265, 160)\n",
    "    rate_2 = page.get_text(clip=clip_old_report_2).strip()\n",
    "    pix = page.get_pixmap(matrix=mat, alpha=False, clip=clip_old_report_2)\n",
    "    pix.save(\"page-clip_old_report_2.png\")\n",
    "except:\n",
    "    rate_2 = None\n",
    "rate_2"
   ]
  },
  {
   "cell_type": "code",
   "execution_count": 20,
   "metadata": {},
   "outputs": [
    {
     "data": {
      "text/plain": [
       "''"
      ]
     },
     "execution_count": 20,
     "metadata": {},
     "output_type": "execute_result"
    }
   ],
   "source": [
    "# 報告為新版個股報告 提取評價的第一種方法\n",
    "try:\n",
    "    clip_new_report_1 = fitz.Rect(375, 120, 565, 190)\n",
    "    text_new_report_1 = page.get_text(clip=clip_new_report_1).strip()\n",
    "    pix = page.get_pixmap(matrix=mat, alpha=False, clip=clip_new_report_1)\n",
    "    pix.save(\"page-clip_new_report_1.png\")\n",
    "    # text_new_report_1 = text_new_report_1.split('出刊緣由')[0].strip()\n",
    "    rate_1 = text_new_report_1.split('\\n')[0].strip()\n",
    "except:\n",
    "    rate_1 = None\n",
    "rate_1"
   ]
  },
  {
   "cell_type": "code",
   "execution_count": 21,
   "metadata": {},
   "outputs": [
    {
     "data": {
      "text/plain": [
       "''"
      ]
     },
     "execution_count": 21,
     "metadata": {},
     "output_type": "execute_result"
    }
   ],
   "source": [
    "# 報告為新版個股報告 提取評價的第二種方法\n",
    "try:\n",
    "    clip_new_report_2 = fitz.Rect(375, 120, 565, 160)\n",
    "    rate_2 = page.get_text(clip=clip_new_report_2).strip()\n",
    "    pix = page.get_pixmap(matrix=mat, alpha=False, clip=clip_new_report_2)\n",
    "    pix.save(\"page-clip_new_report_2.png\")\n",
    "except:\n",
    "    rate_2 = None\n",
    "rate_2"
   ]
  },
  {
   "cell_type": "code",
   "execution_count": 22,
   "metadata": {},
   "outputs": [
    {
     "data": {
      "text/plain": [
       "''"
      ]
     },
     "execution_count": 22,
     "metadata": {},
     "output_type": "execute_result"
    }
   ],
   "source": [
    "# 報告為新版個股報告 提取評價的第一種方法\n",
    "try:\n",
    "    clip_new_report_1 = fitz.Rect(365, 190, 565, 380)\n",
    "    text_new_report_1 = page.get_text(clip=clip_new_report_1).strip()\n",
    "    pix = page.get_pixmap(matrix=mat, alpha=False, clip=clip_new_report_1)\n",
    "    pix.save(\"page-clip_new_report_1.png\")\n",
    "    text_new_report_1 = text_new_report_1.split('目標價')[0].strip()\n",
    "    rate_1 = text_new_report_1.split('\\n')[0].strip()\n",
    "except:\n",
    "    rate_1 = None\n",
    "rate_1"
   ]
  },
  {
   "cell_type": "code",
   "execution_count": 23,
   "metadata": {},
   "outputs": [
    {
     "data": {
      "text/plain": [
       "'目標價  \\nNT$37'"
      ]
     },
     "execution_count": 23,
     "metadata": {},
     "output_type": "execute_result"
    }
   ],
   "source": [
    "# 報告為新版個股報告 提取評價的第二種方法\n",
    "try:\n",
    "    clip_new_report_2 = fitz.Rect(365, 190, 565, 220)\n",
    "    rate_2 = page.get_text(clip=clip_new_report_2).strip()\n",
    "    pix = page.get_pixmap(matrix=mat, alpha=False, clip=clip_new_report_2)\n",
    "    pix.save(\"page-clip_new_report_2.png\")\n",
    "except:\n",
    "    rate_2 = None\n",
    "rate_2"
   ]
  }
 ],
 "metadata": {
  "kernelspec": {
   "display_name": "venv_stock",
   "language": "python",
   "name": "python3"
  },
  "language_info": {
   "codemirror_mode": {
    "name": "ipython",
    "version": 3
   },
   "file_extension": ".py",
   "mimetype": "text/x-python",
   "name": "python",
   "nbconvert_exporter": "python",
   "pygments_lexer": "ipython3",
   "version": "3.8.5"
  },
  "orig_nbformat": 4,
  "vscode": {
   "interpreter": {
    "hash": "ba787645ba8ce3b43ca5d5c1bc5ea17dd580ada22e1bd31731a2a86b718f16cf"
   }
  }
 },
 "nbformat": 4,
 "nbformat_minor": 2
}
