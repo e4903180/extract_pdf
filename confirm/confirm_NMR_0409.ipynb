{
 "cells": [
  {
   "cell_type": "code",
   "execution_count": 53,
   "metadata": {},
   "outputs": [],
   "source": [
    "import os\n",
    "import fitz\n",
    "from tqdm import tqdm"
   ]
  },
  {
   "cell_type": "code",
   "execution_count": 54,
   "metadata": {},
   "outputs": [],
   "source": [
    "def check_rate_function(rate_1, rate_2, possible_rate):\n",
    "        # 檢查兩種方法提取的評價是否相同\n",
    "    if rate_1 == rate_2 and rate_1!= None:\n",
    "        return rate_1\n",
    "    elif rate_1 in possible_rate:\n",
    "        return rate_1\n",
    "    elif rate_2 in possible_rate:\n",
    "        return rate_2\n",
    "    else :\n",
    "        return 'NULL'\n",
    "            "
   ]
  },
  {
   "cell_type": "code",
   "execution_count": 55,
   "metadata": {},
   "outputs": [
    {
     "name": "stderr",
     "output_type": "stream",
     "text": [
      "100%|██████████| 17/17 [00:00<00:00, 40.14it/s]"
     ]
    },
    {
     "name": "stdout",
     "output_type": "stream",
     "text": [
      "共17件, 成功17件, 失敗0件, 成功率:100.0%\n"
     ]
    },
    {
     "name": "stderr",
     "output_type": "stream",
     "text": [
      "\n"
     ]
    }
   ],
   "source": [
    "zip_path = r'..\\file\\NMR'\n",
    "count_true = 0\n",
    "possible_rate = ['Buy', 'Overweight', 'Neutral', 'Underweight', 'Sell']\n",
    "for directory in tqdm(os.listdir(zip_path)):\n",
    "    directory_path = os.path.join(zip_path, directory)\n",
    "    rate_1 = None\n",
    "    rate_2 = None\n",
    "    rate = None\n",
    "    try:\n",
    "        with fitz.open(directory_path) as doc:\n",
    "            mat = fitz.Matrix(1, 1)\n",
    "            page = doc.load_page(0)\n",
    "            rect = page.rect\n",
    "            page_check_source = doc.load_page(-1)\n",
    "            text_check_source = page_check_source.get_text()\n",
    "            if 'Nomura Internationa' in text_check_source :\n",
    "                # 提取評價的第一種方法\n",
    "                try:\n",
    "                    clip_old_report_1 = fitz.Rect(410, 150, rect.width, 500)\n",
    "                    text_old_report_1 = page.get_text(clip=clip_old_report_1, sort=True).strip()\n",
    "                    text_old_report_1 = text_old_report_1.split('Rating')[1].strip()\n",
    "                    rate_1 = text_old_report_1.split('\\n')[1].strip()\n",
    "                except:\n",
    "                    rate_1 = None\n",
    "                    # 提取評價的第二種方法\n",
    "                try:\n",
    "                    clip_old_report_2 = fitz.Rect(470, 170, rect.width, 200)\n",
    "                    rate_2 = page.get_text(clip=clip_old_report_2).strip()\n",
    "                except:\n",
    "                    rate_2 = None\n",
    "                # if rate_1 == rate_2 and rate_1 not in possible_rate:\n",
    "                #     possible_rate.append(rate_1)\n",
    "                rate = check_rate_function(rate_1, rate_2, possible_rate)\n",
    "            else:\n",
    "                # False\n",
    "                print(f'{directory_path} is not posted by hsbc')\n",
    "    except:\n",
    "        print(directory_path, 'fail')\n",
    "    if rate == 'NULL' :\n",
    "        print('case1', directory_path, rate,\n",
    "                f'rate_1={rate_1}, rate_2={rate_2}')\n",
    "    elif rate == 'wrong':\n",
    "        count_true += 1\n",
    "        # print(directory_path, rate,\n",
    "        #       f'text_check_new_report={text_check_new_report}, text_check_old_fast_report={text_check_old_fast_report}')\n",
    "    elif rate != None :\n",
    "        count_true += 1\n",
    "        # print(directory_path, rate,\n",
    "        #         f'rate_1={rate_1}, rate_2={rate_2}')\n",
    "    else :\n",
    "        print('case2', directory_path, rate,\n",
    "                f'rate_1={rate_1}, rate_2={rate_2}')\n",
    "# 計算成功和失敗的數量並打印\n",
    "count_false = len(os.listdir(zip_path)) - count_true\n",
    "success_rate = round((count_true/len(os.listdir(zip_path))), 3)*100\n",
    "print(f'共{len(os.listdir(zip_path))}件, 成功{count_true}件, 失敗{count_false}件, 成功率:{success_rate}%')"
   ]
  },
  {
   "cell_type": "code",
   "execution_count": 56,
   "metadata": {},
   "outputs": [],
   "source": [
    "import fitz\n",
    "doc = fitz.open(r'..\\file\\NMR\\1590_亞德克_NMR_NEUTRAL.pdf')\n",
    "mat = fitz.Matrix(1, 1)\n",
    "page = doc.load_page(0)  # loads page number 'pno' of the document (0-based)\n",
    "rect = page.rect\n",
    "pix = page.get_pixmap(matrix=mat, alpha=False)\n",
    "pix.save(\"page-%i.png\" % page.number)"
   ]
  },
  {
   "cell_type": "code",
   "execution_count": 57,
   "metadata": {},
   "outputs": [
    {
     "name": "stdout",
     "output_type": "stream",
     "text": [
      "True\n"
     ]
    },
    {
     "data": {
      "text/plain": [
       "'Recommending Trades in Securities to Customers and/or other applicable laws or regulations in Taiwan, you are prohibited to provide the reports to \\nothers (including but not limited to related parties, affiliated companies and any other third parties) or engage in any activities in connection with the \\nreports which may involve conflicts of interests. INFORMATION ON SECURITIES / INSTRUMENTS NOT EXECUTABLE BY NOMURA \\nINTERNATIONAL (HONG KONG) LTD., TAIPEI BRANCH IS FOR INFORMATIONAL PURPOSES ONLY AND IS NOT BE CONSTRUED AS A \\nRECOMMENDATION OR A SOLICITATION TO TRADE IN SUCH SECURITIES / INSTRUMENTS.\\nThis material may not be distributed in Indonesia or passed on within the territory of the Republic of Indonesia or to persons who are Indonesian \\ncitizens (wherever they are domiciled or located) or entities of or residents in Indonesia in a manner which constitutes a public offering under the \\nlaws of the Republic of Indonesia. The securities mentioned in this document may not be offered or sold in Indonesia or to persons who are citizens \\nof Indonesia (wherever they are domiciled or located) or entities of or residents in Indonesia in a manner which constitutes a public offering under \\nthe laws of the Republic of Indonesia.\\nThis document is prepared by Nomura Group or its subsidiary or affiliate (collectively, “Offshore Issuers”) that is not licensed in the People’s \\nRepublic of China (“PRC”, excluding Hong Kong, Macau and Taiwan, for the purpose of this document) to provide securities research and this \\nresearch report is not approved or intended to be circulated in the PRC. The A-share related analysis (if any) is not produced for any persons \\nlocated or incorporated in the PRC. The recipients should not rely on any information contained in the research report in making investment \\ndecisions and Offshore Issuers take no responsibility in this regard.\\nNO PART OF THIS MATERIAL MAY BE (I) COPIED, PHOTOCOPIED, REPRODUCED OR DUPLICATED IN ANY FORM, BY ANY MEANS; OR \\n(II) REDISSEMINATED, REPUBLISHED OR REDISTRIBUTED WITHOUT THE PRIOR WRITTEN CONSENT OF A MEMBER OF THE NOMURA \\nGROUP. If this document has been distributed by electronic transmission, such as e-mail, then such transmission cannot be guaranteed to be \\nsecure or error-free as information could be intercepted, corrupted, lost, destroyed, arrive late or incomplete, or contain viruses. The sender \\ntherefore does not accept liability (in negligence or otherwise, and in whole or in part) for any errors or omissions in the contents of this document, \\nwhich may arise as a result of electronic transmission. If verification is required, please request a hard-copy version.\\n \\nThe Nomura Group manages conflicts with respect to the production of research through its compliance policies and procedures (including, but not \\nlimited to, Conflicts of Interest, Chinese Wall and Confidentiality policies) as well as through the maintenance of Chinese Walls and employee \\ntraining.\\nAdditional information regarding the methodologies or models used in the production of any investment recommendations contained \\nwithin this document is available upon request by contacting the Research Analysts of Nomura listed on the front page. Disclosures \\ninformation is available upon request and disclosure information is available at the Nomura Disclosure web page:  \\nhttp://go.nomuranow.com/research/globalresearchportal/pages/disclosures/disclosures.aspx\\nCopyright © 2023 Nomura International (Hong Kong) Ltd. All rights reserved.\\nNomura | AIRTAC\\n05 February 2023\\n5\\n'"
      ]
     },
     "execution_count": 57,
     "metadata": {},
     "output_type": "execute_result"
    }
   ],
   "source": [
    "# 檢查是否由第一金投顧出版\n",
    "page_check_source = doc.load_page(-1)\n",
    "text_check_source = page_check_source.get_text()\n",
    "if 'Nomura Internationa' in text_check_source :\n",
    "    print('True')\n",
    "text_check_source"
   ]
  },
  {
   "cell_type": "code",
   "execution_count": 58,
   "metadata": {},
   "outputs": [
    {
     "name": "stdout",
     "output_type": "stream",
     "text": [
      "NULL\n"
     ]
    },
    {
     "data": {
      "text/plain": [
       "'Global Markets Research\\n5 February 2023\\nroved\\nent in daily \\nRating\\nRemains\\nNeutral\\nTarget price\\nRemains\\nTWD 747.00\\nClosing price\\n03 February 2023\\nTWD \\n'"
      ]
     },
     "execution_count": 58,
     "metadata": {},
     "output_type": "execute_result"
    }
   ],
   "source": [
    "# 檢查版本\n",
    "clip_check_report = fitz.Rect(350, 0, rect.width, 250)\n",
    "pix = page.get_pixmap(matrix=mat, alpha=False, clip=clip_check_report)\n",
    "pix.save(\"page-clip_check_report.png\")\n",
    "text_check_report = page.get_text(clip=clip_check_report)\n",
    "if 'Equities' in text_check_report :\n",
    "    print('Equities')\n",
    "else :\n",
    "    print('NULL')\n",
    "text_check_report"
   ]
  },
  {
   "cell_type": "code",
   "execution_count": 59,
   "metadata": {},
   "outputs": [
    {
     "data": {
      "text/plain": [
       "'Neutral'"
      ]
     },
     "execution_count": 59,
     "metadata": {},
     "output_type": "execute_result"
    }
   ],
   "source": [
    "# 報告為新版個股報告 提取評價的第一種方法\n",
    "try:\n",
    "    clip_old_report_1 = fitz.Rect(410, 150, rect.width, 500)\n",
    "    text_old_report_1 = page.get_text(clip=clip_old_report_1, sort=True).strip()\n",
    "    pix = page.get_pixmap(matrix=mat, alpha=False, clip=clip_old_report_1)\n",
    "    pix.save(\"page-clip_new_report_1.png\")\n",
    "    text_old_report_1 = text_old_report_1.split('Rating')[1].strip()\n",
    "    rate_1 = text_old_report_1.split('\\n')[1].strip()\n",
    "except:\n",
    "    rate_1 = None\n",
    "rate_1"
   ]
  },
  {
   "cell_type": "code",
   "execution_count": 60,
   "metadata": {},
   "outputs": [
    {
     "data": {
      "text/plain": [
       "'Neutral'"
      ]
     },
     "execution_count": 60,
     "metadata": {},
     "output_type": "execute_result"
    }
   ],
   "source": [
    "# 報告為新版個股報告 提取評價的第二種方法\n",
    "try:\n",
    "    clip_old_report_2 = fitz.Rect(470, 170, rect.width, 200)\n",
    "    rate_2 = page.get_text(clip=clip_old_report_2).strip()\n",
    "    pix = page.get_pixmap(matrix=mat, alpha=False, clip=clip_old_report_2)\n",
    "    pix.save(\"page-clip_new_report_2.png\")\n",
    "except:\n",
    "    rate_2 = None\n",
    "rate_2"
   ]
  }
 ],
 "metadata": {
  "kernelspec": {
   "display_name": "venv_stock",
   "language": "python",
   "name": "python3"
  },
  "language_info": {
   "codemirror_mode": {
    "name": "ipython",
    "version": 3
   },
   "file_extension": ".py",
   "mimetype": "text/x-python",
   "name": "python",
   "nbconvert_exporter": "python",
   "pygments_lexer": "ipython3",
   "version": "3.8.5"
  },
  "orig_nbformat": 4,
  "vscode": {
   "interpreter": {
    "hash": "ba787645ba8ce3b43ca5d5c1bc5ea17dd580ada22e1bd31731a2a86b718f16cf"
   }
  }
 },
 "nbformat": 4,
 "nbformat_minor": 2
}
