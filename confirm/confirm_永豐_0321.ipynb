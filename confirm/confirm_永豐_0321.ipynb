{
 "cells": [
  {
   "cell_type": "code",
   "execution_count": 47,
   "metadata": {},
   "outputs": [],
   "source": [
    "import os\n",
    "import fitz"
   ]
  },
  {
   "cell_type": "code",
   "execution_count": 2,
   "metadata": {},
   "outputs": [],
   "source": [
    "def check_rate_function(rate_1, rate_2, possible_rate):\n",
    "        # 檢查兩種方法提取的評價是否相同\n",
    "    if rate_1 == rate_2 and rate_1!= None:\n",
    "        return rate_1\n",
    "    else:\n",
    "        if rate_1 in possible_rate:\n",
    "            return rate_1\n",
    "        elif rate_2 in possible_rate:\n",
    "            return rate_2\n",
    "        else :\n",
    "            return 'NULL'\n",
    "            "
   ]
  },
  {
   "cell_type": "code",
   "execution_count": 7,
   "metadata": {},
   "outputs": [
    {
     "name": "stdout",
     "output_type": "stream",
     "text": [
      "永豐\\4958-臻鼎-KY-2023_03_13-永豐投顧- 茂矽 (N)、臻鼎-KY (4958 TT，N).pdf is not 個股報告\n",
      "永豐\\6840-東研信超-2023_02_14-永豐投顧- 台灣第二大本土專業檢測業者，營運穩健增長.pdf is not 個股報告\n",
      "共234件, 成功234件, 失敗0件, 成功率:100.0%\n"
     ]
    }
   ],
   "source": [
    "zip_path = '永豐'\n",
    "count_true = 0\n",
    "possible_rate = ['買進', '中立']\n",
    "rate_1 = None\n",
    "rate_2 = None\n",
    "for directory in os.listdir(zip_path):\n",
    "    directory_path = os.path.join(zip_path, directory)\n",
    "    try:\n",
    "        # 使用with語句讀取PDF文件，確保在使用後自動關閉文件。\n",
    "        with fitz.open(directory_path) as doc:\n",
    "            mat = fitz.Matrix(1, 1)\n",
    "            page = doc.load_page(0)  # 加載文檔的第0頁\n",
    "            rect = page.rect\n",
    "            try:\n",
    "                # 檢查是否由永豐投顧出版\n",
    "                page_check_source = doc.load_page(-1)\n",
    "                text_check_source = page_check_source.get_text()\n",
    "                if 'SinoPac Securities' or '永豐證券投資顧問股份有限公司' in text_check_source:\n",
    "                    if '永豐證券投資顧問股份有限公司' in text_check_source:\n",
    "                        # 報告為舊版\n",
    "                        try:\n",
    "                            # 裁剪並提取文本的第一種方法\n",
    "                            clip_old_version_1 = fitz.Rect(220, 80, 560, 140)\n",
    "                            text_old_version_1 = page.get_text(clip=clip_old_version_1).strip()\n",
    "                            text_old_version_1 = text_old_version_1.split('）')[1].strip()\n",
    "                            rate_1 = text_old_version_1.split('\\n')[1].strip()\n",
    "                        except:\n",
    "                            rate_1 = None\n",
    "                        try:\n",
    "                            # 裁剪文本的第二種方法\n",
    "                            clip_old_version_2 = fitz.Rect(425, 90, 560, 130)\n",
    "                            rate_2 = page.get_text(clip=clip_old_version_2).strip()\n",
    "                        except:\n",
    "                            rate_2 = None\n",
    "                    elif 'SinoPac Securities' in text_check_source:\n",
    "                        # 報告為新版\n",
    "                        # 檢查報告版本\n",
    "                        clip_check_report = fitz.Rect(0, 0, rect.width, 150)\n",
    "                        text_check_report = page.get_text(clip=clip_check_report, sort=True).strip()\n",
    "                        if '個股聚焦' in text_check_report:\n",
    "                            try:\n",
    "                                # 裁剪並提取文本的第一種方法\n",
    "                                clip_new_version_1 = fitz.Rect(0, 0, 200, 400)\n",
    "                                text_new_version_1 = page.get_text(clip=clip_new_version_1).strip()\n",
    "                                text_new_version_1 = text_new_version_1.split('投資建議')[1]\n",
    "                                rate_1 = text_new_version_1.split('\\n')[0].strip()\n",
    "                            # 如果出現任何錯誤，設置rate_1為None。\n",
    "                            except:\n",
    "                                rate_1 = None\n",
    "                            try:\n",
    "                                # 裁剪文本的第二種方法\n",
    "                                clip_new_version_2 = fitz.Rect(75, 200, 120, 235)\n",
    "                                text_new_version_1 = page.get_text(clip=clip_new_version_2).strip()\n",
    "                                rate_2 = text_new_version_1\n",
    "                            # 如果出現任何錯誤，設置rate_2為None。\n",
    "                            except:\n",
    "                                rate_2 = None\n",
    "                        else:\n",
    "                            # count_true+=1\n",
    "                            print(f'{directory_path} is not 個股報告')\n",
    "                            # pass\n",
    "                    else:\n",
    "                        rate_1 = None\n",
    "                        rate_2 = None\n",
    "                else:\n",
    "                    # False\n",
    "                    print(f'{directory_path} is not posted by 永豐投顧')            \n",
    "            except:\n",
    "                print(directory_path, 'fail')\n",
    "        rate = check_rate_function(rate_1, rate_2, possible_rate)\n",
    "        if rate == 'NULL' :\n",
    "            print(directory_path, rate,\n",
    "                    f'rate_1={rate_1}, rate_2={rate_2}')\n",
    "        elif rate != None :\n",
    "            count_true += 1\n",
    "            # print(directory_path, rate,\n",
    "            #         f'rate_1={rate_1}, rate_2={rate_2}')\n",
    "        else :\n",
    "            print(directory_path, rate,\n",
    "                    f'rate_1={rate_1}, rate_2={rate_2}')\n",
    "        if rate not in possible_rate and rate != 'NULL':\n",
    "            possible_rate.append(rate)\n",
    "    except:\n",
    "        print(directory_path, 'fail')\n",
    "\n",
    "# 計算成功和失敗的數量並打印\n",
    "count_false = len(os.listdir(zip_path)) - count_true\n",
    "success_rate = round((count_true/len(os.listdir(zip_path))), 3)*100\n",
    "print(f'共{len(os.listdir(zip_path))}件, 成功{count_true}件, 失敗{count_false}件, 成功率:{success_rate}%')"
   ]
  },
  {
   "cell_type": "code",
   "execution_count": 8,
   "metadata": {},
   "outputs": [
    {
     "data": {
      "text/plain": [
       "['買進', '中立']"
      ]
     },
     "execution_count": 8,
     "metadata": {},
     "output_type": "execute_result"
    }
   ],
   "source": [
    "possible_rate"
   ]
  },
  {
   "cell_type": "code",
   "execution_count": 48,
   "metadata": {},
   "outputs": [
    {
     "name": "stdout",
     "output_type": "stream",
     "text": [
      "../file/永豐\\2890_永豐金_2019-05-24_永豐_永豐金(2890)-區間操作.pdf author_1=本資料內容僅供參考，投資人應\n",
      "第一金證券投資顧問股份有限公司(F, author_2=本資料內容僅供參考，投資人應\n",
      "../file/永豐\\5283_禾聯碩_2019-05-24_永豐_禾聯碩(5283)買進-TP113.pdf author_1=本資料內容僅供參考，投資人應\n",
      "第一金證券投資顧問股份有限公司(F, author_2=本資料內容僅供參考，投資人應\n",
      "共296件, 成功294件, 失敗2件\n"
     ]
    }
   ],
   "source": [
    "import os\n",
    "# check header\n",
    "zip_path = '../file/永豐'\n",
    "count_true = 0\n",
    "\n",
    "for directory in os.listdir(zip_path):\n",
    "    directory_path = os.path.join(zip_path, directory)\n",
    "    try:\n",
    "        # 使用with語句讀取PDF文件，確保在使用後自動關閉文件。\n",
    "        with fitz.open(directory_path) as doc:\n",
    "            mat = fitz.Matrix(1, 1)\n",
    "            page = doc.load_page(-1)  # 加載文檔的第-1頁\n",
    "            rect = page.rect\n",
    "            # 報告為新版\n",
    "            try:\n",
    "                # 裁剪並提取文本的第一種方法\n",
    "                clip_new_version_1 = fitz.Rect(0, 700, 200, rect.height)\n",
    "                pix = page.get_pixmap(matrix=mat, alpha=False, clip=clip_new_version_1)\n",
    "                pix.save(\"page-clip_new_version_1.png\")\n",
    "                text_new_version_1 = page.get_text(clip=clip_new_version_1, sort=True).strip()\n",
    "                text_new_version_1 = text_new_version_1.split('永豐證券投資顧問股份有限公司')[0].strip()\n",
    "                author_1 = text_new_version_1.split(' ')[0].strip()\n",
    "            # 如果出現任何錯誤，設置rate_1和rate_2為None。\n",
    "            except:\n",
    "                author_1 = None\n",
    "            # 報告為新版\n",
    "            try:\n",
    "                # 裁剪文本的第二種方法\n",
    "                clip_new_version_2 = fitz.Rect(0, 700, 200, 780)\n",
    "                pix = page.get_pixmap(matrix=mat, alpha=False, clip=clip_new_version_2)\n",
    "                pix.save(\"page-clip_new_version_2.png\")\n",
    "                text_new_version_2 = page.get_text(clip=clip_new_version_2).strip()\n",
    "                author_2 = text_new_version_2.split(' ')[0].strip()\n",
    "            # 如果出現任何錯誤，設置rate_2為None。\n",
    "            except:\n",
    "                author_2 = None\n",
    "            if author_1 == author_2:\n",
    "                count_true+=1\n",
    "            else:\n",
    "                print(directory_path,\n",
    "                    f'author_1={author_1}, author_2={author_2}')\n",
    "    except:\n",
    "        print(directory_path, 'fail')\n",
    "\n",
    "# 計算成功和失敗的數量並打印\n",
    "count_false = len(os.listdir(zip_path)) - count_true\n",
    "print(f'共{len(os.listdir(zip_path))}件, 成功{count_true}件, 失敗{count_false}件')"
   ]
  },
  {
   "cell_type": "code",
   "execution_count": 74,
   "metadata": {},
   "outputs": [],
   "source": [
    "import fitz\n",
    "# doc = fitz.open(r'../file/永豐/6840-東研信超-2023_02_14-永豐投顧- 台灣第二大本土專業檢測業者，營運穩健增長.pdf')\n",
    "doc = fitz.open(r'../file/永豐/2105_正新_2018-04-19_SinoPac_CF2105_正新_04192018.pdf')\n",
    "mat = fitz.Matrix(1, 1)\n",
    "page = doc.load_page(0)  # loads page number 'pno' of the document (0-based)\n",
    "rect = page.rect\n",
    "pix = page.get_pixmap(matrix=mat, alpha=False)\n",
    "pix.save(\"page-%i.png\" % page.number)"
   ]
  },
  {
   "cell_type": "code",
   "execution_count": 75,
   "metadata": {},
   "outputs": [
    {
     "name": "stdout",
     "output_type": "stream",
     "text": [
      "True\n"
     ]
    }
   ],
   "source": [
    "page_check_source = doc.load_page(-1)\n",
    "clip_check_source = fitz.Rect(0, 0, rect.width, rect.height)\n",
    "pix = page_check_source.get_pixmap(matrix=mat, alpha=False, clip=clip_check_source)\n",
    "pix.save(\"page-clip_check_source.png\")\n",
    "text_check_source = page_check_source.get_text(clip=clip_check_source)\n",
    "if 'SinoPac Securities' or '永豐證券投資顧問股份有限公司' in text_check_source :\n",
    "    print('True')"
   ]
  },
  {
   "cell_type": "code",
   "execution_count": 76,
   "metadata": {},
   "outputs": [
    {
     "name": "stdout",
     "output_type": "stream",
     "text": [
      "報告為舊版\n"
     ]
    }
   ],
   "source": [
    "# 檢查報告版本\n",
    "if 'SinoPac Securities' in text_check_source:\n",
    "   print('報告為新版')\n",
    "elif '永豐證券投資顧問股份有限公司' in text_check_source:\n",
    "   print('報告為舊版')"
   ]
  },
  {
   "attachments": {},
   "cell_type": "markdown",
   "metadata": {},
   "source": [
    "# rating"
   ]
  },
  {
   "cell_type": "code",
   "execution_count": 77,
   "metadata": {},
   "outputs": [
    {
     "data": {
      "text/plain": [
       "'買進 \\n雙印產能啟動，營運轉強'"
      ]
     },
     "execution_count": 77,
     "metadata": {},
     "output_type": "execute_result"
    }
   ],
   "source": [
    "# 報告為舊版\n",
    "try:\n",
    "    clip_old_version_1 = fitz.Rect(220, 80, 560, 140)\n",
    "    pix = page.get_pixmap(matrix=mat, alpha=False, clip=clip_old_version_1)\n",
    "    pix.save(\"page-clip_old_version_1.png\")\n",
    "    text_old_version_1 = page.get_text(clip=clip_old_version_1).strip()\n",
    "    text_old_version_1 = text_old_version_1.split('）')[1].strip()\n",
    "    rate_1 = text_old_version_1.split('\\n')[1].strip()\n",
    "except:\n",
    "    rate_1 = None\n",
    "text_old_version_1"
   ]
  },
  {
   "cell_type": "code",
   "execution_count": 78,
   "metadata": {},
   "outputs": [
    {
     "data": {
      "text/plain": [
       "'買進'"
      ]
     },
     "execution_count": 78,
     "metadata": {},
     "output_type": "execute_result"
    }
   ],
   "source": [
    "# 報告為舊版\n",
    "try:\n",
    "    clip_old_version_2 = fitz.Rect(425, 90, 560, 130)\n",
    "    pix = page.get_pixmap(matrix=mat, alpha=False, clip=clip_old_version_2)\n",
    "    pix.save(\"page-clip_old_version_2.png\")\n",
    "    rate_2 = page.get_text(clip=clip_old_version_2).strip()\n",
    "except:\n",
    "    rate_2 = None\n",
    "rate_2"
   ]
  },
  {
   "cell_type": "code",
   "execution_count": 81,
   "metadata": {},
   "outputs": [
    {
     "data": {
      "text/plain": [
       "''"
      ]
     },
     "execution_count": 81,
     "metadata": {},
     "output_type": "execute_result"
    }
   ],
   "source": [
    "# 報告為新版\n",
    "try:\n",
    "    # 裁剪並提取文本的第一種方法\n",
    "    clip_new_version_1 = fitz.Rect(0, 0, 200, 400)\n",
    "    pix = page.get_pixmap(matrix=mat, alpha=False, clip=clip_new_version_1)\n",
    "    pix.save(\"page-clip_new_version_1.png\")\n",
    "    text_new_version_1 = page.get_text(clip=clip_new_version_1, sort=True).strip()\n",
    "    text_new_version_1 = text_new_version_1.split('投資建議')[1]\n",
    "    rate_1 = text_new_version_1.split('\\n')[0].strip()\n",
    "# 如果出現任何錯誤，設置rate_1和rate_2為None。\n",
    "except:\n",
    "    rate_1 = None\n",
    "rate_1"
   ]
  },
  {
   "cell_type": "code",
   "execution_count": 82,
   "metadata": {},
   "outputs": [
    {
     "data": {
      "text/plain": [
       "'資料 \\n報酬率（％）'"
      ]
     },
     "execution_count": 82,
     "metadata": {},
     "output_type": "execute_result"
    }
   ],
   "source": [
    "# 報告為新版\n",
    "try:\n",
    "    # 裁剪文本的第二種方法\n",
    "    clip_new_version_2 = fitz.Rect(75, 200, 120, 235)\n",
    "    pix = page.get_pixmap(matrix=mat, alpha=False, clip=clip_new_version_2)\n",
    "    pix.save(\"page-clip_new_version_2.png\")\n",
    "    text_new_version_1 = page.get_text(clip=clip_new_version_2).strip()\n",
    "    rate_2 = text_new_version_1\n",
    "# 如果出現任何錯誤，設置rate_2為None。\n",
    "except:\n",
    "    rate_2 = None\n",
    "rate_2"
   ]
  },
  {
   "attachments": {},
   "cell_type": "markdown",
   "metadata": {},
   "source": [
    "# target price"
   ]
  },
  {
   "cell_type": "code",
   "execution_count": 79,
   "metadata": {},
   "outputs": [
    {
     "data": {
      "text/plain": [
       "'61'"
      ]
     },
     "execution_count": 79,
     "metadata": {},
     "output_type": "execute_result"
    }
   ],
   "source": [
    "# 報告為舊版\n",
    "try:\n",
    "    clip_old_version_1 = fitz.Rect(130, 100, 200, 160)\n",
    "    pix = page.get_pixmap(matrix=mat, alpha=False, clip=clip_old_version_1)\n",
    "    pix.save(\"page-clip_old_version_1.png\")\n",
    "    text_old_version_1 = page.get_text(clip=clip_old_version_1).strip()\n",
    "    text_old_version_1 = text_old_version_1.split('$')[1].strip()\n",
    "    tp_1 = text_old_version_1.split('\\n')[0].strip()\n",
    "except:\n",
    "    tp_1 = None\n",
    "tp_1"
   ]
  },
  {
   "cell_type": "code",
   "execution_count": 80,
   "metadata": {},
   "outputs": [
    {
     "data": {
      "text/plain": [
       "'61'"
      ]
     },
     "execution_count": 80,
     "metadata": {},
     "output_type": "execute_result"
    }
   ],
   "source": [
    "# 報告為舊版\n",
    "try:\n",
    "    clip_old_version_2 = fitz.Rect(130, 140, 200, 160)\n",
    "    pix = page.get_pixmap(matrix=mat, alpha=False, clip=clip_old_version_2)\n",
    "    pix.save(\"page-clip_old_version_2.png\")\n",
    "    text_old_version_2 = page.get_text(clip=clip_old_version_2).strip()\n",
    "    tp_2 = text_old_version_2.split('$')[1].strip()\n",
    "except:\n",
    "    tp_2 = None\n",
    "tp_2"
   ]
  },
  {
   "cell_type": "code",
   "execution_count": 83,
   "metadata": {},
   "outputs": [
    {
     "data": {
      "text/plain": [
       "'61'"
      ]
     },
     "execution_count": 83,
     "metadata": {},
     "output_type": "execute_result"
    }
   ],
   "source": [
    "# 報告為新版\n",
    "try:\n",
    "    # 裁剪並提取文本的第一種方法\n",
    "    clip_new_version_1 = fitz.Rect(115, 0, 200, 300)\n",
    "    pix = page.get_pixmap(matrix=mat, alpha=False, clip=clip_new_version_1)\n",
    "    pix.save(\"page-clip_new_version_1.png\")\n",
    "    text_new_version_1 = page.get_text(clip=clip_new_version_1, sort=True).strip()\n",
    "    text_new_version_1 = text_new_version_1.split('NT$')[1]\n",
    "    tp_1 = text_new_version_1.split('\\n')[0].strip()\n",
    "# 如果出現任何錯誤，設置rate_1和rate_2為None。\n",
    "except:\n",
    "    tp_1 = None\n",
    "tp_1"
   ]
  },
  {
   "cell_type": "code",
   "execution_count": 84,
   "metadata": {},
   "outputs": [],
   "source": [
    "# 報告為新版\n",
    "try:\n",
    "    # 裁剪文本的第二種方法\n",
    "    clip_new_version_2 = fitz.Rect(115, 235, 200, 270)\n",
    "    pix = page.get_pixmap(matrix=mat, alpha=False, clip=clip_new_version_2)\n",
    "    pix.save(\"page-clip_new_version_2.png\")\n",
    "    text_new_version_2 = page.get_text(clip=clip_new_version_2).strip()\n",
    "    tp_2 = text_new_version_2.split('NT$')[1].strip()\n",
    "# 如果出現任何錯誤，設置rate_2為None。\n",
    "except:\n",
    "    tp_2 = None\n",
    "tp_2"
   ]
  },
  {
   "attachments": {},
   "cell_type": "markdown",
   "metadata": {},
   "source": [
    "# author"
   ]
  },
  {
   "cell_type": "code",
   "execution_count": 85,
   "metadata": {},
   "outputs": [
    {
     "data": {
      "text/plain": [
       "'陳國民'"
      ]
     },
     "execution_count": 85,
     "metadata": {},
     "output_type": "execute_result"
    }
   ],
   "source": [
    "# 報告為新版\n",
    "try:\n",
    "    # 裁剪並提取文本的第一種方法\n",
    "    clip_new_version_1 = fitz.Rect(0, 700, 200, rect.height)\n",
    "    pix = page.get_pixmap(matrix=mat, alpha=False, clip=clip_new_version_1)\n",
    "    pix.save(\"page-clip_new_version_1.png\")\n",
    "    text_new_version_1 = page.get_text(clip=clip_new_version_1, sort=True).strip()\n",
    "    text_new_version_1 = text_new_version_1.split('永豐證券投資顧問股份有限公司')[0].strip()\n",
    "    author_1 = text_new_version_1.split(' ')[0].strip()\n",
    "# 如果出現任何錯誤，設置rate_1和rate_2為None。\n",
    "except:\n",
    "    author_1 = None\n",
    "author_1"
   ]
  },
  {
   "cell_type": "code",
   "execution_count": 86,
   "metadata": {},
   "outputs": [
    {
     "data": {
      "text/plain": [
       "'陳國民 \\n kent.chen@sinopac.com'"
      ]
     },
     "execution_count": 86,
     "metadata": {},
     "output_type": "execute_result"
    }
   ],
   "source": [
    "# 報告為新版\n",
    "try:\n",
    "    # 裁剪文本的第二種方法\n",
    "    clip_new_version_2 = fitz.Rect(0, 700, 200, 780)\n",
    "    pix = page.get_pixmap(matrix=mat, alpha=False, clip=clip_new_version_2)\n",
    "    pix.save(\"page-clip_new_version_2.png\")\n",
    "    text_new_version_2 = page.get_text(clip=clip_new_version_2).strip()\n",
    "    author_2 = text_new_version_2.split(' ')[0].strip()\n",
    "# 如果出現任何錯誤，設置rate_2為None。\n",
    "except:\n",
    "    author_2 = None\n",
    "text_new_version_2"
   ]
  },
  {
   "cell_type": "code",
   "execution_count": 87,
   "metadata": {},
   "outputs": [
    {
     "data": {
      "text/plain": [
       "'陳國民'"
      ]
     },
     "execution_count": 87,
     "metadata": {},
     "output_type": "execute_result"
    }
   ],
   "source": [
    "# 報告為舊版\n",
    "clip_old_version_1 = fitz.Rect(0, 700, 200, rect.height)\n",
    "text_old_version_1 = page.get_text(clip=clip_old_version_1, sort=True).strip()\n",
    "pix = page.get_pixmap(matrix=mat, alpha=False, clip=clip_old_version_1)\n",
    "pix.save(\"page-clip_old_version_1.png\")\n",
    "try:\n",
    "    text_old_version_1 = text_old_version_1.split('詳見最後頁聲明')[0].strip()\n",
    "    author_1 = text_old_version_1.split(' ')[0].strip()\n",
    "except:\n",
    "    author_1 = 'NULL'\n",
    "author_1"
   ]
  },
  {
   "cell_type": "code",
   "execution_count": 88,
   "metadata": {},
   "outputs": [
    {
     "data": {
      "text/plain": [
       "'陳國民'"
      ]
     },
     "execution_count": 88,
     "metadata": {},
     "output_type": "execute_result"
    }
   ],
   "source": [
    "# 報告為舊版\n",
    "clip_old_version_2 = fitz.Rect(0, 700, 200, 780)\n",
    "text_old_version_2 = page.get_text(clip=clip_old_version_2).strip()\n",
    "pix = page.get_pixmap(matrix=mat, alpha=False, clip=clip_old_version_2)\n",
    "pix.save(\"page-clip_old_version_2.png\")\n",
    "try:\n",
    "    author_2 = text_old_version_2.split(' ')[0].strip()\n",
    "except:\n",
    "    author_2 = 'NULL'\n",
    "author_2"
   ]
  },
  {
   "attachments": {},
   "cell_type": "markdown",
   "metadata": {},
   "source": [
    "# summary"
   ]
  },
  {
   "cell_type": "code",
   "execution_count": 89,
   "metadata": {},
   "outputs": [],
   "source": [
    "# 報告為新版\n",
    "try:\n",
    "    # 裁剪並提取文本的第一種方法\n",
    "    clip_new_version_1 = fitz.Rect(200, 170, rect.width, 250)\n",
    "    pix = page.get_pixmap(matrix=mat, alpha=False, clip=clip_new_version_1)\n",
    "    pix.save(\"page-clip_new_version_1.png\")\n",
    "    text_new_version_1 = page.get_text(clip=clip_new_version_1, sort=True).strip()\n",
    "    text_new_version_1 = text_new_version_1.split(')')[1].strip()\n",
    "    summary_1 = text_new_version_1.split('\\n')[0].strip()\n",
    "# 如果出現任何錯誤，設置rate_1和rate_2為None。\n",
    "except:\n",
    "    summary_1 = None\n",
    "summary_1"
   ]
  },
  {
   "cell_type": "code",
   "execution_count": 97,
   "metadata": {},
   "outputs": [
    {
     "data": {
      "text/plain": [
       "'最壞情\\n過\\n投資建議維持買進\\n研究處在\\n司\\n說會後\\n投\\n資建議維持買進，主因：（1）雙印產能開出，印度廠己接到本田\\n機車胎訂單，今年 3 月開始量產，今年雙印對營收貢獻約 2％，；\\n（2）調漲輪胎售價及原料價格下滑，均有利於毛利率改善；（3）\\n06 4 2'"
      ]
     },
     "execution_count": 97,
     "metadata": {},
     "output_type": "execute_result"
    }
   ],
   "source": [
    "# 報告為新版\n",
    "try:\n",
    "    # 裁剪文本的第二種方法\n",
    "    clip_new_version_2 = fitz.Rect(200, 200, 560, 250)\n",
    "    pix = page.get_pixmap(matrix=mat, alpha=False, clip=clip_new_version_2)\n",
    "    pix.save(\"page-clip_new_version_2.png\")\n",
    "    text_new_version_2 = page.get_text(clip=clip_new_version_2).strip()\n",
    "    summary_2 = text_new_version_2.split('\\n')[0].strip()\n",
    "# 如果出現任何錯誤，設置rate_2為None。\n",
    "except:\n",
    "    summary_2 = None\n",
    "text_new_version_2"
   ]
  },
  {
   "cell_type": "code",
   "execution_count": 95,
   "metadata": {},
   "outputs": [
    {
     "data": {
      "text/plain": [
       "'雙印產能啟動，營運轉強'"
      ]
     },
     "execution_count": 95,
     "metadata": {},
     "output_type": "execute_result"
    }
   ],
   "source": [
    "# 報告為舊版\n",
    "clip_old_version_1 = fitz.Rect(0, 0, rect.width, 170)\n",
    "text_old_version_1 = page.get_text(clip=clip_old_version_1, sort=True).strip()\n",
    "pix = page.get_pixmap(matrix=mat, alpha=False, clip=clip_old_version_1)\n",
    "pix.save(\"page-clip_old_version_1.png\")\n",
    "try:\n",
    "    text_old_version_1 = text_old_version_1.split('目標價')[1].strip()\n",
    "    summary_1 = text_old_version_1.split('\\n')[0].strip()\n",
    "except:\n",
    "    summary_1 = 'NULL'\n",
    "summary_1"
   ]
  },
  {
   "cell_type": "code",
   "execution_count": 96,
   "metadata": {},
   "outputs": [
    {
     "data": {
      "text/plain": [
       "'雙印產能啟動，營運轉強'"
      ]
     },
     "execution_count": 96,
     "metadata": {},
     "output_type": "execute_result"
    }
   ],
   "source": [
    "# 報告為舊版\n",
    "clip_old_version_2 = fitz.Rect(220, 125, 550, 155)\n",
    "text_old_version_2 = page.get_text(clip=clip_old_version_2).strip()\n",
    "pix = page.get_pixmap(matrix=mat, alpha=False, clip=clip_old_version_2)\n",
    "pix.save(\"page-clip_old_version_2.png\")\n",
    "try:\n",
    "    summary_2 = text_old_version_2.split('\\n')[0].strip()\n",
    "except:\n",
    "    summary_2 = 'NULL'\n",
    "summary_2"
   ]
  }
 ],
 "metadata": {
  "kernelspec": {
   "display_name": "venv_stock",
   "language": "python",
   "name": "python3"
  },
  "language_info": {
   "codemirror_mode": {
    "name": "ipython",
    "version": 3
   },
   "file_extension": ".py",
   "mimetype": "text/x-python",
   "name": "python",
   "nbconvert_exporter": "python",
   "pygments_lexer": "ipython3",
   "version": "3.11.1"
  },
  "orig_nbformat": 4,
  "vscode": {
   "interpreter": {
    "hash": "ba787645ba8ce3b43ca5d5c1bc5ea17dd580ada22e1bd31731a2a86b718f16cf"
   }
  }
 },
 "nbformat": 4,
 "nbformat_minor": 2
}
