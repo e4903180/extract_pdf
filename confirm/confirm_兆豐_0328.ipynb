{
 "cells": [
  {
   "cell_type": "code",
   "execution_count": 113,
   "metadata": {},
   "outputs": [],
   "source": [
    "import os\n",
    "import fitz\n",
    "from tqdm import tqdm"
   ]
  },
  {
   "cell_type": "code",
   "execution_count": 114,
   "metadata": {},
   "outputs": [],
   "source": [
    "def check_rate_function(rate_1, rate_2, possible_rate):\n",
    "        # 檢查兩種方法提取的評價是否相同\n",
    "    if rate_1 == rate_2 and rate_1!= None:\n",
    "        return rate_1\n",
    "    elif rate_1 in possible_rate:\n",
    "        return rate_1\n",
    "    elif rate_2 in possible_rate:\n",
    "        return rate_2\n",
    "    else :\n",
    "        return 'NULL'\n",
    "            "
   ]
  },
  {
   "cell_type": "code",
   "execution_count": 121,
   "metadata": {},
   "outputs": [
    {
     "name": "stderr",
     "output_type": "stream",
     "text": [
      "100%|██████████| 521/521 [00:29<00:00, 17.81it/s]"
     ]
    },
    {
     "name": "stdout",
     "output_type": "stream",
     "text": [
      "共521件, 成功521件, 失敗0件, 成功率:100.0%\n"
     ]
    },
    {
     "name": "stderr",
     "output_type": "stream",
     "text": [
      "\n"
     ]
    }
   ],
   "source": [
    "zip_path = '兆豐'\n",
    "count_true = 0\n",
    "possible_rate = ['逢低買進', '區間操作', '買進']\n",
    "check_source = '本刊所刊載之內容僅做為參考，惟已力求正確與完整'\n",
    "for directory in tqdm(os.listdir(zip_path)):\n",
    "    directory_path = os.path.join(zip_path, directory)\n",
    "    rate_1 = None\n",
    "    rate_2 = None\n",
    "    rate = None\n",
    "    try:\n",
    "        with fitz.open(directory_path) as doc:\n",
    "            mat = fitz.Matrix(1, 1)\n",
    "            page = doc.load_page(0)\n",
    "            rect = page.rect\n",
    "            page_check_source = doc.load_page(-1)\n",
    "            text_check_source = page_check_source.get_text()\n",
    "            if check_source in text_check_source :\n",
    "                # 檢查版本                \n",
    "                clip_check_new_report = fitz.Rect(rect.width/2, 0, rect.width, 150)\n",
    "                text_check_new_report = page.get_text(clip=clip_check_new_report)\n",
    "                if '訪談速報' in text_check_new_report or '個股報告' in text_check_new_report:\n",
    "                    # 提取評價的第一種方法\n",
    "                    try:\n",
    "                        clip_old_report_1 = fitz.Rect(400, 0, rect.width, 200)\n",
    "                        text_old_report_1 = page.get_text(clip=clip_old_report_1).strip()\n",
    "                        text_old_report_1 = text_old_report_1.split('目標價')[1].strip()\n",
    "                        rate_1 = text_old_report_1.split('\\n')[0].strip()\n",
    "                    except:\n",
    "                        rate_1 = None\n",
    "                        # 提取評價的第二種方法\n",
    "                    try:\n",
    "                        clip_old_report_2 = fitz.Rect(410, 140, 490, 165)\n",
    "                        rate_2 = page.get_text(clip=clip_old_report_2).strip()\n",
    "                    except:\n",
    "                        rate_2 = None\n",
    "                    rate = check_rate_function(rate_1, rate_2, possible_rate)\n",
    "                elif '晨會報告' in text_check_new_report :\n",
    "                    rate = 'wrong'\n",
    "                else :\n",
    "                    print(f'{text_check_new_report}, {directory_path} NULL')\n",
    "            else:\n",
    "                # False\n",
    "                print(f'{directory_path} is not posted by 兆豐投顧')\n",
    "    except:\n",
    "        print(directory_path, 'fail')\n",
    "    if rate == 'NULL' :\n",
    "        print(directory_path, rate,\n",
    "                f'rate_1={rate_1}, rate_2={rate_2}')\n",
    "    elif rate == 'wrong':\n",
    "        count_true += 1\n",
    "        # print(directory_path, rate,\n",
    "        #       f'text_check_new_report={text_check_new_report}, text_check_old_fast_report={text_check_old_fast_report}')\n",
    "    elif rate != None :\n",
    "        count_true += 1\n",
    "        # print(directory_path, rate,\n",
    "        #         f'rate_1={rate_1}, rate_2={rate_2}')\n",
    "    else :\n",
    "        print(directory_path, rate,\n",
    "                f'rate_1={rate_1}, rate_2={rate_2}')\n",
    "# 計算成功和失敗的數量並打印\n",
    "count_false = len(os.listdir(zip_path)) - count_true\n",
    "success_rate = round((count_true/len(os.listdir(zip_path))), 3)*100\n",
    "print(f'共{len(os.listdir(zip_path))}件, 成功{count_true}件, 失敗{count_false}件, 成功率:{success_rate}%')"
   ]
  },
  {
   "cell_type": "code",
   "execution_count": 116,
   "metadata": {},
   "outputs": [],
   "source": [
    "import fitz\n",
    "doc = fitz.open(r'兆豐\\1101_台泥_2019-03-12_兆豐_20190312-訪談速報-台泥(1101).pdf')\n",
    "mat = fitz.Matrix(1, 1)\n",
    "page = doc.load_page(0)  # loads page number 'pno' of the document (0-based)\n",
    "rect = page.rect\n",
    "pix = page.get_pixmap(matrix=mat, alpha=False)\n",
    "pix.save(\"page-%i.png\" % page.number)"
   ]
  },
  {
   "cell_type": "code",
   "execution_count": 117,
   "metadata": {},
   "outputs": [
    {
     "name": "stdout",
     "output_type": "stream",
     "text": [
      "True\n"
     ]
    }
   ],
   "source": [
    "# 檢查是否由統一投顧出版\n",
    "page_check_source = doc.load_page(-1)\n",
    "text_check_source = page_check_source.get_text()\n",
    "if check_source in text_check_source :\n",
    "    print('True')"
   ]
  },
  {
   "cell_type": "code",
   "execution_count": 118,
   "metadata": {},
   "outputs": [
    {
     "name": "stdout",
     "output_type": "stream",
     "text": [
      "訪談速報\n"
     ]
    }
   ],
   "source": [
    "# 檢查版本\n",
    "clip_check_new_report = fitz.Rect(rect.width/2, 0, rect.width, 150)\n",
    "pix = page.get_pixmap(matrix=mat, alpha=False, clip=clip_check_new_report)\n",
    "pix.save(\"page-clip_check_new_report.png\")\n",
    "text_check_new_report = page.get_text(clip=clip_check_new_report)\n",
    "if '訪談速報' in text_check_new_report :\n",
    "    print('訪談速報')\n",
    "elif '個股報告' in text_check_new_report :\n",
    "    print('個股報告')\n",
    "# elif '初次報告' in text_check_new_report :\n",
    "#     print('初次報告')\n",
    "# elif '投資早報' in text_check_new_report or '港股投資' in text_check_new_report:\n",
    "#     print('投資早報 or 港股投資')\n",
    "else :\n",
    "    print('NULL')\n"
   ]
  },
  {
   "cell_type": "code",
   "execution_count": 119,
   "metadata": {},
   "outputs": [
    {
     "data": {
      "text/plain": [
       "'逢低買進'"
      ]
     },
     "execution_count": 119,
     "metadata": {},
     "output_type": "execute_result"
    }
   ],
   "source": [
    "# 報告為舊版個股報告 提取評價的第一種方法\n",
    "try:\n",
    "    clip_old_report_1 = fitz.Rect(400, 0, rect.width, 200)\n",
    "    text_old_report_1 = page.get_text(clip=clip_old_report_1, sort=True).strip()\n",
    "    pix = page.get_pixmap(matrix=mat, alpha=False, clip=clip_old_report_1)\n",
    "    pix.save(\"page-clip_old_report_1.png\")\n",
    "    text_old_report_1 = text_old_report_1.split('目標價')[1].strip()\n",
    "    rate_1 = text_old_report_1.split('\\n')[0].strip()\n",
    "except:\n",
    "    rate_1 = None\n",
    "rate_1"
   ]
  },
  {
   "cell_type": "code",
   "execution_count": 120,
   "metadata": {},
   "outputs": [
    {
     "data": {
      "text/plain": [
       "'逢低買進'"
      ]
     },
     "execution_count": 120,
     "metadata": {},
     "output_type": "execute_result"
    }
   ],
   "source": [
    "# 報告為舊版個股報告 提取評價的第二種方法\n",
    "try:\n",
    "    clip_old_report_2 = fitz.Rect(410, 140, 490, 165)\n",
    "    rate_2 = page.get_text(clip=clip_old_report_2).strip()\n",
    "    pix = page.get_pixmap(matrix=mat, alpha=False, clip=clip_old_report_2)\n",
    "    pix.save(\"page-clip_old_report_2.png\")\n",
    "except:\n",
    "    rate_2 = None\n",
    "rate_2"
   ]
  }
 ],
 "metadata": {
  "kernelspec": {
   "display_name": "venv_stock",
   "language": "python",
   "name": "python3"
  },
  "language_info": {
   "codemirror_mode": {
    "name": "ipython",
    "version": 3
   },
   "file_extension": ".py",
   "mimetype": "text/x-python",
   "name": "python",
   "nbconvert_exporter": "python",
   "pygments_lexer": "ipython3",
   "version": "3.8.5"
  },
  "orig_nbformat": 4,
  "vscode": {
   "interpreter": {
    "hash": "ba787645ba8ce3b43ca5d5c1bc5ea17dd580ada22e1bd31731a2a86b718f16cf"
   }
  }
 },
 "nbformat": 4,
 "nbformat_minor": 2
}
