{
 "cells": [
  {
   "cell_type": "code",
   "execution_count": 1,
   "metadata": {},
   "outputs": [],
   "source": [
    "import os\n",
    "import fitz"
   ]
  },
  {
   "cell_type": "code",
   "execution_count": 57,
   "metadata": {},
   "outputs": [],
   "source": [
    "def check_rate_function(rate_1, rate_2, possible_rate):\n",
    "        # 檢查兩種方法提取的評價是否相同\n",
    "    if rate_1 == rate_2 and rate_1!= None:\n",
    "        return rate_1\n",
    "    else:\n",
    "        if rate_1 in possible_rate:\n",
    "            return rate_1\n",
    "        elif rate_2 in possible_rate:\n",
    "            return rate_2\n",
    "        else :\n",
    "            return 'NULL'\n",
    "            "
   ]
  },
  {
   "cell_type": "code",
   "execution_count": 58,
   "metadata": {},
   "outputs": [
    {
     "name": "stdout",
     "output_type": "stream",
     "text": [
      "富邦\\2303_聯電_2019-02-13_富邦台灣_2303_聯電_snapshot_c_013019.pdf NULL rate_1=降, rate_2=降\n",
      " \n",
      "降低持股\n",
      "富邦\\2308_台達電_2018-10-03_富邦台灣_2308_台達電_snapshot_c_100118.pdf NULL rate_1=增, rate_2=增\n",
      "增加持股\n",
      "富邦\\2912_統一超_2018-03-22_富邦台灣_2912_統一超_snapshot_c_032018.pdf NULL rate_1=增, rate_2=增\n",
      "增加持股\n",
      "富邦\\2912_統一超_2018-08-10_富邦台灣_2912_統一超_snapshot_c_080718.pdf NULL rate_1=增, rate_2=價格 \n",
      "目標價\n",
      "富邦\\3231_緯創_2019-05-13_富邦台灣_3231_緯創_snapshot_c_051319.pdf NULL rate_1=增, rate_2=增\n",
      "增加持股\n",
      "富邦\\4915_致伸_2018-04-03_富邦台灣_4915_致伸_snapshot_c_033118.pdf NULL rate_1=增, rate_2=增\n",
      "增加持股\n",
      "富邦\\8150_南茂_2018-06-15_富邦台灣_8150_南茂_In-depth_c_061318.pdf NULL rate_1=增, rate_2=價格 \n",
      "目標價\n",
      "富邦\\8454_富邦媒_2018-10-24_富邦台灣_8454_富邦媒體科技_snapshot_c_101918.pdf NULL rate_1=增, rate_2=增\n",
      "增加持股\n",
      "富邦\\8454_富邦媒_2019-01-27_富邦台灣_8454_富邦媒體科技_snapshot_c_012219.pdf NULL rate_1=增, rate_2=增\n",
      "增加持股\n",
      "共700件, 成功691件, 失敗9件, 成功率:98.7%\n"
     ]
    }
   ],
   "source": [
    "zip_path = '富邦'\n",
    "count_true = 0\n",
    "\n",
    "possible_rate = ['增加持股', '未評等', '中立', '買進', '降低持股', 'Buy', 'Neutral']\n",
    "for directory in os.listdir(zip_path):\n",
    "    directory_path = os.path.join(zip_path, directory)\n",
    "    rate_1 = None\n",
    "    rate_2 = None\n",
    "    rate = None\n",
    "    try:\n",
    "        # 使用with語句讀取PDF文件，確保在使用後自動關閉文件。\n",
    "        with fitz.open(directory_path) as doc:\n",
    "            mat = fitz.Matrix(1, 1)\n",
    "            page = doc.load_page(0)  # 加載文檔的第0頁\n",
    "            rect = page.rect\n",
    "            try:\n",
    "                # 檢查是否由富邦投顧出版\n",
    "                clip_check_source = fitz.Rect(30, 70, 200, 140)\n",
    "                text_check_source = page.get_text(clip=clip_check_source)\n",
    "                if 'Fubon' in text_check_source :\n",
    "                    try:\n",
    "                        # 裁剪並提取文本的第一種方法\n",
    "                        clip = fitz.Rect(50, 120, 200, 200)\n",
    "                        text = page.get_text(clip=clip, sort=True).strip()\n",
    "                        rate_1 = text.split('\\n')[0].strip()\n",
    "                    # 如果出現任何錯誤，設置rate_1為None。\n",
    "                    except:\n",
    "                        rate_1 = None\n",
    "                    try:\n",
    "                        # 裁剪文本的第二種方法\n",
    "                        clip = fitz.Rect(50, 140, 210, 170)\n",
    "                        rate_2 = page.get_text(clip=clip).strip()\n",
    "                    # 如果出現任何錯誤，設置rate_2為None。\n",
    "                    except:\n",
    "                        rate_2 = None\n",
    "                    rate = check_rate_function(rate_1, rate_2, possible_rate)\n",
    "                else:\n",
    "                    # False\n",
    "                    print(f'{directory_path} is not posted by 富邦投顧')\n",
    "            except:\n",
    "                print(directory_path, 'fail')\n",
    "    except:\n",
    "        print(directory_path, 'fail')\n",
    "    if rate == 'NULL' :\n",
    "        print(directory_path, rate,\n",
    "                f'rate_1={rate_1}, rate_2={rate_2}')\n",
    "    else :\n",
    "        count_true += 1\n",
    "        # print(directory_path, rate,\n",
    "        #         f'rate_1={rate_1}, rate_2={rate_2}')\n",
    "        \n",
    "# 計算成功和失敗的數量並打印\n",
    "count_false = len(os.listdir(zip_path)) - count_true\n",
    "success_rate = round((count_true/len(os.listdir(zip_path))), 3)*100\n",
    "print(f'共{len(os.listdir(zip_path))}件, 成功{count_true}件, 失敗{count_false}件, 成功率:{success_rate}%')"
   ]
  },
  {
   "cell_type": "code",
   "execution_count": 59,
   "metadata": {},
   "outputs": [
    {
     "data": {
      "text/plain": [
       "['增加持股', '未評等', '中立', '買進', '降低持股', 'Buy', 'Neutral']"
      ]
     },
     "execution_count": 59,
     "metadata": {},
     "output_type": "execute_result"
    }
   ],
   "source": [
    "possible_rate"
   ]
  },
  {
   "cell_type": "code",
   "execution_count": 60,
   "metadata": {},
   "outputs": [],
   "source": [
    "# # check header\n",
    "# zip_path = '富邦'\n",
    "# count_true = 0\n",
    "\n",
    "# for directory in os.listdir(zip_path):\n",
    "#     directory_path = os.path.join(zip_path, directory)\n",
    "#     try:\n",
    "#         # 使用with語句讀取PDF文件，確保在使用後自動關閉文件。\n",
    "#         with fitz.open(directory_path) as doc:\n",
    "#             mat = fitz.Matrix(1, 1)\n",
    "#             page = doc.load_page(0)  # 加載文檔的第0頁\n",
    "#             rect = page.rect\n",
    "#             try:\n",
    "#                 clip_check_source = fitz.Rect(30, 70, 200, 140)\n",
    "#                 text_check_source = page.get_text(clip=clip_check_source)\n",
    "#                 if 'Fubon' in text_check_source :\n",
    "#                     count_true+=1\n",
    "#                     print(directory_path, 'True')\n",
    "#                 else:\n",
    "#                     print(directory_path, 'False')\n",
    "#             except:\n",
    "#                 pass\n",
    "#     except:\n",
    "#         print(directory_path, 'fail')\n",
    "\n",
    "# # 計算成功和失敗的數量並打印\n",
    "# count_false = len(os.listdir(zip_path)) - count_true\n",
    "# print(f'共{len(os.listdir(zip_path))}件, 成功{count_true}件, 失敗{count_false}件')"
   ]
  },
  {
   "cell_type": "code",
   "execution_count": 2,
   "metadata": {},
   "outputs": [],
   "source": [
    "import fitz\n",
    "doc = fitz.open(r'富邦\\2303_聯電_2019-02-13_富邦台灣_2303_聯電_snapshot_c_013019.pdf')\n",
    "mat = fitz.Matrix(1, 1)\n",
    "page = doc.load_page(0)  # loads page number 'pno' of the document (0-based)\n",
    "rect = page.rect\n"
   ]
  },
  {
   "cell_type": "code",
   "execution_count": 3,
   "metadata": {},
   "outputs": [],
   "source": [
    "# screenshot\n",
    "clip = fitz.Rect(0, 0, rect.width, rect.height)\n",
    "pix = page.get_pixmap(matrix=mat, alpha=False, clip=clip)\n",
    "pix.save(\"page-%i.png\" % page.number)\n"
   ]
  },
  {
   "cell_type": "code",
   "execution_count": 4,
   "metadata": {},
   "outputs": [
    {
     "data": {
      "text/plain": [
       "'F\\n2\\n \\n \\nFubon Researc\\n019 年 1 月 30\\nch \\n日 \\n'"
      ]
     },
     "execution_count": 4,
     "metadata": {},
     "output_type": "execute_result"
    }
   ],
   "source": [
    "# check source\n",
    "clip = fitz.Rect(30, 70, 200, 140)\n",
    "pix = page.get_pixmap(matrix=mat, alpha=False, clip=clip)\n",
    "pix.save(\"page-%i.png\" % page.number)\n",
    "text = page.get_text(clip=clip)\n",
    "text"
   ]
  },
  {
   "cell_type": "code",
   "execution_count": 5,
   "metadata": {},
   "outputs": [
    {
     "data": {
      "text/plain": [
       "'降'"
      ]
     },
     "execution_count": 5,
     "metadata": {},
     "output_type": "execute_result"
    }
   ],
   "source": [
    "# method_1 : clipping and text extraction \n",
    "clip = fitz.Rect(50, 120, 210, 200)\n",
    "pix = page.get_pixmap(matrix=mat, alpha=False, clip=clip)\n",
    "pix.save(\"page-%i.png\" % page.number)\n",
    "text = page.get_text(clip=clip, sort=True).strip()\n",
    "rate_1 = text.split('\\n')[0].strip()\n",
    "rate_1"
   ]
  },
  {
   "cell_type": "code",
   "execution_count": 6,
   "metadata": {},
   "outputs": [
    {
     "name": "stdout",
     "output_type": "stream",
     "text": [
      "降\n",
      "價格 \n",
      "降低持股 \n",
      "目標價\n"
     ]
    }
   ],
   "source": [
    "# method_2 : clipping \n",
    "clip = fitz.Rect(50, 140, 210, 175)\n",
    "pix = page.get_pixmap(matrix=mat, alpha=False, clip=clip)\n",
    "pix.save(\"page-%i.png\" % page.number)\n",
    "rate_2 = page.get_text(clip=clip).strip()\n",
    "print(rate_2)"
   ]
  },
  {
   "cell_type": "code",
   "execution_count": 7,
   "metadata": {},
   "outputs": [
    {
     "data": {
      "text/plain": [
       "False"
      ]
     },
     "execution_count": 7,
     "metadata": {},
     "output_type": "execute_result"
    }
   ],
   "source": [
    "rate_1 == rate_2"
   ]
  }
 ],
 "metadata": {
  "kernelspec": {
   "display_name": "venv_stock",
   "language": "python",
   "name": "python3"
  },
  "language_info": {
   "codemirror_mode": {
    "name": "ipython",
    "version": 3
   },
   "file_extension": ".py",
   "mimetype": "text/x-python",
   "name": "python",
   "nbconvert_exporter": "python",
   "pygments_lexer": "ipython3",
   "version": "3.8.5"
  },
  "orig_nbformat": 4,
  "vscode": {
   "interpreter": {
    "hash": "ba787645ba8ce3b43ca5d5c1bc5ea17dd580ada22e1bd31731a2a86b718f16cf"
   }
  }
 },
 "nbformat": 4,
 "nbformat_minor": 2
}
