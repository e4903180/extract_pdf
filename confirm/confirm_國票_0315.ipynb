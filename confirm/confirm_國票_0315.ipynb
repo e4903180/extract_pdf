{
 "cells": [
  {
   "cell_type": "code",
   "execution_count": 1,
   "metadata": {},
   "outputs": [],
   "source": [
    "import os\n",
    "import fitz"
   ]
  },
  {
   "cell_type": "code",
   "execution_count": 2,
   "metadata": {},
   "outputs": [],
   "source": [
    "def check_rate_function(rate_1, rate_2, possible_rate):\n",
    "        # 檢查兩種方法提取的評價是否相同\n",
    "    if rate_1 == rate_2 and rate_1!= None:\n",
    "        return rate_1\n",
    "    else:\n",
    "        if rate_1 in possible_rate:\n",
    "            return rate_1\n",
    "        elif rate_2 in possible_rate:\n",
    "            return rate_2\n",
    "        else :\n",
    "            return 'NULL'\n",
    "            "
   ]
  },
  {
   "cell_type": "code",
   "execution_count": 3,
   "metadata": {},
   "outputs": [
    {
     "name": "stdout",
     "output_type": "stream",
     "text": [
      "國票\\2020_美亞_2019-04-26_國票_國票04262019總經評論_日本央行修改前瞻指引，指出將維持超低利率至2020春，並下調GDP預估.pdf NULL rate_1=None, rate_2=None\n",
      "共866件, 成功865件, 失敗1件, 成功率:99.9%\n"
     ]
    }
   ],
   "source": [
    "zip_path = '國票'\n",
    "count_true = 0\n",
    "possible_rate = ['買進', '區間操作', '強力買進']\n",
    "rate_1 = None\n",
    "rate_2 = None\n",
    "for directory in os.listdir(zip_path):\n",
    "    directory_path = os.path.join(zip_path, directory)\n",
    "    try:\n",
    "        # 使用with語句讀取PDF文件，確保在使用後自動關閉文件。\n",
    "        with fitz.open(directory_path) as doc:\n",
    "            mat = fitz.Matrix(1, 1)\n",
    "            page = doc.load_page(0) # 加載文檔的第0頁\n",
    "            rect = page.rect\n",
    "            try:\n",
    "                # 檢查是否由國票投顧出版\n",
    "                page_check_source = doc.load_page(-1)  # 加載文檔的最後一頁\n",
    "                clip_check_source = fitz.Rect(0, 0, rect.width, rect.height)\n",
    "                text_check_source = page_check_source.get_text(clip=clip_check_source)\n",
    "                if '國票投顧所有' in text_check_source:\n",
    "                    # 檢查報告版本\n",
    "                    clip_check_version = fitz.Rect(40, 0, rect.width, 400)\n",
    "                    text_check_version = page.get_text(clip=clip_check_version, sort=True).strip()\n",
    "                    if '國票觀點' in text_check_version:\n",
    "                        # 報告為舊版\n",
    "                        try:\n",
    "                            # 裁剪並提取文本的第一種方法\n",
    "                            clip_old_version_1 = fitz.Rect(380, 0, rect.width, 400)\n",
    "                            text_old_version_1 = page.get_text(clip=clip_old_version_1).strip()\n",
    "                            if '目標價' in text_old_version_1:\n",
    "                                text_old_version_1 = text_old_version_1.split('目標價')[1].strip()\n",
    "                                rate_1 = text_old_version_1.split('\\n')[0].strip()\n",
    "                            elif '區間價位' in text_old_version_1:\n",
    "                                text_old_version_1 = text_old_version_1.split('區間價位')[1].strip()\n",
    "                                rate_1 = text_old_version_1.split('\\n')[0].strip()\n",
    "                            elif '操作區間' in text_old_version_1:\n",
    "                                text_old_version_1 = text_old_version_1.split('操作區間')[1].strip()\n",
    "                                rate_1 = text_old_version_1.split('\\n')[0].strip()\n",
    "                            elif '/買進' in text_old_version_1:\n",
    "                                text_old_version_1 = text_old_version_1.split('/買進')[1].strip()\n",
    "                                rate_1 = text_old_version_1.split('\\n')[0].strip()\n",
    "                            else:\n",
    "                                rate_1 = None\n",
    "                        except:\n",
    "                            rate_1 = None\n",
    "                        try:\n",
    "                            # 裁剪文本的第二種方法\n",
    "                            clip_old_version_2 = fitz.Rect(380, 200, 470, 270)\n",
    "                            text_old_version_2 = page.get_text(clip=clip_old_version_2).strip()\n",
    "                            if '買進' in text_old_version_2:\n",
    "                                rate_2 = '買進'\n",
    "                            elif '區間操作' in text_old_version_2:\n",
    "                                rate_2 = '區間操作'\n",
    "                            elif '賣出' in text_old_version_2:\n",
    "                                rate_2 = '賣出'\n",
    "                            else:\n",
    "                                rate_2 = None\n",
    "                            # clip_old_version_2 = fitz.Rect(380, 240, 470, 275)\n",
    "                            # rate_2 = page.get_text(clip=clip_old_version_2).strip()\n",
    "                        except:\n",
    "                            rate_2 = None\n",
    "                    else:\n",
    "                        # 報告為新版\n",
    "                        try:\n",
    "                            # 裁剪並提取文本的第一種方法\n",
    "                            clip_new_version_1 = fitz.Rect(30, 200, 220, 400)\n",
    "                            text_new_version_1 = page.get_text(clip=clip_new_version_1, sort=True).strip()\n",
    "                            if '目標價' in text_new_version_1:\n",
    "                                text_new_version_1 = text_new_version_1.split('目標價')[1].strip()\n",
    "                                rate_1 = text_new_version_1.split('\\n')[0].strip()  \n",
    "                            elif '區間價位' in text_new_version_1:\n",
    "                                text_new_version_1 = text_new_version_1.split('區間價位')[1].strip()\n",
    "                                rate_1 = text_new_version_1.split('\\n')[0].strip()  \n",
    "                            elif '操作區間' in text_new_version_1:\n",
    "                                text_new_version_1 = text_new_version_1.split('操作區間')[1].strip()\n",
    "                                rate_1 = text_new_version_1.split('\\n')[0].strip()  \n",
    "                            else:\n",
    "                                rate_1 = None\n",
    "                        # 如果出現任何錯誤，設置rate_1為None。\n",
    "                        except:\n",
    "                            rate_1 = None\n",
    "                        try:\n",
    "                            # 裁剪文本的第二種方法\n",
    "                            clip_new_version_2 = fitz.Rect(40, 200, 120, 400)\n",
    "                            text_new_version_2 = page.get_text(clip=clip_new_version_2).strip()\n",
    "                            if '強力買進' in text_new_version_2:\n",
    "                                    rate_2 = '強力買進'\n",
    "                            elif '買進' in text_new_version_2:\n",
    "                                rate_2 = '買進'\n",
    "                            elif '區間操作' in text_new_version_2:\n",
    "                                rate_2 = '區間操作'\n",
    "                            elif '賣出' in text_new_version_2:\n",
    "                                rate_2 = '賣出'\n",
    "                            else:\n",
    "                                rate_2 = None\n",
    "                            # clip_old_version_2 = fitz.Rect(380, 240, 470, 275)\n",
    "                            # rate_2 = page.get_text(clip=clip_old_version_2).strip()\n",
    "                        # 如果出現任何錯誤，設置rate_2為None。\n",
    "                        except:\n",
    "                            rate_2 = None\n",
    "\n",
    "                    # # 檢查兩種方法提取的文本是否相同\n",
    "                    # if rate_1 == rate_2:\n",
    "                    #     if rate_1 == None:\n",
    "                    #         print(directory_path, rate_1 == rate_2,\n",
    "                    #             f'rate_1={rate_1}, rate_2={rate_2}')\n",
    "                    #     else:\n",
    "                    #         count_true += 1\n",
    "                    #         # print(directory_path, rate_1 == rate_2,\n",
    "                    #         #     f'rate_1={rate_1}, rate_2={rate_2}')\n",
    "                    # else:\n",
    "                    #     # False\n",
    "                    #     if rate_1 in possible_ans:\n",
    "                    #         count_true+=1\n",
    "                    #         # print(directory_path, f'rate_1={rate_1}')\n",
    "                    #     elif rate_2 in possible_ans:\n",
    "                    #         count_true+=1\n",
    "                    #         # print(directory_path, f'rate_2={rate_2}')\n",
    "                    #     else :\n",
    "                    #         print(directory_path, rate_1 == rate_2,\n",
    "                    #             f'rate_1={rate_1}, rate_2={rate_2}')\n",
    "                else:\n",
    "                    # False\n",
    "                    print(f'{directory_path} is not posted by 國票投顧')\n",
    "            except:\n",
    "                print(directory_path, 'fail')\n",
    "        rate = check_rate_function(rate_1, rate_2, possible_rate)\n",
    "        if rate == 'NULL' :\n",
    "            print(directory_path, rate,\n",
    "                    f'rate_1={rate_1}, rate_2={rate_2}')\n",
    "        elif rate != None :\n",
    "            count_true += 1\n",
    "            # print(directory_path, rate,\n",
    "            #         f'rate_1={rate_1}, rate_2={rate_2}')\n",
    "        else :\n",
    "            print(directory_path, rate,\n",
    "                    f'rate_1={rate_1}, rate_2={rate_2}')\n",
    "        if rate not in possible_rate and rate != 'NULL':\n",
    "            possible_rate.append(rate)\n",
    "    except:\n",
    "        print(directory_path, 'fail')\n",
    "\n",
    "# 計算成功和失敗的數量並打印\n",
    "count_false = len(os.listdir(zip_path)) - count_true\n",
    "success_rate = round((count_true/len(os.listdir(zip_path))), 3)*100\n",
    "print(f'共{len(os.listdir(zip_path))}件, 成功{count_true}件, 失敗{count_false}件, 成功率:{success_rate}%')"
   ]
  },
  {
   "cell_type": "code",
   "execution_count": 4,
   "metadata": {},
   "outputs": [
    {
     "data": {
      "text/plain": [
       "['買進', '區間操作', '強力買進']"
      ]
     },
     "execution_count": 4,
     "metadata": {},
     "output_type": "execute_result"
    }
   ],
   "source": [
    "possible_rate"
   ]
  },
  {
   "cell_type": "code",
   "execution_count": 5,
   "metadata": {},
   "outputs": [],
   "source": [
    "# # check header\n",
    "# zip_path = '國票'\n",
    "# count_true = 0\n",
    "\n",
    "# for directory in os.listdir(zip_path):\n",
    "#     directory_path = os.path.join(zip_path, directory)\n",
    "#     try:\n",
    "#         # 使用with語句讀取PDF文件，確保在使用後自動關閉文件。\n",
    "#         with fitz.open(directory_path) as doc:\n",
    "#             mat = fitz.Matrix(1, 1)\n",
    "#             page = doc.load_page(0) # 加載文檔的第0頁\n",
    "#             rect = page.rect\n",
    "#             try:\n",
    "#                 # 檢查是否由國票投顧出版\n",
    "#                 page_check_source = doc.load_page(-1)  # 加載文檔的最後一頁\n",
    "#                 clip_check_source = fitz.Rect(0, 0, rect.width, rect.height)\n",
    "#                 text_check_source = page_check_source.get_text(clip=clip_check_source)\n",
    "#                 if '國票投顧所有' in text_check_source:\n",
    "#                     count_true+=1\n",
    "#                 else:\n",
    "#                     # False\n",
    "#                     print(f'{directory_path} is not posted by 國票投顧')\n",
    "#             except:\n",
    "#                 print(directory_path, 'fail')\n",
    "#     except:\n",
    "#         print(directory_path, 'fail')\n",
    "# # 計算成功和失敗的數量並打印\n",
    "# count_false = len(os.listdir(zip_path)) - count_true\n",
    "# print(f'共{len(os.listdir(zip_path))}件, 成功{count_true}件, 失敗{count_false}件')"
   ]
  },
  {
   "cell_type": "code",
   "execution_count": 1,
   "metadata": {},
   "outputs": [
    {
     "ename": "FileNotFoundError",
     "evalue": "no such file: '國票\\1229_聯華_2018-08-14_國票_1229聯華08142018.pdf'",
     "output_type": "error",
     "traceback": [
      "\u001b[1;31m---------------------------------------------------------------------------\u001b[0m",
      "\u001b[1;31mFileNotFoundError\u001b[0m                         Traceback (most recent call last)",
      "Cell \u001b[1;32mIn[1], line 2\u001b[0m\n\u001b[0;32m      1\u001b[0m \u001b[39mimport\u001b[39;00m \u001b[39mfitz\u001b[39;00m\n\u001b[1;32m----> 2\u001b[0m doc \u001b[39m=\u001b[39m fitz\u001b[39m.\u001b[39;49mopen(\u001b[39mr\u001b[39;49m\u001b[39m'\u001b[39;49m\u001b[39m國票\u001b[39;49m\u001b[39m\\\u001b[39;49m\u001b[39m1229_聯華_2018-08-14_國票_1229聯華08142018.pdf\u001b[39;49m\u001b[39m'\u001b[39;49m)\n\u001b[0;32m      3\u001b[0m mat \u001b[39m=\u001b[39m fitz\u001b[39m.\u001b[39mMatrix(\u001b[39m1\u001b[39m, \u001b[39m1\u001b[39m)\n\u001b[0;32m      4\u001b[0m page \u001b[39m=\u001b[39m doc\u001b[39m.\u001b[39mload_page(\u001b[39m0\u001b[39m)  \u001b[39m# loads page number 'pno' of the document (0-based)\u001b[39;00m\n",
      "File \u001b[1;32me:\\code\\venv\\Lib\\site-packages\\fitz\\fitz.py:3982\u001b[0m, in \u001b[0;36mDocument.__init__\u001b[1;34m(self, filename, stream, filetype, rect, width, height, fontsize)\u001b[0m\n\u001b[0;32m   3980\u001b[0m \u001b[39mif\u001b[39;00m \u001b[39mnot\u001b[39;00m os\u001b[39m.\u001b[39mpath\u001b[39m.\u001b[39mexists(filename):\n\u001b[0;32m   3981\u001b[0m     msg \u001b[39m=\u001b[39m \u001b[39mf\u001b[39m\u001b[39m\"\u001b[39m\u001b[39mno such file: \u001b[39m\u001b[39m'\u001b[39m\u001b[39m{\u001b[39;00mfilename\u001b[39m}\u001b[39;00m\u001b[39m'\u001b[39m\u001b[39m\"\u001b[39m\n\u001b[1;32m-> 3982\u001b[0m     \u001b[39mraise\u001b[39;00m \u001b[39mFileNotFoundError\u001b[39;00m(msg)\n\u001b[0;32m   3983\u001b[0m \u001b[39melif\u001b[39;00m \u001b[39mnot\u001b[39;00m os\u001b[39m.\u001b[39mpath\u001b[39m.\u001b[39misfile(filename):\n\u001b[0;32m   3984\u001b[0m     msg \u001b[39m=\u001b[39m \u001b[39mf\u001b[39m\u001b[39m\"\u001b[39m\u001b[39m'\u001b[39m\u001b[39m{\u001b[39;00mfilename\u001b[39m}\u001b[39;00m\u001b[39m'\u001b[39m\u001b[39m is no file\u001b[39m\u001b[39m\"\u001b[39m\n",
      "\u001b[1;31mFileNotFoundError\u001b[0m: no such file: '國票\\1229_聯華_2018-08-14_國票_1229聯華08142018.pdf'"
     ]
    }
   ],
   "source": [
    "import fitz\n",
    "doc = fitz.open(r'國票\\1229_聯華_2018-08-14_國票_1229聯華08142018.pdf')\n",
    "mat = fitz.Matrix(1, 1)\n",
    "page = doc.load_page(0)  # loads page number 'pno' of the document (0-based)\n",
    "rect = page.rect\n",
    "pix = page.get_pixmap(matrix=mat, alpha=False)\n",
    "pix.save(\"page-%i.png\" % page.number)"
   ]
  },
  {
   "cell_type": "code",
   "execution_count": null,
   "metadata": {},
   "outputs": [
    {
     "name": "stdout",
     "output_type": "stream",
     "text": [
      "True\n"
     ]
    }
   ],
   "source": [
    "# 檢查是否由國票投顧出版\n",
    "page_check_source = doc.load_page(-1)  # 加載文檔的最後一頁\n",
    "clip_check_source = fitz.Rect(0, 0, rect.width, rect.height)\n",
    "pix = page_check_source.get_pixmap(matrix=mat, alpha=False, clip=clip_check_source)\n",
    "pix.save(\"page-%i.png\" % page.number)\n",
    "text_check_source = page_check_source.get_text(clip=clip_check_source)\n",
    "if '國票投顧所有' in text_check_source:\n",
    "    print('True')"
   ]
  },
  {
   "cell_type": "code",
   "execution_count": null,
   "metadata": {},
   "outputs": [
    {
     "name": "stdout",
     "output_type": "stream",
     "text": [
      "True\n"
     ]
    }
   ],
   "source": [
    "# 檢查報告版本\n",
    "clip_check_version = fitz.Rect(40, 0, rect.width, 400)\n",
    "pix = page.get_pixmap(matrix=mat, alpha=False, clip=clip_check_version)\n",
    "pix.save(\"page-%i.png\" % page.number)\n",
    "text_check_version = page.get_text(clip=clip_check_version, sort=True).strip()\n",
    "if '國票觀點' in text_check_version:\n",
    "    print('True')"
   ]
  },
  {
   "cell_type": "code",
   "execution_count": null,
   "metadata": {},
   "outputs": [
    {
     "data": {
      "text/plain": [
       "'區間操作'"
      ]
     },
     "execution_count": 9,
     "metadata": {},
     "output_type": "execute_result"
    }
   ],
   "source": [
    "# 報告為舊版\n",
    "# 裁剪並提取文本的第一種方法\n",
    "clip_old_version_1 = fitz.Rect(380, 0, rect.width, 400)\n",
    "pix = page.get_pixmap(matrix=mat, alpha=False, clip=clip_old_version_1)\n",
    "pix.save(\"page-%i.png\" % page.number)\n",
    "text_old_version_1 = page.get_text(clip=clip_old_version_1).strip()\n",
    "if '目標價' in text_old_version_1:\n",
    "    text_old_version_1 = text_old_version_1.split('目標價')[1].strip()\n",
    "    rate_1 = text_old_version_1.split('\\n')[0].strip()\n",
    "elif '區間價位' in text_old_version_1:\n",
    "    text_old_version_1 = text_old_version_1.split('區間價位')[1].strip()\n",
    "    rate_1 = text_old_version_1.split('\\n')[0].strip()\n",
    "elif '操作區間' in text_old_version_1:\n",
    "    text_old_version_1 = text_old_version_1.split('操作區間')[1].strip()\n",
    "    rate_1 = text_old_version_1.split('\\n')[0].strip()\n",
    "elif '/買進' in text_old_version_1:\n",
    "    text_old_version_1 = text_old_version_1.split('/買進')[1].strip()\n",
    "    rate_1 = text_old_version_1.split('\\n')[0].strip()\n",
    "else:\n",
    "    rate_1 = None\n",
    "rate_1"
   ]
  },
  {
   "cell_type": "code",
   "execution_count": null,
   "metadata": {},
   "outputs": [
    {
     "data": {
      "text/plain": [
       "'區間操作'"
      ]
     },
     "execution_count": 10,
     "metadata": {},
     "output_type": "execute_result"
    }
   ],
   "source": [
    "# 報告為舊版\n",
    "# 裁剪文本的第二種方法\n",
    "clip_old_version_2 = fitz.Rect(380, 240, 470, 275)\n",
    "pix = page.get_pixmap(matrix=mat, alpha=False, clip=clip_old_version_2)\n",
    "pix.save(\"page-%i.png\" % page.number)\n",
    "rate_2 = page.get_text(clip=clip_old_version_2).strip()\n",
    "\n",
    "rate_2"
   ]
  },
  {
   "cell_type": "code",
   "execution_count": null,
   "metadata": {},
   "outputs": [],
   "source": [
    "# # 報告為舊版\n",
    "# # 裁剪文本的第二種方法\n",
    "# clip_old_version_2 = fitz.Rect(380, 200, 470, 270)\n",
    "# pix = page.get_pixmap(matrix=mat, alpha=False, clip=clip_old_version_2)\n",
    "# pix.save(\"page-%i.png\" % page.number)\n",
    "# text_old_version_2 = page.get_text(clip=clip_old_version_2).strip()\n",
    "# if '買進' in text_old_version_2:\n",
    "#     rate_2 = '買進'\n",
    "# elif '區間操作' in text_old_version_2:\n",
    "#     rate_2 = '區間操作'\n",
    "# elif '賣出' in text_old_version_2:\n",
    "#     rate_2 = '賣出'\n",
    "# else:\n",
    "#     rate_2 = None\n",
    "# rate_2"
   ]
  },
  {
   "cell_type": "code",
   "execution_count": null,
   "metadata": {},
   "outputs": [],
   "source": [
    "# 報告為新版\n",
    "# 裁剪並提取文本的第一種方法\n",
    "clip_new_version_1 = fitz.Rect(30, 200, 200, 400)\n",
    "pix = page.get_pixmap(matrix=mat, alpha=False, clip=clip_new_version_1)\n",
    "pix.save(\"page-%i.png\" % page.number)\n",
    "text_new_version_1 = page.get_text(clip=clip_new_version_1, sort=True).strip()\n",
    "if '目標價' in text_new_version_1:\n",
    "    text_new_version_1 = text_new_version_1.split('目標價')[1].strip()\n",
    "    rate_1 = text_new_version_1.split('\\n')[0].strip()  \n",
    "elif '區間價位' in text_new_version_1:\n",
    "    text_new_version_1 = text_new_version_1.split('區間價位')[1].strip()\n",
    "    rate_1 = text_new_version_1.split('\\n')[0].strip()  \n",
    "elif '操作區間' in text_new_version_1:\n",
    "    text_new_version_1 = text_new_version_1.split('操作區間')[1].strip()\n",
    "    rate_1 = text_new_version_1.split('\\n')[0].strip()  \n",
    "else:\n",
    "    rate_1 = None\n",
    "rate_1"
   ]
  },
  {
   "cell_type": "code",
   "execution_count": null,
   "metadata": {},
   "outputs": [],
   "source": [
    "# 報告為新版\n",
    "# 裁剪文本的第二種方法\n",
    "clip_new_version_2 = fitz.Rect(40, 200, 120, 400)\n",
    "pix = page.get_pixmap(matrix=mat, alpha=False, clip=clip_new_version_2)\n",
    "pix.save(\"page-%i.png\" % page.number)\n",
    "text_new_version_2 = page.get_text(clip=clip_new_version_2).strip()\n",
    "if '強力買進' in text_new_version_2:\n",
    "    rate_2 = '強力買進'\n",
    "elif '買進' in text_new_version_2:\n",
    "    rate_2 = '買進'\n",
    "elif '區間操作' in text_new_version_2:\n",
    "    rate_2 = '區間操作'\n",
    "elif '賣出' in text_new_version_2:\n",
    "    rate_2 = '賣出'\n",
    "else:\n",
    "    rate_2 = None\n",
    "rate_2"
   ]
  }
 ],
 "metadata": {
  "kernelspec": {
   "display_name": "venv_stock",
   "language": "python",
   "name": "python3"
  },
  "language_info": {
   "codemirror_mode": {
    "name": "ipython",
    "version": 3
   },
   "file_extension": ".py",
   "mimetype": "text/x-python",
   "name": "python",
   "nbconvert_exporter": "python",
   "pygments_lexer": "ipython3",
   "version": "3.11.1"
  },
  "orig_nbformat": 4,
  "vscode": {
   "interpreter": {
    "hash": "ba787645ba8ce3b43ca5d5c1bc5ea17dd580ada22e1bd31731a2a86b718f16cf"
   }
  }
 },
 "nbformat": 4,
 "nbformat_minor": 2
}
