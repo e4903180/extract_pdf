{
 "cells": [
  {
   "cell_type": "code",
   "execution_count": 20,
   "metadata": {},
   "outputs": [],
   "source": [
    "import os\n",
    "import fitz\n",
    "from tqdm import tqdm"
   ]
  },
  {
   "cell_type": "code",
   "execution_count": 21,
   "metadata": {},
   "outputs": [],
   "source": [
    "def check_rate_function(rate_1, rate_2, possible_rate):\n",
    "        # 檢查兩種方法提取的評價是否相同\n",
    "    if rate_1 == rate_2 and rate_1!= None:\n",
    "        return rate_1\n",
    "    else:\n",
    "        if rate_1 in possible_rate:\n",
    "            return rate_1\n",
    "        elif rate_2 in possible_rate:\n",
    "            return rate_2\n",
    "        else :\n",
    "            return 'NULL'\n",
    "            "
   ]
  },
  {
   "cell_type": "code",
   "execution_count": 22,
   "metadata": {},
   "outputs": [
    {
     "name": "stderr",
     "output_type": "stream",
     "text": [
      " 14%|█▎        | 33/244 [00:03<00:21, 10.00it/s]"
     ]
    },
    {
     "name": "stdout",
     "output_type": "stream",
     "text": [
      "..\\file\\台新 新聞評析\\1590_亞德客-KY_2018-12-06_台新投顧_台新投顧20181206新聞評析-亞德客(1590)-亞德客11月業績回神.pdf 325 rate_1=325, rate_2=325\n"
     ]
    },
    {
     "name": "stderr",
     "output_type": "stream",
     "text": [
      "100%|██████████| 244/244 [00:25<00:00,  9.43it/s]"
     ]
    },
    {
     "name": "stdout",
     "output_type": "stream",
     "text": [
      "共244件, 成功244件, 失敗0件, 成功率:100.0%\n"
     ]
    },
    {
     "name": "stderr",
     "output_type": "stream",
     "text": [
      "\n"
     ]
    }
   ],
   "source": [
    "zip_path = r'..\\file\\台新 新聞評析'\n",
    "count_true = 0\n",
    "possible_rate = ['長期持有', '中立', '買進', '強力買進', '買 進']\n",
    "rate_1 = None\n",
    "rate_2 = None\n",
    "rate = None\n",
    "for directory in tqdm(os.listdir(zip_path)):\n",
    "    directory_path = os.path.join(zip_path, directory)\n",
    "    try:\n",
    "        # 使用with語句讀取PDF文件，確保在使用後自動關閉文件。\n",
    "        with fitz.open(directory_path) as doc:\n",
    "            mat = fitz.Matrix(1, 1)\n",
    "            page = doc.load_page(0)  # 加載文檔的第0頁\n",
    "            rect = page.rect\n",
    "            try:\n",
    "                # 檢查是否由中信投顧出版\n",
    "                page_check_source = doc.load_page(-1)\n",
    "                text_check_source = page_check_source.get_text()\n",
    "                if '台新證券投資顧問' in text_check_source :\n",
    "                    try:\n",
    "                        # 裁剪並提取文本的第一種方法\n",
    "                        clip_new_version_1 = fitz.Rect(0, 0, 230, 180)\n",
    "                        text_new_version_1 = page.get_text(clip=clip_new_version_1).strip()\n",
    "                        text_new_version_1 = text_new_version_1.split('投資評等')[1].strip()\n",
    "                        rate_1 = text_new_version_1.split('\\n')[0].strip()\n",
    "                    # 如果出現任何錯誤，設置rate_1為None。\n",
    "                    except:\n",
    "                        rate_1 = None\n",
    "                    try:\n",
    "                        # 裁剪文本的第二種方法\n",
    "                        clip_new_version_2 = fitz.Rect(110, 85, 220, 120)\n",
    "                        text_new_version_1 = page.get_text(clip=clip_new_version_2).strip()\n",
    "                        rate_2 = text_new_version_1.split('\\n')[0].strip()\n",
    "                    # 如果出現任何錯誤，設置rate_2為None。\n",
    "                    except:\n",
    "                        rate_2 = None\n",
    "                elif doc.page_count == 1:\n",
    "                    page_check_source_news = doc.load_page(0)\n",
    "                    clip_check_source_news = fitz.Rect(0, 500, rect.width, rect.height)\n",
    "                    text_check_source_news = page_check_source_news.get_text(clip=clip_check_source_news)\n",
    "                    if '台新投資' in text_check_source_news :\n",
    "                        # 報告為新聞評析\n",
    "                        try:\n",
    "                            clip_news_version_1 = fitz.Rect(0, 0, 240, rect.height)\n",
    "                            pix = page.get_pixmap(matrix=mat, alpha=False, clip=clip_news_version_1)\n",
    "                            pix.save(\"page-clip_news_version_1.png\")\n",
    "                            text_news_version_1 = page.get_text(clip=clip_news_version_1, sort=True).strip()\n",
    "                            text_news_version_1 = text_news_version_1.split('投資評等')[1].strip()\n",
    "                            rate_1 = text_news_version_1.split('\\n')[0].strip()\n",
    "                        except:\n",
    "                            rate_1 = None\n",
    "                        # 報告為新聞評析\n",
    "                        try:\n",
    "                            clip_news_version_2 = fitz.Rect(140, 145, 240, 190)\n",
    "                            pix = page.get_pixmap(matrix=mat, alpha=False, clip=clip_news_version_2)\n",
    "                            pix.save(\"page-clip_news_version_2.png\")\n",
    "                            rate_2 = page.get_text(clip=clip_news_version_2).strip()\n",
    "                        except:\n",
    "                            rate_2 = None\n",
    "                else:\n",
    "                    # False\n",
    "                    print(f'{directory_path} is not posted by 台新投顧')\n",
    "                # if rate_1 == rate_2 and rate_1 not in possible_rate:\n",
    "                #     possible_rate.append(rate_1)\n",
    "                rate = check_rate_function(rate_1, rate_2, possible_rate)\n",
    "                if rate == 'NULL' :\n",
    "                    print(directory_path, rate,\n",
    "                        f'rate_1={rate_1}, rate_2={rate_2}')\n",
    "                elif rate != None :\n",
    "                    count_true += 1\n",
    "                    # print(directory_path, rate,\n",
    "                    #         f'rate_1={rate_1}, rate_2={rate_2}')\n",
    "                else :\n",
    "                    print(directory_path, rate,\n",
    "                            f'rate_1={rate_1}, rate_2={rate_2}')\n",
    "                if rate not in possible_rate :\n",
    "                    # count_true += 1\n",
    "                    print(directory_path, rate,\n",
    "                        f'rate_1={rate_1}, rate_2={rate_2}')\n",
    "            except:\n",
    "                print(directory_path, 'fail')\n",
    "    except:\n",
    "        print(directory_path, 'fail')\n",
    "\n",
    "# 計算成功和失敗的數量並打印\n",
    "count_false = len(os.listdir(zip_path)) - count_true\n",
    "success_rate = round((count_true/len(os.listdir(zip_path))), 3)*100\n",
    "print(f'共{len(os.listdir(zip_path))}件, 成功{count_true}件, 失敗{count_false}件, 成功率:{success_rate}%')"
   ]
  },
  {
   "cell_type": "code",
   "execution_count": 23,
   "metadata": {},
   "outputs": [],
   "source": [
    "# # check header\n",
    "# zip_path = '台新'\n",
    "# count_true = 0\n",
    "\n",
    "# for directory in os.listdir(zip_path):\n",
    "#     directory_path = os.path.join(zip_path, directory)\n",
    "#     try:\n",
    "#         # 使用with語句讀取PDF文件，確保在使用後自動關閉文件。\n",
    "#         with fitz.open(directory_path) as doc:\n",
    "#             if doc.page_count > 1 :\n",
    "#                 mat = fitz.Matrix(1, 1)\n",
    "#                 page = doc.load_page(-1)  # 加載文檔的第-1頁\n",
    "#                 rect = page.rect\n",
    "#                 try:\n",
    "#                     clip = fitz.Rect(0, 0, rect.width, rect.height)\n",
    "#                     text = page.get_text(clip=clip)\n",
    "#                     if '台新證券投資顧問' in text :\n",
    "#                         count_true+=1\n",
    "#                         # print(directory_path, 'True')\n",
    "#                     else:\n",
    "#                         print(directory_path, 'False')\n",
    "#                 except:\n",
    "#                     pass\n",
    "#             else:\n",
    "#                 print(directory_path, 'wrong')\n",
    "#     except:\n",
    "#         print(directory_path, 'fail')\n",
    "\n",
    "# # 計算成功和失敗的數量並打印\n",
    "# count_false = len(os.listdir(zip_path)) - count_true\n",
    "# print(f'共{len(os.listdir(zip_path))}件, 成功{count_true}件, 失敗{count_false}件')"
   ]
  },
  {
   "cell_type": "code",
   "execution_count": 37,
   "metadata": {},
   "outputs": [],
   "source": [
    "import fitz\n",
    "doc = fitz.open(r'..\\file\\台新 新聞評析\\1590_亞德客-KY_2018-12-06_台新投顧_台新投顧20181206新聞評析-亞德客(1590)-亞德客11月業績回神.pdf')\n",
    "mat = fitz.Matrix(1, 1)\n",
    "page = doc.load_page(0)  # loads page number 'pno' of the document (0-based)\n",
    "rect = page.rect\n",
    "pix = page.get_pixmap(matrix=mat, alpha=False)\n",
    "pix.save(\"page-%i.png\" % page.number)"
   ]
  },
  {
   "cell_type": "code",
   "execution_count": 38,
   "metadata": {},
   "outputs": [],
   "source": [
    "page_check_source = doc.load_page(-1)\n",
    "clip_check_source = fitz.Rect(0, 0, rect.width, rect.height)\n",
    "pix = page_check_source.get_pixmap(matrix=mat, alpha=False, clip=clip_check_source)\n",
    "pix.save(\"page-clip_check_source.png\")\n",
    "text_check_source = page_check_source.get_text(clip=clip_check_source)\n",
    "if '台新證券投資顧問' in text_check_source :\n",
    "    print('True')"
   ]
  },
  {
   "cell_type": "code",
   "execution_count": 39,
   "metadata": {},
   "outputs": [],
   "source": [
    "# 檢查是否為個股報告\n",
    "if '個股報告' in text_check_source :\n",
    "    print('True')"
   ]
  },
  {
   "cell_type": "code",
   "execution_count": 40,
   "metadata": {},
   "outputs": [],
   "source": [
    "# 檢查報告版本\n",
    "clip_check_version= fitz.Rect(370, 80, 450, 200)\n",
    "pix = page.get_pixmap(matrix=mat, alpha=False, clip=clip_check_version)\n",
    "pix.save(\"page-clip_check_version.png\")\n",
    "text_check_version = page.get_text(clip=clip_check_version).strip()\n",
    "if '投資評等' in text_check_version:\n",
    "   print('報告為舊版')"
   ]
  },
  {
   "cell_type": "code",
   "execution_count": 41,
   "metadata": {},
   "outputs": [],
   "source": [
    "# 報告為舊版\n",
    "try:\n",
    "    text_old_version_1 = text_check_version\n",
    "    text_old_version_1 = text_old_version_1.split('投資評等')[1].strip()\n",
    "    rate_1 = text_old_version_1.split('\\n')[0].strip()\n",
    "except:\n",
    "    rate_1 = None\n",
    "rate_1"
   ]
  },
  {
   "cell_type": "code",
   "execution_count": 42,
   "metadata": {},
   "outputs": [
    {
     "data": {
      "text/plain": [
       "''"
      ]
     },
     "execution_count": 42,
     "metadata": {},
     "output_type": "execute_result"
    }
   ],
   "source": [
    "# 報告為舊版\n",
    "try:\n",
    "    clip_old_version_2 = fitz.Rect(370, 120, 430, 150)\n",
    "    pix = page.get_pixmap(matrix=mat, alpha=False, clip=clip_old_version_2)\n",
    "    pix.save(\"page-clip_old_version_2.png\")\n",
    "    rate_2 = page.get_text(clip=clip_old_version_2).strip()\n",
    "except:\n",
    "    rate_2 = None\n",
    "rate_2"
   ]
  },
  {
   "cell_type": "code",
   "execution_count": 43,
   "metadata": {},
   "outputs": [
    {
     "data": {
      "text/plain": [
       "'325'"
      ]
     },
     "execution_count": 43,
     "metadata": {},
     "output_type": "execute_result"
    }
   ],
   "source": [
    "# 報告為新版\n",
    "try:\n",
    "    # 裁剪並提取文本的第一種方法\n",
    "    clip_new_version_1 = fitz.Rect(0, 0, 230, 180)\n",
    "    pix = page.get_pixmap(matrix=mat, alpha=False, clip=clip_new_version_1)\n",
    "    pix.save(\"page-clip_new_version_1.png\")\n",
    "    text_new_version_1 = page.get_text(clip=clip_new_version_1).strip()\n",
    "    text_new_version_1 = text_new_version_1.split('投資評等')[1].strip()\n",
    "    rate_1 = text_new_version_1.split('\\n')[0].strip()\n",
    "# 如果出現任何錯誤，設置rate_1和rate_2為None。\n",
    "except:\n",
    "    rate_1 = None\n",
    "rate_1"
   ]
  },
  {
   "cell_type": "code",
   "execution_count": 44,
   "metadata": {},
   "outputs": [
    {
     "data": {
      "text/plain": [
       "''"
      ]
     },
     "execution_count": 44,
     "metadata": {},
     "output_type": "execute_result"
    }
   ],
   "source": [
    "# 報告為新版\n",
    "try:\n",
    "    # 裁剪文本的第二種方法\n",
    "    clip_new_version_2 = fitz.Rect(110, 85, 220, 120)\n",
    "    pix = page.get_pixmap(matrix=mat, alpha=False, clip=clip_new_version_2)\n",
    "    pix.save(\"page-clip_new_version_2.png\")\n",
    "    text_new_version_1 = page.get_text(clip=clip_new_version_2).strip()\n",
    "    rate_2 = text_new_version_1.split('\\n')[0].strip()\n",
    "# 如果出現任何錯誤，設置rate_2為None。\n",
    "except:\n",
    "    rate_2 = None\n",
    "rate_2"
   ]
  },
  {
   "cell_type": "code",
   "execution_count": 49,
   "metadata": {},
   "outputs": [],
   "source": [
    "import fitz\n",
    "doc = fitz.open(r'..\\file\\台新 新聞評析\\1590_亞德客-KY_2018-12-06_台新投顧_台新投顧20181206新聞評析-亞德客(1590)-亞德客11月業績回神.pdf')\n",
    "mat = fitz.Matrix(1, 1)\n",
    "page = doc.load_page(0)  # loads page number 'pno' of the document (0-based)\n",
    "rect = page.rect\n",
    "pix = page.get_pixmap(matrix=mat, alpha=False)\n",
    "pix.save(\"page-%i.png\" % page.number)"
   ]
  },
  {
   "cell_type": "code",
   "execution_count": 50,
   "metadata": {},
   "outputs": [
    {
     "name": "stdout",
     "output_type": "stream",
     "text": [
      "新聞評析\n"
     ]
    }
   ],
   "source": [
    "if doc.page_count == 1:\n",
    "    print('新聞評析')"
   ]
  },
  {
   "cell_type": "code",
   "execution_count": 51,
   "metadata": {},
   "outputs": [
    {
     "name": "stdout",
     "output_type": "stream",
     "text": [
      "True\n"
     ]
    },
    {
     "data": {
      "text/plain": [
       "'誠信  承諾  創新  合作 \\n【歡迎加入Line@  台新投資 雪亮觀點】 \\n'"
      ]
     },
     "execution_count": 51,
     "metadata": {},
     "output_type": "execute_result"
    }
   ],
   "source": [
    "page_check_source_news = doc.load_page(0)\n",
    "clip_check_source_news = fitz.Rect(0, 500, rect.width, rect.height)\n",
    "pix = page_check_source_news.get_pixmap(matrix=mat, alpha=False, clip=clip_check_source_news)\n",
    "pix.save(\"page-clip_check_source_news.png\")\n",
    "text_check_source_news = page_check_source_news.get_text(clip=clip_check_source_news)\n",
    "if '台新投資' in text_check_source_news :\n",
    "    print('True')\n",
    "text_check_source_news"
   ]
  },
  {
   "cell_type": "code",
   "execution_count": 52,
   "metadata": {},
   "outputs": [
    {
     "data": {
      "text/plain": [
       "'325'"
      ]
     },
     "execution_count": 52,
     "metadata": {},
     "output_type": "execute_result"
    }
   ],
   "source": [
    "# 報告為新聞評析\n",
    "try:\n",
    "    clip_news_version_1 = fitz.Rect(0, 0, 240, rect.height)\n",
    "    pix = page.get_pixmap(matrix=mat, alpha=False, clip=clip_news_version_1)\n",
    "    pix.save(\"page-clip_news_version_1.png\")\n",
    "    text_news_version_1 = page.get_text(clip=clip_news_version_1, sort=True).strip()\n",
    "    text_news_version_1 = text_news_version_1.split('投資評等')[1].strip()\n",
    "    rate_1 = text_news_version_1.split('\\n')[0].strip()\n",
    "except:\n",
    "    rate_1 = None\n",
    "rate_1\n"
   ]
  },
  {
   "cell_type": "code",
   "execution_count": 53,
   "metadata": {},
   "outputs": [
    {
     "data": {
      "text/plain": [
       "'325'"
      ]
     },
     "execution_count": 53,
     "metadata": {},
     "output_type": "execute_result"
    }
   ],
   "source": [
    "# 報告為新聞評析\n",
    "try:\n",
    "    clip_news_version_2 = fitz.Rect(140, 145, 240, 190)\n",
    "    pix = page.get_pixmap(matrix=mat, alpha=False, clip=clip_news_version_2)\n",
    "    pix.save(\"page-clip_news_version_2.png\")\n",
    "    rate_2 = page.get_text(clip=clip_news_version_2).strip()\n",
    "except:\n",
    "    rate_2 = None\n",
    "rate_2"
   ]
  }
 ],
 "metadata": {
  "kernelspec": {
   "display_name": "venv_stock",
   "language": "python",
   "name": "python3"
  },
  "language_info": {
   "codemirror_mode": {
    "name": "ipython",
    "version": 3
   },
   "file_extension": ".py",
   "mimetype": "text/x-python",
   "name": "python",
   "nbconvert_exporter": "python",
   "pygments_lexer": "ipython3",
   "version": "3.8.5"
  },
  "orig_nbformat": 4,
  "vscode": {
   "interpreter": {
    "hash": "ba787645ba8ce3b43ca5d5c1bc5ea17dd580ada22e1bd31731a2a86b718f16cf"
   }
  }
 },
 "nbformat": 4,
 "nbformat_minor": 2
}
