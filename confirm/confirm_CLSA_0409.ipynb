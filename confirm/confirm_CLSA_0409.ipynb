{
 "cells": [
  {
   "cell_type": "code",
   "execution_count": 60,
   "metadata": {},
   "outputs": [],
   "source": [
    "import os\n",
    "import fitz\n",
    "from tqdm import tqdm"
   ]
  },
  {
   "cell_type": "code",
   "execution_count": 61,
   "metadata": {},
   "outputs": [],
   "source": [
    "def check_rate_function(rate_1, rate_2, possible_rate):\n",
    "        # 檢查兩種方法提取的評價是否相同\n",
    "    if rate_1 == rate_2 and rate_1!= None:\n",
    "        return rate_1\n",
    "    elif rate_1 in possible_rate:\n",
    "        return rate_1\n",
    "    elif rate_2 in possible_rate:\n",
    "        return rate_2\n",
    "    else :\n",
    "        return 'NULL'\n",
    "            "
   ]
  },
  {
   "cell_type": "code",
   "execution_count": 62,
   "metadata": {},
   "outputs": [
    {
     "data": {
      "text/plain": [
       "['BUY', 'OUTPERFORM', 'NEUTRAL', 'UNDERPERFORM', 'SELL', None]"
      ]
     },
     "execution_count": 62,
     "metadata": {},
     "output_type": "execute_result"
    }
   ],
   "source": [
    "possible_rate"
   ]
  },
  {
   "cell_type": "code",
   "execution_count": 63,
   "metadata": {},
   "outputs": [
    {
     "name": "stderr",
     "output_type": "stream",
     "text": [
      "100%|██████████| 13/13 [00:00<00:00, 15.95it/s]"
     ]
    },
    {
     "name": "stdout",
     "output_type": "stream",
     "text": [
      "case1 ..\\file\\CLSA\\5347-世界-2018_06_07-NULL-NULL.pdf NULL rate_1=None, rate_2=None\n",
      "case1 ..\\file\\CLSA\\6488-環球晶-2018_06_07-NULL-NULL.pdf NULL rate_1=None, rate_2=None\n",
      "共13件, 成功11件, 失敗2件, 成功率:84.6%\n"
     ]
    },
    {
     "name": "stderr",
     "output_type": "stream",
     "text": [
      "\n"
     ]
    }
   ],
   "source": [
    "zip_path = r'..\\file\\CLSA'\n",
    "count_true = 0\n",
    "possible_rate = ['BUY', 'OUTPERFORM', 'NEUTRAL', 'UNDERPERFORM', 'SELL']\n",
    "for directory in tqdm(os.listdir(zip_path)):\n",
    "    directory_path = os.path.join(zip_path, directory)\n",
    "    rate_1 = None\n",
    "    rate_2 = None\n",
    "    rate = None\n",
    "    try:\n",
    "        with fitz.open(directory_path) as doc:\n",
    "            mat = fitz.Matrix(1, 1)\n",
    "            page = doc.load_page(0)\n",
    "            rect = page.rect\n",
    "            page_check_source = doc.load_page(-1)\n",
    "            text_check_source = page_check_source.get_text()\n",
    "            if 'CL Securities' in text_check_source :\n",
    "                # 提取評價的第一種方法\n",
    "                try:\n",
    "                    clip_old_report_1 = fitz.Rect(160, 0, rect.width, 100)\n",
    "                    text_old_report_1 = page.get_text(clip=clip_old_report_1, sort=True).strip()\n",
    "                    text_old_report_1 = text_old_report_1.split('-')[1].strip()\n",
    "                    rate_1 = text_old_report_1.split('\\n')[0].strip()\n",
    "                except:\n",
    "                    rate_1 = None\n",
    "                    # 提取評價的第二種方法\n",
    "                try:\n",
    "                    page_old_report_2 = doc.load_page(1)\n",
    "                    clip_old_report_2 = fitz.Rect(0, 0, rect.width, 60)\n",
    "                    text_old_report_2 = page_old_report_2.get_text(clip=clip_old_report_2, sort=True).strip()\n",
    "                    if 'O-PF' in text_old_report_2:\n",
    "                        rate_2 = 'OUTPERFORM'\n",
    "                    elif 'U-PF' in text_old_report_2:\n",
    "                        rate_2 = 'UNDERPERFORM'\n",
    "                    else:\n",
    "                        rate_2 = text_old_report_2.split('-')[1].strip()\n",
    "                except:\n",
    "                    rate_2 = None\n",
    "                # if rate_1 == rate_2 and rate_1 not in possible_rate:\n",
    "                #     possible_rate.append(rate_1)\n",
    "                rate = check_rate_function(rate_1, rate_2, possible_rate)\n",
    "            else:\n",
    "                # False\n",
    "                print(f'{directory_path} is not posted by hsbc')\n",
    "    except:\n",
    "        print(directory_path, 'fail')\n",
    "    if rate == 'NULL' :\n",
    "        print('case1', directory_path, rate,\n",
    "                f'rate_1={rate_1}, rate_2={rate_2}')\n",
    "    elif rate == 'wrong':\n",
    "        count_true += 1\n",
    "        # print(directory_path, rate,\n",
    "        #       f'text_check_new_report={text_check_new_report}, text_check_old_fast_report={text_check_old_fast_report}')\n",
    "    elif rate != None :\n",
    "        count_true += 1\n",
    "        # print(directory_path, rate,\n",
    "        #         f'rate_1={rate_1}, rate_2={rate_2}')\n",
    "    else :\n",
    "        print('case2', directory_path, rate,\n",
    "                f'rate_1={rate_1}, rate_2={rate_2}')\n",
    "# 計算成功和失敗的數量並打印\n",
    "count_false = len(os.listdir(zip_path)) - count_true\n",
    "success_rate = round((count_true/len(os.listdir(zip_path))), 3)*100\n",
    "print(f'共{len(os.listdir(zip_path))}件, 成功{count_true}件, 失敗{count_false}件, 成功率:{success_rate}%')"
   ]
  },
  {
   "cell_type": "code",
   "execution_count": 64,
   "metadata": {},
   "outputs": [],
   "source": [
    "import fitz\n",
    "doc = fitz.open(r'..\\file\\CLSA\\3034-聯詠-2023_02_08-cl-OUTPERFORM.pdf')\n",
    "mat = fitz.Matrix(1, 1)\n",
    "page = doc.load_page(0)  # loads page number 'pno' of the document (0-based)\n",
    "rect = page.rect\n",
    "pix = page.get_pixmap(matrix=mat, alpha=False)\n",
    "pix.save(\"page-%i.png\" % page.number)"
   ]
  },
  {
   "cell_type": "code",
   "execution_count": 65,
   "metadata": {},
   "outputs": [
    {
     "name": "stdout",
     "output_type": "stream",
     "text": [
      "True\n"
     ]
    },
    {
     "data": {
      "text/plain": [
       "'Important disclosures\\nNovatek - O-PF\\n7 February 2023\\njason.tsang@cl-sec.com\\n15\\nCLSA Europe BV, authorised and regulated by the Netherlands \\nAuthority for Financial Markets. \\nFor all other jurisdiction-specific disclaimers please refer to \\nhttps://www.clsa.com/disclaimer.html. The analysts/contributors to \\nthis report may be employed by any relevant CLSA entity or CLST, \\nwhich is different from the entity that distributes the report in the \\nrespective jurisdictions.© 2023 CLSA and/or CL Securities Taiwan \\nCo., Ltd. (“CLST”).\\n'"
      ]
     },
     "execution_count": 65,
     "metadata": {},
     "output_type": "execute_result"
    }
   ],
   "source": [
    "# 檢查是否由第一金投顧出版\n",
    "page_check_source = doc.load_page(-1)\n",
    "pix = page.get_pixmap(matrix=mat, alpha=False)\n",
    "pix.save(\"page-clip_check_source.png\")\n",
    "text_check_source = page_check_source.get_text()\n",
    "if 'CL Securities' in text_check_source :\n",
    "    print('True')\n",
    "text_check_source"
   ]
  },
  {
   "cell_type": "code",
   "execution_count": 66,
   "metadata": {},
   "outputs": [
    {
     "name": "stdout",
     "output_type": "stream",
     "text": [
      "NULL\n"
     ]
    },
    {
     "data": {
      "text/plain": [
       "'l\\nsus with a recovery in LDDIC and OLED driver \\nto be flat to slightly up in 1Q23 with GPM of \\nhich are above market forecasts. It believes\\n 1Q23 and stabilise from 2Q23, and expects\\nny is positive on OLED driver, high-end IT and \\n revise up 23/24CT EPS by 23/23% and lift \\n'"
      ]
     },
     "execution_count": 66,
     "metadata": {},
     "output_type": "execute_result"
    }
   ],
   "source": [
    "# 檢查版本\n",
    "clip_check_report = fitz.Rect(350, 0, rect.width, 250)\n",
    "pix = page.get_pixmap(matrix=mat, alpha=False, clip=clip_check_report)\n",
    "pix.save(\"page-clip_check_report.png\")\n",
    "text_check_report = page.get_text(clip=clip_check_report)\n",
    "if 'Equities' in text_check_report :\n",
    "    print('Equities')\n",
    "else :\n",
    "    print('NULL')\n",
    "text_check_report"
   ]
  },
  {
   "cell_type": "code",
   "execution_count": 67,
   "metadata": {},
   "outputs": [
    {
     "data": {
      "text/plain": [
       "'OUTPERFORM'"
      ]
     },
     "execution_count": 67,
     "metadata": {},
     "output_type": "execute_result"
    }
   ],
   "source": [
    "# 報告為新版個股報告 提取評價的第一種方法\n",
    "try:\n",
    "    clip_old_report_1 = fitz.Rect(160, 0, rect.width, 100)\n",
    "    text_old_report_1 = page.get_text(clip=clip_old_report_1, sort=True).strip()\n",
    "    pix = page.get_pixmap(matrix=mat, alpha=False, clip=clip_old_report_1)\n",
    "    pix.save(\"page-clip_new_report_1.png\")\n",
    "    text_old_report_1 = text_old_report_1.split('-')[1].strip()\n",
    "    rate_1 = text_old_report_1.split('\\n')[0].strip()\n",
    "except:\n",
    "    rate_1 = None\n",
    "rate_1"
   ]
  },
  {
   "cell_type": "code",
   "execution_count": 68,
   "metadata": {},
   "outputs": [
    {
     "data": {
      "text/plain": [
       "'OUTPERFORM'"
      ]
     },
     "execution_count": 68,
     "metadata": {},
     "output_type": "execute_result"
    }
   ],
   "source": [
    "# 報告為新版個股報告 提取評價的第二種方法\n",
    "try:\n",
    "    page_old_report_2 = doc.load_page(1)\n",
    "    clip_old_report_2 = fitz.Rect(0, 0, rect.width, 60)\n",
    "    text_old_report_2 = page_old_report_2.get_text(clip=clip_old_report_2).strip()\n",
    "    pix = page.get_pixmap(matrix=mat, alpha=False, clip=clip_old_report_2)\n",
    "    pix.save(\"page-clip_new_report_2.png\")\n",
    "    # text_old_report_2 = text_old_report_2.split('-')[1].strip()\n",
    "    if 'O-PF' in text_old_report_2:\n",
    "        rate_2 = 'OUTPERFORM'\n",
    "    elif 'U-PF' in text_old_report_2:\n",
    "        rate_2 = 'UNDERPERFORM'\n",
    "    else:\n",
    "        rate_2 = text_old_report_2.split('-')[1].strip()\n",
    "except:\n",
    "    rate_2 = None\n",
    "rate_2"
   ]
  }
 ],
 "metadata": {
  "kernelspec": {
   "display_name": "venv_stock",
   "language": "python",
   "name": "python3"
  },
  "language_info": {
   "codemirror_mode": {
    "name": "ipython",
    "version": 3
   },
   "file_extension": ".py",
   "mimetype": "text/x-python",
   "name": "python",
   "nbconvert_exporter": "python",
   "pygments_lexer": "ipython3",
   "version": "3.8.5"
  },
  "orig_nbformat": 4,
  "vscode": {
   "interpreter": {
    "hash": "ba787645ba8ce3b43ca5d5c1bc5ea17dd580ada22e1bd31731a2a86b718f16cf"
   }
  }
 },
 "nbformat": 4,
 "nbformat_minor": 2
}
