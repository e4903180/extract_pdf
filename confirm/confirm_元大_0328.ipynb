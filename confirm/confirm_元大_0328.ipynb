{
 "cells": [
  {
   "cell_type": "code",
   "execution_count": 14,
   "metadata": {},
   "outputs": [],
   "source": [
    "import os\n",
    "import fitz"
   ]
  },
  {
   "cell_type": "code",
   "execution_count": 15,
   "metadata": {},
   "outputs": [],
   "source": [
    "def check_rate_function(rate_1, rate_2, possible_rate):\n",
    "        # 檢查兩種方法提取的評價是否相同\n",
    "    if rate_1 == rate_2 and rate_1!= None:\n",
    "        return rate_1\n",
    "    else:\n",
    "        if rate_1 in possible_rate:\n",
    "            return rate_1\n",
    "        elif rate_2 in possible_rate:\n",
    "            return rate_2\n",
    "        else :\n",
    "            return 'NULL'\n",
    "            "
   ]
  },
  {
   "cell_type": "code",
   "execution_count": 16,
   "metadata": {},
   "outputs": [
    {
     "name": "stdout",
     "output_type": "stream",
     "text": [
      "共694件, 成功694件, 失敗0件, 成功率:100.0%\n"
     ]
    }
   ],
   "source": [
    "zip_path = r'..\\file\\元大'\n",
    "count_true = 0\n",
    "possible_rate = ['持有-超越同業 (維持評等)', '買進 (維持評等)', '持有-落後同業', '持有-落後同業 (維持評等)', \n",
    "                 '買進 (調升評等)', '買進 (重新納入研究範圍)',\n",
    "                 '持有-超越同業 (調降評等)', '買進 (研究員異動)', '買進  (初次報告)', \n",
    "                 '買進 (初次報告)', '持有-超越同業', '持有-落後同業(維持評等)', '賣出 (維持評等)', \n",
    "                 '持有-超越大盤(維持評等)', '持有-超越大盤 (維持評等)', '買進', '持有-落後大盤']\n",
    "rate_1 = None\n",
    "rate_2 = None\n",
    "rate = None\n",
    "for directory in os.listdir(zip_path):\n",
    "    directory_path = os.path.join(zip_path, directory)\n",
    "    try:\n",
    "        # 使用with語句讀取PDF文件，確保在使用後自動關閉文件。\n",
    "        with fitz.open(directory_path) as doc:\n",
    "            mat = fitz.Matrix(1, 1)\n",
    "            page = doc.load_page(0)  # 加載文檔的第0頁\n",
    "            rect = page.rect\n",
    "            try:\n",
    "                # 檢查是否由中信投顧出版\n",
    "                page_check_source = doc.load_page(-1)\n",
    "                text_check_source = page_check_source.get_text()\n",
    "                if '元大證券投資顧問' in text_check_source:\n",
    "                    # 檢查是否為個股報告\n",
    "                    page_check_report = doc.load_page(0)\n",
    "                    clip_check_report = fitz.Rect(0, 0, rect.width, 70)\n",
    "                    text_check_report = page_check_report.get_text(clip=clip_check_report).strip()\n",
    "                    if '更新報告' in text_check_report or '初次報告' in text_check_report or 'Top Call 首選' in text_check_report:\n",
    "                        try:\n",
    "                            # 裁剪並提取文本的第一種方法\n",
    "                            clip_new_version_1 = fitz.Rect(0, 0, 210, 230)\n",
    "                            text_new_version_1 = page.get_text(clip=clip_new_version_1).strip()\n",
    "                            text_new_version_1 = text_new_version_1.split('目標價')[0].strip()\n",
    "                            rate_1 = text_new_version_1.split('\\n')[-1].strip()\n",
    "                        # 如果出現任何錯誤，設置rate_1和rate_2為None。\n",
    "                        except:\n",
    "                            rate_1 = None\n",
    "                        try:\n",
    "                            # 裁剪文本的第二種方法\n",
    "                            clip_new_version_2 = fitz.Rect(0, 115, 210, 145)\n",
    "                            text_new_version_1 = page.get_text(clip=clip_new_version_2).strip()\n",
    "                            rate_2 = text_new_version_1.split('\\n')[0].strip()\n",
    "                        # 如果出現任何錯誤，設置rate_2為None。\n",
    "                        except:\n",
    "                            rate_2 = None\n",
    "                        rate = check_rate_function(rate_1, rate_2, possible_rate)\n",
    "                        if rate == 'NULL' :\n",
    "                            print(directory_path, rate,\n",
    "                                f'rate_1={rate_1}, rate_2={rate_2}')\n",
    "                        elif rate != None :\n",
    "                            count_true += 1\n",
    "                            # print(directory_path, rate,\n",
    "                            #         f'rate_1={rate_1}, rate_2={rate_2}')\n",
    "                        else :\n",
    "                            print(directory_path, rate,\n",
    "                                    f'rate_1={rate_1}, rate_2={rate_2}')\n",
    "                    else:\n",
    "                        count_true += 1\n",
    "                        # print(f'{directory_path} is not 個股報告,{text_check_report}')\n",
    "                else:\n",
    "                    # False\n",
    "                    print(f'{directory_path} is not posted by 台新投顧')\n",
    "            except:\n",
    "                print(directory_path, 'fail')\n",
    "    except:\n",
    "        print(directory_path, 'fail')\n",
    "\n",
    "# 計算成功和失敗的數量並打印\n",
    "count_false = len(os.listdir(zip_path)) - count_true\n",
    "success_rate = round((count_true/len(os.listdir(zip_path))), 3)*100\n",
    "print(f'共{len(os.listdir(zip_path))}件, 成功{count_true}件, 失敗{count_false}件, 成功率:{success_rate}%')"
   ]
  },
  {
   "cell_type": "code",
   "execution_count": 17,
   "metadata": {},
   "outputs": [],
   "source": [
    "# # check header\n",
    "# zip_path = '元大'\n",
    "# count_true = 0\n",
    "\n",
    "# for directory in os.listdir(zip_path):\n",
    "#     directory_path = os.path.join(zip_path, directory)\n",
    "#     try:\n",
    "#         # 使用with語句讀取PDF文件，確保在使用後自動關閉文件。\n",
    "#         with fitz.open(directory_path) as doc:\n",
    "#             if doc.page_count > 1 :\n",
    "#                 mat = fitz.Matrix(1, 1)\n",
    "#                 page = doc.load_page(-1)  # 加載文檔的第-1頁\n",
    "#                 rect = page.rect\n",
    "#                 try:\n",
    "#                     clip = fitz.Rect(0, 0, rect.width, rect.height)\n",
    "#                     text = page.get_text(clip=clip)\n",
    "#                     if '元大證券投資顧問' in text :\n",
    "#                         count_true+=1\n",
    "#                         # print(directory_path, 'True')\n",
    "#                     else:\n",
    "#                         print(directory_path, 'False')\n",
    "#                 except:\n",
    "#                     pass\n",
    "#             else:\n",
    "#                 print(directory_path, 'wrong')\n",
    "#     except:\n",
    "#         print(directory_path, 'fail')\n",
    "\n",
    "# # 計算成功和失敗的數量並打印\n",
    "# count_false = len(os.listdir(zip_path)) - count_true\n",
    "# print(f'共{len(os.listdir(zip_path))}件, 成功{count_true}件, 失敗{count_false}件')"
   ]
  },
  {
   "cell_type": "code",
   "execution_count": 1,
   "metadata": {},
   "outputs": [
    {
     "ename": "FileNotFoundError",
     "evalue": "no such file: '..\\file\\元大\\1513_中興電_元大_買進.pdf'",
     "output_type": "error",
     "traceback": [
      "\u001b[1;31m---------------------------------------------------------------------------\u001b[0m",
      "\u001b[1;31mFileNotFoundError\u001b[0m                         Traceback (most recent call last)",
      "Cell \u001b[1;32mIn[1], line 2\u001b[0m\n\u001b[0;32m      1\u001b[0m \u001b[39mimport\u001b[39;00m \u001b[39mfitz\u001b[39;00m\n\u001b[1;32m----> 2\u001b[0m doc \u001b[39m=\u001b[39m fitz\u001b[39m.\u001b[39;49mopen(\u001b[39mr\u001b[39;49m\u001b[39m'\u001b[39;49m\u001b[39m..\u001b[39;49m\u001b[39m\\\u001b[39;49m\u001b[39mfile\u001b[39;49m\u001b[39m\\\u001b[39;49m\u001b[39m元大\u001b[39;49m\u001b[39m\\\u001b[39;49m\u001b[39m1513_中興電_元大_買進.pdf\u001b[39;49m\u001b[39m'\u001b[39;49m)\n\u001b[0;32m      3\u001b[0m mat \u001b[39m=\u001b[39m fitz\u001b[39m.\u001b[39mMatrix(\u001b[39m1\u001b[39m, \u001b[39m1\u001b[39m)\n\u001b[0;32m      4\u001b[0m page \u001b[39m=\u001b[39m doc\u001b[39m.\u001b[39mload_page(\u001b[39m0\u001b[39m)  \u001b[39m# loads page number 'pno' of the document (0-based)\u001b[39;00m\n",
      "File \u001b[1;32me:\\code\\venv\\Lib\\site-packages\\fitz\\fitz.py:3982\u001b[0m, in \u001b[0;36mDocument.__init__\u001b[1;34m(self, filename, stream, filetype, rect, width, height, fontsize)\u001b[0m\n\u001b[0;32m   3980\u001b[0m \u001b[39mif\u001b[39;00m \u001b[39mnot\u001b[39;00m os\u001b[39m.\u001b[39mpath\u001b[39m.\u001b[39mexists(filename):\n\u001b[0;32m   3981\u001b[0m     msg \u001b[39m=\u001b[39m \u001b[39mf\u001b[39m\u001b[39m\"\u001b[39m\u001b[39mno such file: \u001b[39m\u001b[39m'\u001b[39m\u001b[39m{\u001b[39;00mfilename\u001b[39m}\u001b[39;00m\u001b[39m'\u001b[39m\u001b[39m\"\u001b[39m\n\u001b[1;32m-> 3982\u001b[0m     \u001b[39mraise\u001b[39;00m \u001b[39mFileNotFoundError\u001b[39;00m(msg)\n\u001b[0;32m   3983\u001b[0m \u001b[39melif\u001b[39;00m \u001b[39mnot\u001b[39;00m os\u001b[39m.\u001b[39mpath\u001b[39m.\u001b[39misfile(filename):\n\u001b[0;32m   3984\u001b[0m     msg \u001b[39m=\u001b[39m \u001b[39mf\u001b[39m\u001b[39m\"\u001b[39m\u001b[39m'\u001b[39m\u001b[39m{\u001b[39;00mfilename\u001b[39m}\u001b[39;00m\u001b[39m'\u001b[39m\u001b[39m is no file\u001b[39m\u001b[39m\"\u001b[39m\n",
      "\u001b[1;31mFileNotFoundError\u001b[0m: no such file: '..\\file\\元大\\1513_中興電_元大_買進.pdf'"
     ]
    }
   ],
   "source": [
    "import fitz\n",
    "doc = fitz.open(r'..\\file\\元大\\1513_中興電_元大_買進.pdf')\n",
    "mat = fitz.Matrix(1, 1)\n",
    "page = doc.load_page(0)  # loads page number 'pno' of the document (0-based)\n",
    "rect = page.rect\n",
    "pix = page.get_pixmap(matrix=mat, alpha=False)\n",
    "pix.save(\"page-%i.png\" % page.number)"
   ]
  },
  {
   "cell_type": "code",
   "execution_count": null,
   "metadata": {},
   "outputs": [
    {
     "name": "stdout",
     "output_type": "stream",
     "text": [
      "True\n"
     ]
    }
   ],
   "source": [
    "page_check_source = doc.load_page(-1)\n",
    "clip_check_source = fitz.Rect(0, 0, rect.width, rect.height)\n",
    "pix = page_check_source.get_pixmap(matrix=mat, alpha=False, clip=clip_check_source)\n",
    "pix.save(\"page-clip_check_source.png\")\n",
    "text_check_source = page_check_source.get_text(clip=clip_check_source)\n",
    "if '元大證券投資顧問' in text_check_source :\n",
    "    print('True')"
   ]
  },
  {
   "cell_type": "code",
   "execution_count": null,
   "metadata": {},
   "outputs": [
    {
     "data": {
      "text/plain": [
       "'台灣：電子設備 \\n \\n2023 年 2 月 15 日 \\nTop Call 首選'"
      ]
     },
     "execution_count": 10,
     "metadata": {},
     "output_type": "execute_result"
    }
   ],
   "source": [
    "# 檢查是否為個股報告\n",
    "page_check_report = doc.load_page(0)\n",
    "clip_check_report = fitz.Rect(0, 0, rect.width, 70)\n",
    "pix = page_check_report.get_pixmap(matrix=mat, alpha=False, clip=clip_check_report)\n",
    "pix.save(\"page-clip_check_report.png\")\n",
    "text_check_report = page_check_report.get_text(clip=clip_check_report).strip()\n",
    "if '更新報告' in text_check_report or '初次報告' in text_check_report or 'Top Call 首選' in text_check_report:\n",
    "    print('True')\n",
    "text_check_report"
   ]
  },
  {
   "cell_type": "code",
   "execution_count": null,
   "metadata": {},
   "outputs": [],
   "source": [
    "# 報告為新版\n",
    "try:\n",
    "    # 裁剪並提取文本的第一種方法\n",
    "    clip_new_version_1 = fitz.Rect(0, 0, 210, 230)\n",
    "    pix = page.get_pixmap(matrix=mat, alpha=False, clip=clip_new_version_1)\n",
    "    pix.save(\"page-clip_new_version_1.png\")\n",
    "    text_new_version_1 = page.get_text(clip=clip_new_version_1).strip()\n",
    "    text_new_version_1 = text_new_version_1.split('投資建議：')[1].strip()\n",
    "    rate_1 = text_new_version_1.split('\\n')[0].strip()\n",
    "# 如果出現任何錯誤，設置rate_1和rate_2為None。\n",
    "except:\n",
    "    rate_1 = None\n",
    "rate_1"
   ]
  },
  {
   "cell_type": "code",
   "execution_count": null,
   "metadata": {},
   "outputs": [
    {
     "data": {
      "text/plain": [
       "'買進 (維持評等)'"
      ]
     },
     "execution_count": 12,
     "metadata": {},
     "output_type": "execute_result"
    }
   ],
   "source": [
    "# 報告為新版\n",
    "try:\n",
    "    # 裁剪並提取文本的第一種方法\n",
    "    clip_new_version_1 = fitz.Rect(0, 0, 210, 230)\n",
    "    pix = page.get_pixmap(matrix=mat, alpha=False, clip=clip_new_version_1)\n",
    "    pix.save(\"page-clip_new_version_1.png\")\n",
    "    text_new_version_1 = page.get_text(clip=clip_new_version_1).strip()\n",
    "    text_new_version_1 = text_new_version_1.split('目標價')[0].strip()\n",
    "    rate_1 = text_new_version_1.split('\\n')[-1].strip()\n",
    "# 如果出現任何錯誤，設置rate_1和rate_2為None。\n",
    "except:\n",
    "    rate_1 = None\n",
    "rate_1"
   ]
  },
  {
   "cell_type": "code",
   "execution_count": null,
   "metadata": {},
   "outputs": [
    {
     "data": {
      "text/plain": [
       "'買進 (維持評等)'"
      ]
     },
     "execution_count": 13,
     "metadata": {},
     "output_type": "execute_result"
    }
   ],
   "source": [
    "# 報告為新版\n",
    "try:\n",
    "    # 裁剪文本的第二種方法\n",
    "    clip_new_version_2 = fitz.Rect(0, 115, 210, 145)\n",
    "    pix = page.get_pixmap(matrix=mat, alpha=False, clip=clip_new_version_2)\n",
    "    pix.save(\"page-clip_new_version_2.png\")\n",
    "    text_new_version_1 = page.get_text(clip=clip_new_version_2).strip()\n",
    "    rate_2 = text_new_version_1.split('\\n')[0].strip()\n",
    "# 如果出現任何錯誤，設置rate_2為None。\n",
    "except:\n",
    "    rate_2 = None\n",
    "rate_2"
   ]
  }
 ],
 "metadata": {
  "kernelspec": {
   "display_name": "venv_stock",
   "language": "python",
   "name": "python3"
  },
  "language_info": {
   "codemirror_mode": {
    "name": "ipython",
    "version": 3
   },
   "file_extension": ".py",
   "mimetype": "text/x-python",
   "name": "python",
   "nbconvert_exporter": "python",
   "pygments_lexer": "ipython3",
   "version": "3.11.1"
  },
  "orig_nbformat": 4,
  "vscode": {
   "interpreter": {
    "hash": "ba787645ba8ce3b43ca5d5c1bc5ea17dd580ada22e1bd31731a2a86b718f16cf"
   }
  }
 },
 "nbformat": 4,
 "nbformat_minor": 2
}
