{
 "cells": [
  {
   "cell_type": "code",
   "execution_count": 1,
   "metadata": {},
   "outputs": [],
   "source": [
    "import os\n",
    "import fitz"
   ]
  },
  {
   "cell_type": "code",
   "execution_count": 2,
   "metadata": {},
   "outputs": [
    {
     "name": "stdout",
     "output_type": "stream",
     "text": [
      "..\\file\\中信託\\9958-世紀鋼-2023_02_07-CTBC-NULL.pdf False rate_1=None, rate_2=評析\n",
      "共1192件, 成功1191件, 失敗1件, 成功率:99.9%\n"
     ]
    }
   ],
   "source": [
    "zip_path = r'..\\file\\中信託'\n",
    "count_true = 0\n",
    "possible_ans = ['中立', '買進', '增加持股(Overweight)', '中立(Neutral)', \n",
    "                '買進(Buy)', '增加持股', '-', '降低持股(Underweight)', '未評等']\n",
    "rate_1 = None\n",
    "rate_2 = None\n",
    "for directory in os.listdir(zip_path):\n",
    "    directory_path = os.path.join(zip_path, directory)\n",
    "    try:\n",
    "        # 使用with語句讀取PDF文件，確保在使用後自動關閉文件。\n",
    "        with fitz.open(directory_path) as doc:\n",
    "            mat = fitz.Matrix(1, 1)\n",
    "            page = doc.load_page(0)  # 加載文檔的第0頁\n",
    "            rect = page.rect\n",
    "            try:\n",
    "                # 檢查是否由中信投顧出版\n",
    "                page_check_source = doc.load_page(-1)\n",
    "                text_check_source = page_check_source.get_text()\n",
    "                if '中國信託金融控股' in text_check_source or '中信投顧投資分析報告' in text_check_source :\n",
    "                    # 檢查是否為個股報告\n",
    "                    if '個股報告' in text_check_source :\n",
    "                        # 檢查報告版本\n",
    "                        clip_check_version= fitz.Rect(370, 80, 450, 200)\n",
    "                        text_check_version = page.get_text(clip=clip_check_version, sort=True).strip()\n",
    "                        if '投資評等' in text_check_version:\n",
    "                            # 報告為舊版\n",
    "                            try:\n",
    "                                # 裁剪並提取文本的第一種方法\n",
    "                                text_old_version_1 = text_check_version\n",
    "                                text_old_version_1 = text_old_version_1.split('投資評等')[1].strip()\n",
    "                                rate_1 = text_old_version_1.split('\\n')[0].strip()\n",
    "                            except:\n",
    "                                rate_1 = None\n",
    "                            try:\n",
    "                                # 裁剪文本的第二種方法\n",
    "                                clip_old_version_2 = fitz.Rect(370, 120, 430, 150)\n",
    "                                rate_2 = page.get_text(clip=clip_old_version_2).strip()\n",
    "                            except:\n",
    "                                rate_2 = None\n",
    "                        else:\n",
    "                            # 報告為新版\n",
    "                            try:\n",
    "                                # 裁剪並提取文本的第一種方法\n",
    "                                clip_new_version_1 = fitz.Rect(200, 0, rect.width, 200)\n",
    "                                text_new_version_1 = page.get_text(clip=clip_new_version_1, sort=True).strip()\n",
    "                                text_new_version_1 = text_new_version_1.split('評 等')[1]\n",
    "                                rate_1 = text_new_version_1.split('\\n')[1].strip()\n",
    "                            # 如果出現任何錯誤，設置rate_1為None。\n",
    "                            except:\n",
    "                                rate_1 = None\n",
    "                            try:\n",
    "                                # 裁剪文本的第二種方法\n",
    "                                clip_new_version_2 = fitz.Rect(350, 115, 570, 200)\n",
    "                                text_new_version_1 = page.get_text(clip=clip_new_version_2).strip()\n",
    "                                rate_2 = text_new_version_1.split('\\n')[0].strip()\n",
    "                            # 如果出現任何錯誤，設置rate_2為None。\n",
    "                            except:\n",
    "                                rate_2 = None\n",
    "\n",
    "                        # 檢查兩種方法提取的文本是否相同\n",
    "                        if rate_1 == rate_2:\n",
    "                            if rate_1 == None:\n",
    "                                print(directory_path, rate_1 == rate_2,\n",
    "                                    f'rate_1={rate_1}, rate_2={rate_2}')\n",
    "                            else:\n",
    "                                count_true += 1\n",
    "                                # print(directory_path, rate_1 == rate_2,\n",
    "                                # f'rate_1={rate_1}, rate_2={rate_2}')\n",
    "                        else:\n",
    "                            # False\n",
    "                            if rate_1 in possible_ans:\n",
    "                                count_true+=1\n",
    "                                # print(directory_path, f'rate_1={rate_1}')\n",
    "                            elif rate_2 in possible_ans:\n",
    "                                count_true+=1\n",
    "                                # print(directory_path, f'rate_2={rate_2}')\n",
    "                            else :\n",
    "                                print(directory_path, rate_1 == rate_2,\n",
    "                                    f'rate_1={rate_1}, rate_2={rate_2}')\n",
    "                    else:\n",
    "                        count_true+=1\n",
    "                        # print(f'{directory_path} is not 個股報告')\n",
    "                else:\n",
    "                    # False\n",
    "                    print(f'{directory_path} is not posted by 中信投顧')\n",
    "                    # pass\n",
    "            except:\n",
    "                print(directory_path, 'fail')\n",
    "    except:\n",
    "        print(directory_path, 'fail')\n",
    "\n",
    "# 計算成功和失敗的數量並打印\n",
    "count_false = len(os.listdir(zip_path)) - count_true\n",
    "success_rate = round((count_true/len(os.listdir(zip_path))), 3)*100\n",
    "print(f'共{len(os.listdir(zip_path))}件, 成功{count_true}件, 失敗{count_false}件, 成功率:{success_rate}%')"
   ]
  },
  {
   "cell_type": "code",
   "execution_count": 3,
   "metadata": {},
   "outputs": [
    {
     "name": "stdout",
     "output_type": "stream",
     "text": [
      "共1192件, 成功1192件, 失敗0件\n"
     ]
    }
   ],
   "source": [
    "import os\n",
    "# check header\n",
    "zip_path = r'..\\file\\中信託'\n",
    "count_true = 0\n",
    "\n",
    "for directory in os.listdir(zip_path):\n",
    "    directory_path = os.path.join(zip_path, directory)\n",
    "    try:\n",
    "        # 使用with語句讀取PDF文件，確保在使用後自動關閉文件。\n",
    "        with fitz.open(directory_path) as doc:\n",
    "            mat = fitz.Matrix(1, 1)\n",
    "            page = doc.load_page(-1)  # 加載文檔的第-1頁\n",
    "            rect = page.rect\n",
    "            try:\n",
    "                clip = fitz.Rect(0, 0, rect.width, rect.height)\n",
    "                text = page.get_text(clip=clip)\n",
    "                if '中國信託金融控股' or '中信投顧投資分析報告' in text :\n",
    "                    count_true+=1\n",
    "                    # print(directory_path, 'True')\n",
    "                else:\n",
    "                    print(directory_path, 'False')\n",
    "            except:\n",
    "                pass\n",
    "    except:\n",
    "        print(directory_path, 'fail')\n",
    "\n",
    "# 計算成功和失敗的數量並打印\n",
    "count_false = len(os.listdir(zip_path)) - count_true\n",
    "print(f'共{len(os.listdir(zip_path))}件, 成功{count_true}件, 失敗{count_false}件')"
   ]
  },
  {
   "cell_type": "code",
   "execution_count": 11,
   "metadata": {},
   "outputs": [],
   "source": [
    "import fitz\n",
    "doc = fitz.open(r'../file/中信託/1513_中興電_CTBC_買進.pdf')\n",
    "mat = fitz.Matrix(1, 1)\n",
    "page = doc.load_page(0)  # loads page number 'pno' of the document (0-based)\n",
    "rect = page.rect\n",
    "pix = page.get_pixmap(matrix=mat, alpha=False)\n",
    "pix.save(\"page-%i.png\" % page.number)"
   ]
  },
  {
   "cell_type": "code",
   "execution_count": 12,
   "metadata": {},
   "outputs": [
    {
     "name": "stdout",
     "output_type": "stream",
     "text": [
      "True\n"
     ]
    }
   ],
   "source": [
    "page_check_source = doc.load_page(-1)\n",
    "clip_check_source = fitz.Rect(0, 0, rect.width, rect.height)\n",
    "pix = page_check_source.get_pixmap(matrix=mat, alpha=False, clip=clip_check_source)\n",
    "pix.save(\"page-clip_check_source.png\")\n",
    "text_check_source = page_check_source.get_text(clip=clip_check_source)\n",
    "if '中國信託金融控股' or '中信投顧投資分析報告' in text_check_source :\n",
    "    print('True')"
   ]
  },
  {
   "cell_type": "code",
   "execution_count": 13,
   "metadata": {},
   "outputs": [
    {
     "data": {
      "text/plain": [
       "False"
      ]
     },
     "execution_count": 13,
     "metadata": {},
     "output_type": "execute_result"
    }
   ],
   "source": [
    "'金' == '金'"
   ]
  },
  {
   "cell_type": "code",
   "execution_count": 14,
   "metadata": {},
   "outputs": [
    {
     "name": "stdout",
     "output_type": "stream",
     "text": [
      "True\n"
     ]
    }
   ],
   "source": [
    "# 檢查是否為個股報告\n",
    "if '個股報告' in text_check_source :\n",
    "    print('True')"
   ]
  },
  {
   "attachments": {},
   "cell_type": "markdown",
   "metadata": {},
   "source": [
    "# rating"
   ]
  },
  {
   "cell_type": "code",
   "execution_count": 15,
   "metadata": {},
   "outputs": [],
   "source": [
    "# 檢查報告版本\n",
    "clip_check_version= fitz.Rect(370, 80, 450, 200)\n",
    "pix = page.get_pixmap(matrix=mat, alpha=False, clip=clip_check_version)\n",
    "pix.save(\"page-clip_check_version.png\")\n",
    "text_check_version = page.get_text(clip=clip_check_version).strip()\n",
    "if '投資評等' in text_check_version:\n",
    "   print('報告為舊版')"
   ]
  },
  {
   "cell_type": "code",
   "execution_count": 16,
   "metadata": {},
   "outputs": [],
   "source": [
    "# 報告為舊版\n",
    "try:\n",
    "    text_old_version_1 = text_check_version\n",
    "    text_old_version_1 = text_old_version_1.split('投資評等')[1].strip()\n",
    "    rate_1 = text_old_version_1.split('\\n')[0].strip()\n",
    "except:\n",
    "    rate_1 = None\n",
    "rate_1"
   ]
  },
  {
   "cell_type": "code",
   "execution_count": 17,
   "metadata": {},
   "outputs": [
    {
     "data": {
      "text/plain": [
       "''"
      ]
     },
     "execution_count": 17,
     "metadata": {},
     "output_type": "execute_result"
    }
   ],
   "source": [
    "# 報告為舊版\n",
    "try:\n",
    "    clip_old_version_2 = fitz.Rect(370, 120, 430, 150)\n",
    "    pix = page.get_pixmap(matrix=mat, alpha=False, clip=clip_old_version_2)\n",
    "    pix.save(\"page-clip_old_version_2.png\")\n",
    "    rate_2 = page.get_text(clip=clip_old_version_2).strip()\n",
    "except:\n",
    "    rate_2 = None\n",
    "rate_2"
   ]
  },
  {
   "cell_type": "code",
   "execution_count": 18,
   "metadata": {},
   "outputs": [
    {
     "data": {
      "text/plain": [
       "'買進(Buy)'"
      ]
     },
     "execution_count": 18,
     "metadata": {},
     "output_type": "execute_result"
    }
   ],
   "source": [
    "# 報告為新版\n",
    "try:\n",
    "    # 裁剪並提取文本的第一種方法\n",
    "    clip_new_version_1 = fitz.Rect(200, 0, rect.width, 200)\n",
    "    pix = page.get_pixmap(matrix=mat, alpha=False, clip=clip_new_version_1)\n",
    "    pix.save(\"page-clip_new_version_1.png\")\n",
    "    text_new_version_1 = page.get_text(clip=clip_new_version_1).strip()\n",
    "    text_new_version_1 = text_new_version_1.split('評 等')[1]\n",
    "    rate_1 = text_new_version_1.split('\\n')[1].strip()\n",
    "# 如果出現任何錯誤，設置rate_1和rate_2為None。\n",
    "except:\n",
    "    rate_1 = None\n",
    "rate_1"
   ]
  },
  {
   "cell_type": "code",
   "execution_count": 19,
   "metadata": {},
   "outputs": [
    {
     "data": {
      "text/plain": [
       "'初 次 評 等'"
      ]
     },
     "execution_count": 19,
     "metadata": {},
     "output_type": "execute_result"
    }
   ],
   "source": [
    "# 報告為新版\n",
    "try:\n",
    "    # 裁剪文本的第二種方法\n",
    "    clip_new_version_2 = fitz.Rect(350, 115, 570, 200)\n",
    "    pix = page.get_pixmap(matrix=mat, alpha=False, clip=clip_new_version_2)\n",
    "    pix.save(\"page-clip_new_version_2.png\")\n",
    "    text_new_version_1 = page.get_text(clip=clip_new_version_2).strip()\n",
    "    rate_2 = text_new_version_1.split('\\n')[0].strip()\n",
    "# 如果出現任何錯誤，設置rate_2為None。\n",
    "except:\n",
    "    rate_2 = None\n",
    "rate_2"
   ]
  },
  {
   "attachments": {},
   "cell_type": "markdown",
   "metadata": {},
   "source": [
    "# target price"
   ]
  },
  {
   "cell_type": "code",
   "execution_count": 25,
   "metadata": {},
   "outputs": [
    {
     "data": {
      "text/plain": [
       "'119.00'"
      ]
     },
     "execution_count": 25,
     "metadata": {},
     "output_type": "execute_result"
    }
   ],
   "source": [
    "# 報告為舊版\n",
    "try:\n",
    "    clip_old_version_1 = fitz.Rect(0, 100, 200, 200)\n",
    "    pix = page.get_pixmap(matrix=mat, alpha=False, clip=clip_old_version_1)\n",
    "    pix.save(\"page-clip_old_version_1.png\")\n",
    "    text_old_version_1 = page.get_text(clip=clip_old_version_1).strip()\n",
    "    text_old_version_1 = text_old_version_1.split('目 標 價')[1].strip()\n",
    "    tp_1 = text_old_version_1.split('元')[0].strip()\n",
    "except:\n",
    "    tp_1 = None\n",
    "tp_1"
   ]
  },
  {
   "cell_type": "code",
   "execution_count": 27,
   "metadata": {},
   "outputs": [
    {
     "data": {
      "text/plain": [
       "'119.00'"
      ]
     },
     "execution_count": 27,
     "metadata": {},
     "output_type": "execute_result"
    }
   ],
   "source": [
    "# 報告為舊版\n",
    "try:\n",
    "    clip_old_version_2 = fitz.Rect(0, 165, 200, 175)\n",
    "    pix = page.get_pixmap(matrix=mat, alpha=False, clip=clip_old_version_2)\n",
    "    pix.save(\"page-clip_old_version_2.png\")\n",
    "    text_old_version_2 = page.get_text(clip=clip_old_version_2).strip()\n",
    "    text_old_version_2 = text_old_version_2.split('目 標 價')[1].strip()\n",
    "    tp_2 = text_old_version_2.split('元')[0].strip()\n",
    "except:\n",
    "    tp_2 = None\n",
    "tp_2"
   ]
  },
  {
   "attachments": {},
   "cell_type": "markdown",
   "metadata": {},
   "source": [
    "# author"
   ]
  },
  {
   "attachments": {},
   "cell_type": "markdown",
   "metadata": {},
   "source": [
    "# summary"
   ]
  }
 ],
 "metadata": {
  "kernelspec": {
   "display_name": "venv_stock",
   "language": "python",
   "name": "python3"
  },
  "language_info": {
   "codemirror_mode": {
    "name": "ipython",
    "version": 3
   },
   "file_extension": ".py",
   "mimetype": "text/x-python",
   "name": "python",
   "nbconvert_exporter": "python",
   "pygments_lexer": "ipython3",
   "version": "3.11.1"
  },
  "orig_nbformat": 4,
  "vscode": {
   "interpreter": {
    "hash": "ba787645ba8ce3b43ca5d5c1bc5ea17dd580ada22e1bd31731a2a86b718f16cf"
   }
  }
 },
 "nbformat": 4,
 "nbformat_minor": 2
}
