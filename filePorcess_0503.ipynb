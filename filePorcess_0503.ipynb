{
 "cells": [
  {
   "cell_type": "code",
   "execution_count": 1,
   "metadata": {},
   "outputs": [],
   "source": [
    "import os\n",
    "import fitz\n",
    "from tqdm import tqdm\n",
    "from shutil import copy\n",
    "import zipfile\n",
    "from shutil import move\n",
    "from ExtractPdf_0503 import *\n",
    "from Sinopac_0503 import Sinopac\n",
    "from Ibf_0503 import Ibf\n",
    "from Ctbc_0503 import Ctbc"
   ]
  },
  {
   "cell_type": "code",
   "execution_count": 2,
   "metadata": {},
   "outputs": [],
   "source": [
    "def handler_test(directory_path, date, processed_path):\n",
    "    count_false = 0\n",
    "    count_true = 0\n",
    "    for filename in os.listdir(directory_path):\n",
    "        if filename.endswith('.pdf'):\n",
    "            full_path = os.path.join(directory_path, filename)\n",
    "            old_name = os.path.splitext(filename)[0] # get the original filename without extension      \n",
    "            # Split the base name into its components\n",
    "            components = old_name.split('_')\n",
    "            # Extract the components\n",
    "            stock_num = components[0]\n",
    "            stock_name = components[1]\n",
    "            advisor_name = components[2]\n",
    "            old_rate = components[3]\n",
    "            summary = 'NULL'\n",
    "            pdf_handler = ExtractPdf()\n",
    "            if '永豐' in advisor_name:\n",
    "                new_rate = pdf_handler.sinopac(full_path)\n",
    "            elif '國票' in advisor_name:\n",
    "                new_rate = pdf_handler.ibf(full_path)\n",
    "            elif 'CTBC' in advisor_name or '中信' in advisor_name:\n",
    "                new_rate = pdf_handler.ctbc(full_path)\n",
    "            elif '台新' in advisor_name:\n",
    "                new_rate = pdf_handler.taishin(full_path)\n",
    "            elif '宏遠' in advisor_name:\n",
    "                new_rate = pdf_handler.honsec(full_path)\n",
    "            elif '元大' in advisor_name:\n",
    "                new_rate = pdf_handler.yuanta(full_path)\n",
    "            elif '元富' in advisor_name:\n",
    "                new_rate = pdf_handler.masterlink(full_path)\n",
    "            elif '富邦' in advisor_name:\n",
    "                new_rate = pdf_handler.fubon(full_path)\n",
    "            elif '統一' in advisor_name:\n",
    "                new_rate = pdf_handler.pscnet(full_path)\n",
    "            elif '群益' in advisor_name or 'capital' in advisor_name:\n",
    "                new_rate = pdf_handler.capital(full_path)\n",
    "            elif '第一金' in advisor_name or '一銀' in advisor_name:\n",
    "                new_rate = pdf_handler.ffhc(full_path)  \n",
    "            elif '日昇' in advisor_name:\n",
    "                new_rate = pdf_handler.jihsun(full_path) \n",
    "            elif '玉山' in advisor_name:\n",
    "                new_rate = pdf_handler.esun(full_path) \n",
    "            elif '國泰' in advisor_name:\n",
    "                new_rate = pdf_handler.cathay(full_path) \n",
    "            elif '兆豐' in advisor_name:\n",
    "                new_rate = pdf_handler.mega(full_path) \n",
    "            elif '福邦' in advisor_name:\n",
    "                new_rate = pdf_handler.gfortune(full_path)      \n",
    "            elif '康和' in advisor_name:\n",
    "                new_rate = pdf_handler.concords(full_path) \n",
    "            elif 'MS' in advisor_name or 'ms' in advisor_name:\n",
    "                new_rate = pdf_handler.morganstanley(full_path)\n",
    "            elif 'CLSA' in advisor_name or 'cl' in advisor_name:\n",
    "                new_rate = pdf_handler.clsa(full_path)  \n",
    "            elif 'citi' in advisor_name:\n",
    "                new_rate = pdf_handler.citi(full_path) \n",
    "            elif 'GS' in advisor_name or '高盛' in advisor_name or 'gs' in advisor_name:\n",
    "                new_rate = pdf_handler.goldmansachs(full_path)  \n",
    "            elif 'hsbc' in advisor_name or 'HSBC' in advisor_name:\n",
    "                new_rate = pdf_handler.hsbc(full_path)  \n",
    "            elif 'jpm' in advisor_name or '摩根大通' in advisor_name:\n",
    "                new_rate = pdf_handler.jpmorgan(full_path)  \n",
    "            elif 'NMR' in advisor_name or '野村' in advisor_name:\n",
    "                new_rate = pdf_handler.nomura(full_path)   \n",
    "            else :\n",
    "                # new_rate = 'NULL'\n",
    "                new_rate = 'wrong'\n",
    "            new_name = f'{stock_num}_{stock_name}_{date}_{advisor_name}_{new_rate}_{summary}.pdf'\n",
    "            new_path = os.path.join(processed_path, new_name)\n",
    "            # copy(full_path, new_path) # copy the processed file to the output directory\n",
    "            if new_rate == 'NULL':\n",
    "                # count_true += 1\n",
    "                # print(f'filename = {filename}')\n",
    "                # print(f'advisor_name={advisor_name}, new_rate={new_rate}')\n",
    "                pass\n",
    "            elif new_rate == 'wrong':\n",
    "                count_true += 1\n",
    "                print(f'filename = {filename}')\n",
    "                print(f'advisor_name={advisor_name}, new_rate={new_rate}')\n",
    "                # pass\n",
    "            elif new_rate == old_rate:\n",
    "                count_true += 1\n",
    "            elif new_rate in old_rate:\n",
    "                count_true += 1\n",
    "            elif old_rate in new_rate:\n",
    "                count_true += 1\n",
    "            else:\n",
    "                count_true += 1\n",
    "                # print(f'filename = {filename}')\n",
    "                # print(f'advisor_name={advisor_name}, new_rate={new_rate}')\n",
    "    count_false = len(os.listdir(directory_path)) - count_true\n",
    "    success_rate = round((count_true/len(os.listdir(directory_path))), 3)*100\n",
    "    print(f'共{len(os.listdir(directory_path))}件, 成功{count_true}件, 失敗{count_false}件, 成功率:{success_rate}%')\n"
   ]
  },
  {
   "cell_type": "code",
   "execution_count": 3,
   "metadata": {},
   "outputs": [],
   "source": [
    "def handler_find_advisor(directory_path):\n",
    "    count_false = 0\n",
    "    count_true = 0\n",
    "    for filename in os.listdir(directory_path):\n",
    "        if filename.endswith('.pdf'):\n",
    "            full_path = os.path.join(directory_path, filename)\n",
    "            old_name = os.path.splitext(filename)[0] # get the original filename without extension      \n",
    "            # Split the base name into its components\n",
    "            # Extract the components\n",
    "            advisor = 'NULL'\n",
    "            pdf_handler = ExtractPdf()\n",
    "            ADVISOR_COMPANIES = [pdf_handler.sinopac, pdf_handler.ibf, pdf_handler.ctbc, \n",
    "                                 pdf_handler.taishin, pdf_handler.honsec, pdf_handler.yuanta, \n",
    "                                 pdf_handler.masterlink, pdf_handler.fubon, pdf_handler.pscnet, \n",
    "                                 pdf_handler.capital, pdf_handler.ffhc, pdf_handler.jihsun, \n",
    "                                 pdf_handler.esun, pdf_handler.cathay, pdf_handler.mega, \n",
    "                                 pdf_handler.gfortune, pdf_handler.concords, pdf_handler.morganstanley,\n",
    "                                 pdf_handler.clsa, pdf_handler.citi, pdf_handler.goldmansachs, \n",
    "                                 pdf_handler.hsbc, pdf_handler.jpmorgan, pdf_handler.nomura]\n",
    "            for company in ADVISOR_COMPANIES:\n",
    "                new_rate = company(full_path)\n",
    "                if pdf_handler.advisor != 'NULL':\n",
    "                    advisor = pdf_handler.advisor\n",
    "                    break\n",
    "            if advisor == 'NULL':\n",
    "                # print(full_path)\n",
    "                count_false+=1\n",
    "    if len(os.listdir(directory_path))>0:\n",
    "        count_true = len(os.listdir(directory_path)) - count_false\n",
    "        success_rate = round((count_true/(len(os.listdir(directory_path)))), 3)*100\n",
    "        print(f'{directory_path}, 共{len(os.listdir(directory_path))}件, 成功{count_true}件, 失敗{count_false}件, 成功率:{success_rate}%')\n"
   ]
  },
  {
   "cell_type": "code",
   "execution_count": 6,
   "metadata": {},
   "outputs": [
    {
     "name": "stdout",
     "output_type": "stream",
     "text": [
      "../history_data/file/永豐/, 共292件, 成功292件, 失敗0件, 成功率:100.0%\n"
     ]
    }
   ],
   "source": [
    "root = '../history_data/file/永豐/'\n",
    "count_false = 0\n",
    "count_true = 0\n",
    "for filename in os.listdir(root):\n",
    "    file_path = os.path.join(root, filename)\n",
    "\n",
    "    pdfReader = Sinopac(file_path)\n",
    "    rating = pdfReader.get_rating_process()\n",
    "    target_price = pdfReader.get_target_price_process()\n",
    "    author = pdfReader.get_author_process()\n",
    "    summary = pdfReader.get_summary_process()\n",
    "\n",
    "    if summary == 'NULL':\n",
    "        print(filename)\n",
    "        print(rating)\n",
    "        print(target_price)\n",
    "        print(author)\n",
    "        print(summary)\n",
    "        count_false+=1\n",
    "        \n",
    "if len(os.listdir(root))>0:\n",
    "    count_true = len(os.listdir(root)) - count_false\n",
    "    success_rate = round((count_true/(len(os.listdir(root)))), 3)*100\n",
    "    print(f'{root}, 共{len(os.listdir(root))}件, 成功{count_true}件, 失敗{count_false}件, 成功率:{success_rate}%')\n"
   ]
  },
  {
   "cell_type": "code",
   "execution_count": 5,
   "metadata": {},
   "outputs": [
    {
     "ename": "FileNotFoundError",
     "evalue": "[WinError 3] 系統找不到指定的路徑。: 'file'",
     "output_type": "error",
     "traceback": [
      "\u001b[1;31m---------------------------------------------------------------------------\u001b[0m",
      "\u001b[1;31mFileNotFoundError\u001b[0m                         Traceback (most recent call last)",
      "Cell \u001b[1;32mIn[5], line 12\u001b[0m\n\u001b[0;32m     10\u001b[0m     os\u001b[39m.\u001b[39mmakedirs(processed_root) \n\u001b[0;32m     11\u001b[0m \u001b[39m# create a ZipFile object and extract the contents to the output directory\u001b[39;00m\n\u001b[1;32m---> 12\u001b[0m \u001b[39mfor\u001b[39;00m directory \u001b[39min\u001b[39;00m os\u001b[39m.\u001b[39;49mlistdir(zip_path):\n\u001b[0;32m     13\u001b[0m     directory_path \u001b[39m=\u001b[39m os\u001b[39m.\u001b[39mpath\u001b[39m.\u001b[39mjoin(zip_path, directory)\n\u001b[0;32m     14\u001b[0m     extract_path \u001b[39m=\u001b[39m os\u001b[39m.\u001b[39mpath\u001b[39m.\u001b[39mjoin(extract_root, os\u001b[39m.\u001b[39mpath\u001b[39m.\u001b[39msplitext(directory)[\u001b[39m0\u001b[39m])\n",
      "\u001b[1;31mFileNotFoundError\u001b[0m: [WinError 3] 系統找不到指定的路徑。: 'file'"
     ]
    }
   ],
   "source": [
    "# specify the path to the compressed file\n",
    "zip_path = 'file'\n",
    "\n",
    "# specify the path to the directory where the extracted files will be saved\n",
    "extract_root = r'output\\extract'\n",
    "processed_root = r'output\\processed'\n",
    "if not os.path.exists(extract_root):\n",
    "    os.makedirs(extract_root)\n",
    "if not os.path.exists(processed_root):\n",
    "    os.makedirs(processed_root) \n",
    "# create a ZipFile object and extract the contents to the output directory\n",
    "for directory in os.listdir(zip_path):\n",
    "    directory_path = os.path.join(zip_path, directory)\n",
    "    extract_path = os.path.join(extract_root, os.path.splitext(directory)[0])\n",
    "    with zipfile.ZipFile(directory_path, 'r') as zip_ref:\n",
    "        zip_ref.extractall(extract_path)\n"
   ]
  },
  {
   "cell_type": "code",
   "execution_count": null,
   "metadata": {},
   "outputs": [],
   "source": [
    "all_pdf_root = r'../history_data/file'"
   ]
  },
  {
   "cell_type": "code",
   "execution_count": null,
   "metadata": {},
   "outputs": [
    {
     "ename": "TypeError",
     "evalue": "ExtractPdf.__init__() missing 1 required positional argument: 'file_path'",
     "output_type": "error",
     "traceback": [
      "\u001b[1;31m---------------------------------------------------------------------------\u001b[0m",
      "\u001b[1;31mTypeError\u001b[0m                                 Traceback (most recent call last)",
      "Cell \u001b[1;32mIn[6], line 3\u001b[0m\n\u001b[0;32m      1\u001b[0m \u001b[39mfor\u001b[39;00m date_path \u001b[39min\u001b[39;00m os\u001b[39m.\u001b[39mlistdir(all_pdf_root):\n\u001b[0;32m      2\u001b[0m     directory_date \u001b[39m=\u001b[39m os\u001b[39m.\u001b[39mpath\u001b[39m.\u001b[39mjoin(all_pdf_root, date_path)\n\u001b[1;32m----> 3\u001b[0m     handler_find_advisor(directory_date)\n",
      "Cell \u001b[1;32mIn[5], line 11\u001b[0m, in \u001b[0;36mhandler_find_advisor\u001b[1;34m(directory_path)\u001b[0m\n\u001b[0;32m      8\u001b[0m \u001b[39m# Split the base name into its components\u001b[39;00m\n\u001b[0;32m      9\u001b[0m \u001b[39m# Extract the components\u001b[39;00m\n\u001b[0;32m     10\u001b[0m advisor \u001b[39m=\u001b[39m \u001b[39m'\u001b[39m\u001b[39mNULL\u001b[39m\u001b[39m'\u001b[39m\n\u001b[1;32m---> 11\u001b[0m pdf_handler \u001b[39m=\u001b[39m ExtractPdf()\n\u001b[0;32m     12\u001b[0m ADVISOR_COMPANIES \u001b[39m=\u001b[39m [pdf_handler\u001b[39m.\u001b[39msinopac, pdf_handler\u001b[39m.\u001b[39mibf, pdf_handler\u001b[39m.\u001b[39mctbc, \n\u001b[0;32m     13\u001b[0m                      pdf_handler\u001b[39m.\u001b[39mtaishin, pdf_handler\u001b[39m.\u001b[39mhonsec, pdf_handler\u001b[39m.\u001b[39myuanta, \n\u001b[0;32m     14\u001b[0m                      pdf_handler\u001b[39m.\u001b[39mmasterlink, pdf_handler\u001b[39m.\u001b[39mfubon, pdf_handler\u001b[39m.\u001b[39mpscnet, \n\u001b[1;32m   (...)\u001b[0m\n\u001b[0;32m     18\u001b[0m                      pdf_handler\u001b[39m.\u001b[39mclsa, pdf_handler\u001b[39m.\u001b[39mciti, pdf_handler\u001b[39m.\u001b[39mgoldmansachs, \n\u001b[0;32m     19\u001b[0m                      pdf_handler\u001b[39m.\u001b[39mhsbc, pdf_handler\u001b[39m.\u001b[39mjpmorgan, pdf_handler\u001b[39m.\u001b[39mnomura]\n\u001b[0;32m     20\u001b[0m \u001b[39mfor\u001b[39;00m company \u001b[39min\u001b[39;00m ADVISOR_COMPANIES:\n",
      "\u001b[1;31mTypeError\u001b[0m: ExtractPdf.__init__() missing 1 required positional argument: 'file_path'"
     ]
    }
   ],
   "source": [
    "for date_path in os.listdir(all_pdf_root):\n",
    "    directory_date = os.path.join(all_pdf_root, date_path)\n",
    "    handler_find_advisor(directory_date)\n",
    "        "
   ]
  },
  {
   "cell_type": "code",
   "execution_count": null,
   "metadata": {},
   "outputs": [],
   "source": [
    "for date_path in os.listdir(extract_root):\n",
    "    directory_date = os.path.join(extract_root, date_path)\n",
    "    processed_date = os.path.join(processed_root, date_path)\n",
    "    date = date_path\n",
    "    # print(date)\n",
    "    for directory in os.listdir(directory_date):\n",
    "        directory_path = os.path.join(directory_date, directory)\n",
    "        # print(directory_path)zz\n",
    "        processed_path = os.path.join(processed_date, directory)\n",
    "        if not os.path.exists(processed_path):\n",
    "            os.makedirs(processed_path) \n",
    "        if directory == 'test':\n",
    "            handler_find_advisor(directory_path)\n",
    "        # if directory == '2':\n",
    "        #     handler_2(directory_path, date, processed_path)\n",
    "        "
   ]
  }
 ],
 "metadata": {
  "kernelspec": {
   "display_name": "venv_stock",
   "language": "python",
   "name": "python3"
  },
  "language_info": {
   "codemirror_mode": {
    "name": "ipython",
    "version": 3
   },
   "file_extension": ".py",
   "mimetype": "text/x-python",
   "name": "python",
   "nbconvert_exporter": "python",
   "pygments_lexer": "ipython3",
   "version": "3.11.1"
  },
  "orig_nbformat": 4,
  "vscode": {
   "interpreter": {
    "hash": "ba787645ba8ce3b43ca5d5c1bc5ea17dd580ada22e1bd31731a2a86b718f16cf"
   }
  }
 },
 "nbformat": 4,
 "nbformat_minor": 2
}
