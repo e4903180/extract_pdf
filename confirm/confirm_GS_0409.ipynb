{
 "cells": [
  {
   "cell_type": "code",
   "execution_count": 23,
   "metadata": {},
   "outputs": [],
   "source": [
    "import os\n",
    "import fitz\n",
    "from tqdm import tqdm"
   ]
  },
  {
   "cell_type": "code",
   "execution_count": 24,
   "metadata": {},
   "outputs": [],
   "source": [
    "def check_rate_function(rate_1, rate_2, possible_rate):\n",
    "        # 檢查兩種方法提取的評價是否相同\n",
    "    if rate_1 == rate_2 and rate_1!= None:\n",
    "        return rate_1\n",
    "    elif rate_1 in possible_rate:\n",
    "        return rate_1\n",
    "    elif rate_2 in possible_rate:\n",
    "        return rate_2\n",
    "    else :\n",
    "        return 'NULL'\n",
    "            "
   ]
  },
  {
   "cell_type": "code",
   "execution_count": 25,
   "metadata": {},
   "outputs": [
    {
     "name": "stderr",
     "output_type": "stream",
     "text": [
      "100%|██████████| 47/47 [00:03<00:00, 14.90it/s]"
     ]
    },
    {
     "name": "stdout",
     "output_type": "stream",
     "text": [
      "共47件, 成功47件, 失敗0件, 成功率:100.0%\n"
     ]
    },
    {
     "name": "stderr",
     "output_type": "stream",
     "text": [
      "\n"
     ]
    }
   ],
   "source": [
    "zip_path = r'..\\file\\GS'\n",
    "count_true = 0\n",
    "possible_rate = ['Buy', 'Buy   CL', 'Neutral', 'Sell']\n",
    "for directory in tqdm(os.listdir(zip_path)):\n",
    "    directory_path = os.path.join(zip_path, directory)\n",
    "    rate_1 = None\n",
    "    rate_2 = None\n",
    "    rate = None\n",
    "    try:\n",
    "        with fitz.open(directory_path) as doc:\n",
    "            mat = fitz.Matrix(1, 1)\n",
    "            page = doc.load_page(0)\n",
    "            rect = page.rect\n",
    "            page_check_source = doc.load_page(-1)\n",
    "            text_check_source = page_check_source.get_text()\n",
    "            if 'Goldman Sachs' in text_check_source :\n",
    "                # 檢查版本                \n",
    "                clip_check_report = fitz.Rect(0, 0, 50, 200)\n",
    "                text_check_report = page.get_text(clip=clip_check_report)\n",
    "                if text_check_report != '':\n",
    "                    # 提取評價的第一種方法\n",
    "                    try:\n",
    "                        text_version_1 = text_check_report\n",
    "                        rate_1 = text_version_1.split('\\n')[0].strip()\n",
    "                    except:\n",
    "                        rate_1 = None\n",
    "                else:\n",
    "                    try:\n",
    "                        for i in range(0, doc.page_count):\n",
    "                            page_find_rate = doc.load_page(i)\n",
    "                            text_find_rate = page_find_rate.get_text(sort=True)\n",
    "                            if 'GS Forecast' in text_find_rate:\n",
    "                                text_version_2 = text_find_rate\n",
    "                                text_version_2 = text_version_2.split('GS Forecast')[0].strip()\n",
    "                                rate_1 = text_version_2.split('\\n')[-1].strip()\n",
    "                    except:\n",
    "                        rate_1 = None\n",
    "                # else :\n",
    "                #     print(f'{text_check_report}, {directory_path} NULL')\n",
    "                # if rate_1 not in possible_rate:\n",
    "                #     possible_rate.append(rate_1)\n",
    "                rate = check_rate_function(rate_1, rate_2, possible_rate)\n",
    "                if rate == 'Buy   CL':\n",
    "                    rate = 'Buy'\n",
    "            else:\n",
    "                # False\n",
    "                print(f'{directory_path} is not posted by hsbc')\n",
    "    except:\n",
    "        print(directory_path, 'fail')\n",
    "    if rate == 'NULL' :\n",
    "        print('case1', directory_path, rate,\n",
    "                f'rate_1={rate_1}, rate_2={rate_2}')\n",
    "    elif rate == 'wrong':\n",
    "        count_true += 1\n",
    "        # print(directory_path, rate,\n",
    "        #       f'text_check_new_report={text_check_new_report}, text_check_old_fast_report={text_check_old_fast_report}')\n",
    "    elif rate != None :\n",
    "        count_true += 1\n",
    "        # print(directory_path, rate,\n",
    "        #         f'rate_1={rate_1}, rate_2={rate_2}')\n",
    "    else :\n",
    "        print('case2', directory_path, rate,\n",
    "                f'rate_1={rate_1}, rate_2={rate_2}')\n",
    "# 計算成功和失敗的數量並打印\n",
    "count_false = len(os.listdir(zip_path)) - count_true\n",
    "success_rate = round((count_true/len(os.listdir(zip_path))), 3)*100\n",
    "print(f'共{len(os.listdir(zip_path))}件, 成功{count_true}件, 失敗{count_false}件, 成功率:{success_rate}%')"
   ]
  },
  {
   "cell_type": "code",
   "execution_count": 26,
   "metadata": {},
   "outputs": [
    {
     "name": "stdout",
     "output_type": "stream",
     "text": [
      "共47件, 成功47件, 失敗0件, 成功率:100.0%\n"
     ]
    }
   ],
   "source": [
    "# 計算成功和失敗的數量並打印\n",
    "count_false = len(os.listdir(zip_path)) - count_true\n",
    "success_rate = round((count_true/len(os.listdir(zip_path))), 3)*100\n",
    "print(f'共{len(os.listdir(zip_path))}件, 成功{count_true}件, 失敗{count_false}件, 成功率:{success_rate}%')"
   ]
  },
  {
   "cell_type": "code",
   "execution_count": 27,
   "metadata": {},
   "outputs": [],
   "source": [
    "import fitz\n",
    "# doc = fitz.open(r'..\\file\\GS\\2317_鴻海_高盛_Buy.pdf')\n",
    "doc = fitz.open(r'..\\file\\GS\\2317_鴻海_GS_buy.pdf')\n",
    "mat = fitz.Matrix(1, 1)\n",
    "page = doc.load_page(0)  # loads page number 'pno' of the document (0-based)\n",
    "rect = page.rect\n",
    "pix = page.get_pixmap(matrix=mat, alpha=False)\n",
    "pix.save(\"page-%i.png\" % page.number)"
   ]
  },
  {
   "cell_type": "code",
   "execution_count": 28,
   "metadata": {},
   "outputs": [
    {
     "name": "stdout",
     "output_type": "stream",
     "text": [
      "True\n"
     ]
    }
   ],
   "source": [
    "# 檢查是否由第一金投顧出版\n",
    "page_check_source = doc.load_page(-1)\n",
    "text_check_source = page_check_source.get_text()\n",
    "if 'Goldman Sachs' in text_check_source :\n",
    "    print('True')"
   ]
  },
  {
   "cell_type": "code",
   "execution_count": 29,
   "metadata": {},
   "outputs": [
    {
     "name": "stdout",
     "output_type": "stream",
     "text": [
      "version_2\n"
     ]
    },
    {
     "data": {
      "text/plain": [
       "''"
      ]
     },
     "execution_count": 29,
     "metadata": {},
     "output_type": "execute_result"
    }
   ],
   "source": [
    "# 檢查版本\n",
    "clip_check_report = fitz.Rect(0, 0, 50, 200)\n",
    "pix = page.get_pixmap(matrix=mat, alpha=False, clip=clip_check_report)\n",
    "pix.save(\"page-clip_check_report.png\")\n",
    "text_check_report = page.get_text(clip=clip_check_report)\n",
    "if text_check_report != '':\n",
    "    print('version_1')\n",
    "else :\n",
    "    print('version_2')\n",
    "text_check_report"
   ]
  },
  {
   "cell_type": "code",
   "execution_count": 30,
   "metadata": {},
   "outputs": [
    {
     "data": {
      "text/plain": [
       "''"
      ]
     },
     "execution_count": 30,
     "metadata": {},
     "output_type": "execute_result"
    }
   ],
   "source": [
    "# 報告為新版個股報告 提取評價的第一種方法\n",
    "try:\n",
    "    clip_version_1 = fitz.Rect(0, 0, 50, 200)\n",
    "    text_version_1 = page.get_text(clip=clip_version_1, sort=True).strip()\n",
    "    pix = page.get_pixmap(matrix=mat, alpha=False, clip=clip_version_1)\n",
    "    pix.save(\"page-clip_version_1.png\")\n",
    "    # text_version_1 = text_version_1.split('TARGET')[0].strip()\n",
    "    rate_1 = text_version_1.split('\\n')[-1].strip()\n",
    "except:\n",
    "    rate_1 = None\n",
    "rate_1"
   ]
  },
  {
   "cell_type": "code",
   "execution_count": 31,
   "metadata": {},
   "outputs": [
    {
     "data": {
      "text/plain": [
       "''"
      ]
     },
     "execution_count": 31,
     "metadata": {},
     "output_type": "execute_result"
    }
   ],
   "source": [
    "# 報告為新版個股報告 提取評價的第二種方法\n",
    "try:\n",
    "    clip_old_report_2 = fitz.Rect(0, 0, 50, 200)\n",
    "    rate_2 = page.get_text(clip=clip_old_report_2).strip()\n",
    "    pix = page.get_pixmap(matrix=mat, alpha=False, clip=clip_old_report_2)\n",
    "    pix.save(\"page-clip_new_report_2.png\")\n",
    "except:\n",
    "    rate_2 = None\n",
    "rate_2"
   ]
  },
  {
   "cell_type": "code",
   "execution_count": 32,
   "metadata": {},
   "outputs": [
    {
     "data": {
      "text/plain": [
       "7"
      ]
     },
     "execution_count": 32,
     "metadata": {},
     "output_type": "execute_result"
    }
   ],
   "source": [
    "doc.page_count"
   ]
  },
  {
   "cell_type": "code",
   "execution_count": 33,
   "metadata": {},
   "outputs": [
    {
     "data": {
      "text/plain": [
       "'Buy'"
      ]
     },
     "execution_count": 33,
     "metadata": {},
     "output_type": "execute_result"
    }
   ],
   "source": [
    "for i in range(0, doc.page_count):\n",
    "    page_find_rate = doc.load_page(i)\n",
    "    text_find_rate = page_find_rate.get_text(sort=True)\n",
    "    if 'GS Forecast' in text_find_rate:\n",
    "        text_version_2 = text_find_rate\n",
    "        pix = page_find_rate.get_pixmap(matrix=mat, alpha=False)\n",
    "        pix.save(\"page-clip_version_1.png\")\n",
    "        text_version_2 = text_version_2.split('GS Forecast')[0].strip()\n",
    "        rate_1 = text_version_2.split('\\n')[-1].strip()\n",
    "rate_1"
   ]
  }
 ],
 "metadata": {
  "kernelspec": {
   "display_name": "venv_stock",
   "language": "python",
   "name": "python3"
  },
  "language_info": {
   "codemirror_mode": {
    "name": "ipython",
    "version": 3
   },
   "file_extension": ".py",
   "mimetype": "text/x-python",
   "name": "python",
   "nbconvert_exporter": "python",
   "pygments_lexer": "ipython3",
   "version": "3.8.5"
  },
  "orig_nbformat": 4,
  "vscode": {
   "interpreter": {
    "hash": "ba787645ba8ce3b43ca5d5c1bc5ea17dd580ada22e1bd31731a2a86b718f16cf"
   }
  }
 },
 "nbformat": 4,
 "nbformat_minor": 2
}
