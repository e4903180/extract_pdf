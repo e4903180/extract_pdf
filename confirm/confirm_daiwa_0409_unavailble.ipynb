{
 "cells": [
  {
   "cell_type": "code",
   "execution_count": 25,
   "metadata": {},
   "outputs": [],
   "source": [
    "import os\n",
    "import fitz\n",
    "from tqdm import tqdm"
   ]
  },
  {
   "cell_type": "code",
   "execution_count": 26,
   "metadata": {},
   "outputs": [],
   "source": [
    "def check_rate_function(rate_1, rate_2, possible_rate):\n",
    "        # 檢查兩種方法提取的評價是否相同\n",
    "    if rate_1 == rate_2 and rate_1!= None:\n",
    "        return rate_1\n",
    "    elif rate_1 in possible_rate:\n",
    "        return rate_1\n",
    "    elif rate_2 in possible_rate:\n",
    "        return rate_2\n",
    "    else :\n",
    "        return 'NULL'\n",
    "            "
   ]
  },
  {
   "cell_type": "code",
   "execution_count": 36,
   "metadata": {},
   "outputs": [
    {
     "name": "stderr",
     "output_type": "stream",
     "text": [
      "  2%|▏         | 1/51 [00:00<00:12,  3.97it/s]"
     ]
    },
    {
     "name": "stdout",
     "output_type": "stream",
     "text": [
      "Buy\n"
     ]
    },
    {
     "name": "stderr",
     "output_type": "stream",
     "text": [
      "  4%|▍         | 2/51 [00:00<00:12,  3.82it/s]"
     ]
    },
    {
     "name": "stdout",
     "output_type": "stream",
     "text": [
      "Buy\n",
      "Buy\n"
     ]
    },
    {
     "name": "stderr",
     "output_type": "stream",
     "text": [
      "  8%|▊         | 4/51 [00:01<00:12,  3.76it/s]"
     ]
    },
    {
     "name": "stdout",
     "output_type": "stream",
     "text": [
      "case1 ..\\file\\Daiwa\\2376-º▐╣┼-2023_02_17-Daiwa-Ñ╝╡√╡Ñ.pdf NULL rate_1=None, rate_2=None\n"
     ]
    },
    {
     "name": "stderr",
     "output_type": "stream",
     "text": [
      " 10%|▉         | 5/51 [00:01<00:12,  3.72it/s]"
     ]
    },
    {
     "name": "stdout",
     "output_type": "stream",
     "text": [
      "case1 ..\\file\\Daiwa\\2376-技嘉-2023_02_17-Daiwa-未評等.pdf NULL rate_1=None, rate_2=None\n"
     ]
    },
    {
     "name": "stderr",
     "output_type": "stream",
     "text": [
      " 12%|█▏        | 6/51 [00:01<00:12,  3.72it/s]"
     ]
    },
    {
     "name": "stdout",
     "output_type": "stream",
     "text": [
      "case1 ..\\file\\Daiwa\\2376_技嘉_Daiwa_未評等.pdf NULL rate_1=None, rate_2=None\n",
      "Hold\n"
     ]
    },
    {
     "name": "stderr",
     "output_type": "stream",
     "text": [
      " 16%|█▌        | 8/51 [00:02<00:10,  4.09it/s]"
     ]
    },
    {
     "name": "stdout",
     "output_type": "stream",
     "text": [
      "Buy\n"
     ]
    },
    {
     "name": "stderr",
     "output_type": "stream",
     "text": [
      " 18%|█▊        | 9/51 [00:02<00:10,  4.16it/s]"
     ]
    },
    {
     "name": "stdout",
     "output_type": "stream",
     "text": [
      "Buy\n"
     ]
    },
    {
     "name": "stderr",
     "output_type": "stream",
     "text": [
      " 20%|█▉        | 10/51 [00:02<00:09,  4.21it/s]"
     ]
    },
    {
     "name": "stdout",
     "output_type": "stream",
     "text": [
      "Buy\n"
     ]
    },
    {
     "name": "stderr",
     "output_type": "stream",
     "text": [
      " 24%|██▎       | 12/51 [00:02<00:08,  4.37it/s]"
     ]
    },
    {
     "name": "stdout",
     "output_type": "stream",
     "text": [
      "Hold\n",
      "Hold\n"
     ]
    },
    {
     "name": "stderr",
     "output_type": "stream",
     "text": [
      " 25%|██▌       | 13/51 [00:03<00:08,  4.42it/s]"
     ]
    },
    {
     "name": "stdout",
     "output_type": "stream",
     "text": [
      "Hold\n"
     ]
    },
    {
     "name": "stderr",
     "output_type": "stream",
     "text": [
      " 27%|██▋       | 14/51 [00:03<00:09,  4.11it/s]"
     ]
    },
    {
     "name": "stdout",
     "output_type": "stream",
     "text": [
      "Hold\n"
     ]
    },
    {
     "name": "stderr",
     "output_type": "stream",
     "text": [
      " 29%|██▉       | 15/51 [00:03<00:08,  4.21it/s]"
     ]
    },
    {
     "name": "stdout",
     "output_type": "stream",
     "text": [
      "Hold\n",
      "Hold\n"
     ]
    },
    {
     "name": "stderr",
     "output_type": "stream",
     "text": [
      " 33%|███▎      | 17/51 [00:04<00:07,  4.37it/s]"
     ]
    },
    {
     "name": "stdout",
     "output_type": "stream",
     "text": [
      "Hold\n",
      "Hold\n"
     ]
    },
    {
     "name": "stderr",
     "output_type": "stream",
     "text": [
      " 37%|███▋      | 19/51 [00:04<00:07,  4.54it/s]"
     ]
    },
    {
     "name": "stdout",
     "output_type": "stream",
     "text": [
      "Hold\n",
      "Buy\n"
     ]
    },
    {
     "name": "stderr",
     "output_type": "stream",
     "text": [
      " 41%|████      | 21/51 [00:04<00:06,  4.53it/s]"
     ]
    },
    {
     "name": "stdout",
     "output_type": "stream",
     "text": [
      "Buy\n"
     ]
    },
    {
     "name": "stderr",
     "output_type": "stream",
     "text": [
      " 43%|████▎     | 22/51 [00:05<00:06,  4.53it/s]"
     ]
    },
    {
     "name": "stdout",
     "output_type": "stream",
     "text": [
      "Buy\n",
      "case1 ..\\file\\Daiwa\\3443-│╨╖N-2023_02_07-Daiwa-Hold.pdf NULL rate_1=None, rate_2=None\n"
     ]
    },
    {
     "name": "stderr",
     "output_type": "stream",
     "text": [
      " 49%|████▉     | 25/51 [00:05<00:05,  4.68it/s]"
     ]
    },
    {
     "name": "stdout",
     "output_type": "stream",
     "text": [
      "case1 ..\\file\\Daiwa\\3443-創意-2023_02_06-大和國泰-HOLD.pdf NULL rate_1=None, rate_2=None\n",
      "case1 ..\\file\\Daiwa\\3443-創意-2023_02_07-Daiwa-Hold.pdf NULL rate_1=None, rate_2=None\n"
     ]
    },
    {
     "name": "stderr",
     "output_type": "stream",
     "text": [
      " 51%|█████     | 26/51 [00:06<00:05,  4.61it/s]"
     ]
    },
    {
     "name": "stdout",
     "output_type": "stream",
     "text": [
      "case1 ..\\file\\Daiwa\\3443_創意_Daiwa_Hold.pdf NULL rate_1=None, rate_2=None\n",
      "Hold\n"
     ]
    },
    {
     "name": "stderr",
     "output_type": "stream",
     "text": [
      " 55%|█████▍    | 28/51 [00:06<00:05,  4.52it/s]"
     ]
    },
    {
     "name": "stdout",
     "output_type": "stream",
     "text": [
      "Hold\n"
     ]
    },
    {
     "name": "stderr",
     "output_type": "stream",
     "text": [
      " 57%|█████▋    | 29/51 [00:06<00:05,  4.04it/s]"
     ]
    },
    {
     "name": "stdout",
     "output_type": "stream",
     "text": [
      "Buy\n"
     ]
    },
    {
     "name": "stderr",
     "output_type": "stream",
     "text": [
      " 59%|█████▉    | 30/51 [00:07<00:05,  4.03it/s]"
     ]
    },
    {
     "name": "stdout",
     "output_type": "stream",
     "text": [
      "Buy\n"
     ]
    },
    {
     "name": "stderr",
     "output_type": "stream",
     "text": [
      " 61%|██████    | 31/51 [00:07<00:05,  3.83it/s]"
     ]
    },
    {
     "name": "stdout",
     "output_type": "stream",
     "text": [
      "Buy\n"
     ]
    },
    {
     "name": "stderr",
     "output_type": "stream",
     "text": [
      " 63%|██████▎   | 32/51 [00:07<00:04,  3.94it/s]"
     ]
    },
    {
     "name": "stdout",
     "output_type": "stream",
     "text": [
      "Buy\n"
     ]
    },
    {
     "name": "stderr",
     "output_type": "stream",
     "text": [
      " 65%|██████▍   | 33/51 [00:07<00:04,  3.91it/s]"
     ]
    },
    {
     "name": "stdout",
     "output_type": "stream",
     "text": [
      "Buy\n"
     ]
    },
    {
     "name": "stderr",
     "output_type": "stream",
     "text": [
      " 67%|██████▋   | 34/51 [00:08<00:04,  3.80it/s]"
     ]
    },
    {
     "name": "stdout",
     "output_type": "stream",
     "text": [
      "Buy\n"
     ]
    },
    {
     "name": "stderr",
     "output_type": "stream",
     "text": [
      " 69%|██████▊   | 35/51 [00:08<00:04,  3.79it/s]"
     ]
    },
    {
     "name": "stdout",
     "output_type": "stream",
     "text": [
      "Hold\n"
     ]
    },
    {
     "name": "stderr",
     "output_type": "stream",
     "text": [
      " 71%|███████   | 36/51 [00:08<00:03,  3.88it/s]"
     ]
    },
    {
     "name": "stdout",
     "output_type": "stream",
     "text": [
      "Hold\n"
     ]
    },
    {
     "name": "stderr",
     "output_type": "stream",
     "text": [
      " 75%|███████▍  | 38/51 [00:08<00:02,  4.79it/s]"
     ]
    },
    {
     "name": "stdout",
     "output_type": "stream",
     "text": [
      "Hold\n",
      "case1 ..\\file\\Daiwa\\6414-╛∞║~-2023_03_08-Daiwa-Outperform.pdf NULL rate_1=None, rate_2=None\n",
      "case1 ..\\file\\Daiwa\\6414-樺漢-2023_03_08-Daiwa-Outperform.pdf NULL rate_1=None, rate_2=None\n"
     ]
    },
    {
     "name": "stderr",
     "output_type": "stream",
     "text": [
      " 78%|███████▊  | 40/51 [00:09<00:01,  6.32it/s]"
     ]
    },
    {
     "name": "stdout",
     "output_type": "stream",
     "text": [
      "case1 ..\\file\\Daiwa\\6414_樺漢_Daiwa_Outperform.pdf NULL rate_1=None, rate_2=None\n",
      "case1 ..\\file\\Daiwa\\6456- GIS-KY-2023_02_17-Daiwa-Hold.pdf NULL rate_1=None, rate_2=None\n"
     ]
    },
    {
     "name": "stderr",
     "output_type": "stream",
     "text": [
      " 82%|████████▏ | 42/51 [00:09<00:01,  5.40it/s]"
     ]
    },
    {
     "name": "stdout",
     "output_type": "stream",
     "text": [
      "case1 ..\\file\\Daiwa\\6456_ GIS-KY_Daiwa_Hold.pdf NULL rate_1=None, rate_2=None\n"
     ]
    },
    {
     "name": "stderr",
     "output_type": "stream",
     "text": [
      " 84%|████████▍ | 43/51 [00:09<00:01,  5.07it/s]"
     ]
    },
    {
     "name": "stdout",
     "output_type": "stream",
     "text": [
      "Buy\n"
     ]
    },
    {
     "name": "stderr",
     "output_type": "stream",
     "text": [
      " 86%|████████▋ | 44/51 [00:10<00:01,  4.87it/s]"
     ]
    },
    {
     "name": "stdout",
     "output_type": "stream",
     "text": [
      "Buy\n"
     ]
    },
    {
     "name": "stderr",
     "output_type": "stream",
     "text": [
      " 88%|████████▊ | 45/51 [00:10<00:01,  4.48it/s]"
     ]
    },
    {
     "name": "stdout",
     "output_type": "stream",
     "text": [
      "Buy\n"
     ]
    },
    {
     "name": "stderr",
     "output_type": "stream",
     "text": [
      " 90%|█████████ | 46/51 [00:10<00:01,  4.35it/s]"
     ]
    },
    {
     "name": "stdout",
     "output_type": "stream",
     "text": [
      "pee orm\n",
      "(unchanged)\n",
      " \n",
      " \n",
      " \n",
      "Headwinds from US hyperscalers well-anticipated  \n",
      "Sheng Cheng\n",
      "(886) 2 8758 6253\n",
      " Likely passing through industry trough soon \n",
      "sheng.cheng@daiwacm-cathay.com.tw\n",
      " Benefiting from incremental server demand from AI trend \n",
      "Tim Hsu\n",
      "(886) 2 8758 6252\n",
      "eS\n",
      "»\n",
      "tim.hsu@daiwacm-cathay.com.tw\n",
      " \n",
      "  \n",
      " Reiterating our Outperform (2) call; raising 12-month TP to TWD1,040 \n",
      " \n",
      " \n",
      " \n",
      " \n",
      " \n",
      " \n",
      "Forecast revisions (%)\n",
      "Year to 12 Dec\n",
      "22E\n",
      "23E\n",
      "24E\n",
      "Revenue change\n",
      "1.8\n",
      "(7.6)\n",
      "(5.4)\n",
      "Net profit change\n",
      "1.2\n",
      "(12.7)\n",
      "(14.8)\n",
      "Core EPS (FD) change\n",
      "1.2\n",
      "(12.7)\n",
      "(14.8)\n",
      " \n",
      "Source: Daiwa forecasts \n",
      " \n",
      " \n",
      " \n",
      "12-month range\n",
      "617.00-1,035.00\n",
      "Market cap (USDbn)\n",
      "5.20\n",
      "3m avg daily turnover (USDm)\n",
      "27.72\n",
      "Shares outstanding (m)\n",
      "175\n",
      "Major shareholder\n",
      "Wistron Corp (44.9%)\n",
      " \n",
      " \n",
      "Financial summary (TWD)\n",
      "Year to 31 Dec\n",
      "22E\n",
      "23E\n",
      "24E\n",
      "Revenue (m)\n",
      "292,876\n",
      "298,639\n",
      "365,359\n",
      "Operating profit (m)\n",
      "17,834\n",
      "17,265\n",
      "20,387\n",
      "Net profit (m)\n",
      "14,175\n",
      "13,129\n",
      "15,443\n",
      "Core EPS (fully-diluted)\n",
      "81.072\n",
      "75.092\n",
      "88.325\n",
      "EPS change (%)\n",
      "63.9\n",
      "(7.4)\n",
      "17.6\n",
      "Daiwa vs Cons. EPS (%)\n",
      "0.5\n",
      "(7.1)\n",
      "(3.2)\n",
      "PER (x)\n",
      "11.2\n",
      "12.1\n",
      "10.3\n",
      "Dividend yield (%)\n",
      "2.8\n",
      "5.5\n",
      "5.3\n",
      "DPS\n",
      "25.0\n",
      "50.0\n",
      "48.0\n",
      "PBR (x)\n",
      "4.3\n",
      "3.8\n",
      "3.3\n",
      "EV/EBITDA (x)\n",
      "8.7\n",
      "8.7\n",
      "6.9\n",
      "ROE (%)\n",
      "43.9\n",
      "33.4\n",
      "34.3\n",
      " \n",
      "Source: FactSet, Daiwa forecasts \n",
      " \n",
      "What’s new: Wiwynn held a results call after market hours on 23 February, \n",
      "while 4Q22 preliminary results were released on 9 January. Our key \n",
      "takeaways from the call are: the company remains positive on white-box \n",
      "shipment growth in 2023 and expects to also ride on the AI-server trend. \n",
      "Though we expect server orders to be adjusted by key clients again in \n",
      "2Q23, we think orders will start recovering in 2H23E. As we expect server \n",
      "industry to return to the up-cycle in next few quarters, we think Wiwynn \n",
      "deserves to resume trading at PE multiple of 11-17x (from current 9-10x). \n",
      " \n",
      "What’s the impact: 4Q22 results recap. Wiwynn’s 4Q22 net profit was \n",
      "TWD3.95bn (EPS: TWD22.59), 1-5% higher than our (TWD3.78bn) and \n",
      "Bloomberg consensus (TWD3.90bn) estimates. We attribute the strength \n",
      "mainly to the better-than-expected profit margin, while its bottom-line was \n",
      "negatively impacted by FX loss of TWD298m (for more details, see our \n",
      "4Q22 result first take). \n",
      " \n",
      "Key takeaways. We believe Wiwynn maintains its positive tone on white-\n",
      "box shipment growth in 2023 and guides for third-party estimates to remain \n",
      "at single digit YoY during the call. Also, AI server was the key topic among \n",
      "investors, and they are keen to know the spec and ASP difference between \n",
      "regular and AI servers and potential impact on Wiwynn’s gross margin if AI \n",
      "server shipments ramp up in future. Wiwynn mentioned AI-related server \n",
      "revenue to be less than 20% in 2022 (vs. our estimate of 5%) and c.50% of \n",
      "new projects are now linked to AI servers. Wiwynn expects AI servers to \n",
      "require higher computing power, power usage, bandwidth, heat dissipation \n",
      "and memory. Wiwynn specialises in all types of cooling systems (including \n",
      "air, liquid, immersion cooling) and is ready to capture client demand. \n",
      "However, the ASP of AI servers will be 10-20x higher than regular servers, \n",
      "which will hamper the company’s gross margin performance, in our view. \n",
      "Industry update. While we note US hyperscalers revised down their 2023 \n",
      "server orders since November 2022, we think Wiwynn’s regular server \n",
      "shipments are not likely to grow YoY in 2023. That said, we forecast \n",
      "Wiwynn’s 2023 revenue to increase by 2% YoY on ASP increase on AI-\n",
      "server shipment growth, but this will dilute its gross margin gradually. \n",
      " \n",
      "What we recommend: We cut our 2023-24E EPS by 13-15% to factor in \n",
      "the 4Q22 results and lower gross margin assumption. We raise our 12-\n",
      "month TP to TWD1,040 (from TWD940), based on a higher target PER of \n",
      "13x (prior 12x; mid-point of the stock’s past-2-year trading range of 8-17x), \n",
      "applied to our 1-year forward EPS forecast to reflect improving server \n",
      "outlook ahead. Key risk: worse-than-expected component shortage. \n",
      " \n",
      "How we differ: Our 2024E revenue is 7% higher than consensus, likely \n",
      "due to our more positive view on the improving server outlook.\n",
      " \n",
      "See important disclosures, including any required research certifications, beginning on page 6 \n",
      "Flash\n",
      "case1 ..\\file\\Daiwa\\6669-╜n┐o-2023_02_24-Daiwa-Outperform.pdf NULL rate_1=pee orm\n",
      "(unchanged)\n",
      " \n",
      " \n",
      " \n",
      "Headwinds from US hyperscalers well-anticipated  \n",
      "Sheng Cheng\n",
      "(886) 2 8758 6253\n",
      " Likely passing through industry trough soon \n",
      "sheng.cheng@daiwacm-cathay.com.tw\n",
      " Benefiting from incremental server demand from AI trend \n",
      "Tim Hsu\n",
      "(886) 2 8758 6252\n",
      "eS\n",
      "»\n",
      "tim.hsu@daiwacm-cathay.com.tw\n",
      " \n",
      "  \n",
      " Reiterating our Outperform (2) call; raising 12-month TP to TWD1,040 \n",
      " \n",
      " \n",
      " \n",
      " \n",
      " \n",
      " \n",
      "Forecast revisions (%)\n",
      "Year to 12 Dec\n",
      "22E\n",
      "23E\n",
      "24E\n",
      "Revenue change\n",
      "1.8\n",
      "(7.6)\n",
      "(5.4)\n",
      "Net profit change\n",
      "1.2\n",
      "(12.7)\n",
      "(14.8)\n",
      "Core EPS (FD) change\n",
      "1.2\n",
      "(12.7)\n",
      "(14.8)\n",
      " \n",
      "Source: Daiwa forecasts \n",
      " \n",
      " \n",
      " \n",
      "12-month range\n",
      "617.00-1,035.00\n",
      "Market cap (USDbn)\n",
      "5.20\n",
      "3m avg daily turnover (USDm)\n",
      "27.72\n",
      "Shares outstanding (m)\n",
      "175\n",
      "Major shareholder\n",
      "Wistron Corp (44.9%)\n",
      " \n",
      " \n",
      "Financial summary (TWD)\n",
      "Year to 31 Dec\n",
      "22E\n",
      "23E\n",
      "24E\n",
      "Revenue (m)\n",
      "292,876\n",
      "298,639\n",
      "365,359\n",
      "Operating profit (m)\n",
      "17,834\n",
      "17,265\n",
      "20,387\n",
      "Net profit (m)\n",
      "14,175\n",
      "13,129\n",
      "15,443\n",
      "Core EPS (fully-diluted)\n",
      "81.072\n",
      "75.092\n",
      "88.325\n",
      "EPS change (%)\n",
      "63.9\n",
      "(7.4)\n",
      "17.6\n",
      "Daiwa vs Cons. EPS (%)\n",
      "0.5\n",
      "(7.1)\n",
      "(3.2)\n",
      "PER (x)\n",
      "11.2\n",
      "12.1\n",
      "10.3\n",
      "Dividend yield (%)\n",
      "2.8\n",
      "5.5\n",
      "5.3\n",
      "DPS\n",
      "25.0\n",
      "50.0\n",
      "48.0\n",
      "PBR (x)\n",
      "4.3\n",
      "3.8\n",
      "3.3\n",
      "EV/EBITDA (x)\n",
      "8.7\n",
      "8.7\n",
      "6.9\n",
      "ROE (%)\n",
      "43.9\n",
      "33.4\n",
      "34.3\n",
      " \n",
      "Source: FactSet, Daiwa forecasts \n",
      " \n",
      "What’s new: Wiwynn held a results call after market hours on 23 February, \n",
      "while 4Q22 preliminary results were released on 9 January. Our key \n",
      "takeaways from the call are: the company remains positive on white-box \n",
      "shipment growth in 2023 and expects to also ride on the AI-server trend. \n",
      "Though we expect server orders to be adjusted by key clients again in \n",
      "2Q23, we think orders will start recovering in 2H23E. As we expect server \n",
      "industry to return to the up-cycle in next few quarters, we think Wiwynn \n",
      "deserves to resume trading at PE multiple of 11-17x (from current 9-10x). \n",
      " \n",
      "What’s the impact: 4Q22 results recap. Wiwynn’s 4Q22 net profit was \n",
      "TWD3.95bn (EPS: TWD22.59), 1-5% higher than our (TWD3.78bn) and \n",
      "Bloomberg consensus (TWD3.90bn) estimates. We attribute the strength \n",
      "mainly to the better-than-expected profit margin, while its bottom-line was \n",
      "negatively impacted by FX loss of TWD298m (for more details, see our \n",
      "4Q22 result first take). \n",
      " \n",
      "Key takeaways. We believe Wiwynn maintains its positive tone on white-\n",
      "box shipment growth in 2023 and guides for third-party estimates to remain \n",
      "at single digit YoY during the call. Also, AI server was the key topic among \n",
      "investors, and they are keen to know the spec and ASP difference between \n",
      "regular and AI servers and potential impact on Wiwynn’s gross margin if AI \n",
      "server shipments ramp up in future. Wiwynn mentioned AI-related server \n",
      "revenue to be less than 20% in 2022 (vs. our estimate of 5%) and c.50% of \n",
      "new projects are now linked to AI servers. Wiwynn expects AI servers to \n",
      "require higher computing power, power usage, bandwidth, heat dissipation \n",
      "and memory. Wiwynn specialises in all types of cooling systems (including \n",
      "air, liquid, immersion cooling) and is ready to capture client demand. \n",
      "However, the ASP of AI servers will be 10-20x higher than regular servers, \n",
      "which will hamper the company’s gross margin performance, in our view. \n",
      "Industry update. While we note US hyperscalers revised down their 2023 \n",
      "server orders since November 2022, we think Wiwynn’s regular server \n",
      "shipments are not likely to grow YoY in 2023. That said, we forecast \n",
      "Wiwynn’s 2023 revenue to increase by 2% YoY on ASP increase on AI-\n",
      "server shipment growth, but this will dilute its gross margin gradually. \n",
      " \n",
      "What we recommend: We cut our 2023-24E EPS by 13-15% to factor in \n",
      "the 4Q22 results and lower gross margin assumption. We raise our 12-\n",
      "month TP to TWD1,040 (from TWD940), based on a higher target PER of \n",
      "13x (prior 12x; mid-point of the stock’s past-2-year trading range of 8-17x), \n",
      "applied to our 1-year forward EPS forecast to reflect improving server \n",
      "outlook ahead. Key risk: worse-than-expected component shortage. \n",
      " \n",
      "How we differ: Our 2024E revenue is 7% higher than consensus, likely \n",
      "due to our more positive view on the improving server outlook.\n",
      " \n",
      "See important disclosures, including any required research certifications, beginning on page 6 \n",
      "Flash, rate_2=None\n"
     ]
    },
    {
     "name": "stderr",
     "output_type": "stream",
     "text": [
      " 92%|█████████▏| 47/51 [00:10<00:00,  4.22it/s]"
     ]
    },
    {
     "name": "stdout",
     "output_type": "stream",
     "text": [
      "pee orm\n",
      "(unchanged)\n",
      " \n",
      " \n",
      " \n",
      "Headwinds from US hyperscalers well-anticipated  \n",
      "Sheng Cheng\n",
      "(886) 2 8758 6253\n",
      " Likely passing through industry trough soon \n",
      "sheng.cheng@daiwacm-cathay.com.tw\n",
      " Benefiting from incremental server demand from AI trend \n",
      "Tim Hsu\n",
      "(886) 2 8758 6252\n",
      "eS\n",
      "»\n",
      "tim.hsu@daiwacm-cathay.com.tw\n",
      " \n",
      "  \n",
      " Reiterating our Outperform (2) call; raising 12-month TP to TWD1,040 \n",
      " \n",
      " \n",
      " \n",
      " \n",
      " \n",
      " \n",
      "Forecast revisions (%)\n",
      "Year to 12 Dec\n",
      "22E\n",
      "23E\n",
      "24E\n",
      "Revenue change\n",
      "1.8\n",
      "(7.6)\n",
      "(5.4)\n",
      "Net profit change\n",
      "1.2\n",
      "(12.7)\n",
      "(14.8)\n",
      "Core EPS (FD) change\n",
      "1.2\n",
      "(12.7)\n",
      "(14.8)\n",
      " \n",
      "Source: Daiwa forecasts \n",
      " \n",
      " \n",
      " \n",
      "12-month range\n",
      "617.00-1,035.00\n",
      "Market cap (USDbn)\n",
      "5.20\n",
      "3m avg daily turnover (USDm)\n",
      "27.72\n",
      "Shares outstanding (m)\n",
      "175\n",
      "Major shareholder\n",
      "Wistron Corp (44.9%)\n",
      " \n",
      " \n",
      "Financial summary (TWD)\n",
      "Year to 31 Dec\n",
      "22E\n",
      "23E\n",
      "24E\n",
      "Revenue (m)\n",
      "292,876\n",
      "298,639\n",
      "365,359\n",
      "Operating profit (m)\n",
      "17,834\n",
      "17,265\n",
      "20,387\n",
      "Net profit (m)\n",
      "14,175\n",
      "13,129\n",
      "15,443\n",
      "Core EPS (fully-diluted)\n",
      "81.072\n",
      "75.092\n",
      "88.325\n",
      "EPS change (%)\n",
      "63.9\n",
      "(7.4)\n",
      "17.6\n",
      "Daiwa vs Cons. EPS (%)\n",
      "0.5\n",
      "(7.1)\n",
      "(3.2)\n",
      "PER (x)\n",
      "11.2\n",
      "12.1\n",
      "10.3\n",
      "Dividend yield (%)\n",
      "2.8\n",
      "5.5\n",
      "5.3\n",
      "DPS\n",
      "25.0\n",
      "50.0\n",
      "48.0\n",
      "PBR (x)\n",
      "4.3\n",
      "3.8\n",
      "3.3\n",
      "EV/EBITDA (x)\n",
      "8.7\n",
      "8.7\n",
      "6.9\n",
      "ROE (%)\n",
      "43.9\n",
      "33.4\n",
      "34.3\n",
      " \n",
      "Source: FactSet, Daiwa forecasts \n",
      " \n",
      "What’s new: Wiwynn held a results call after market hours on 23 February, \n",
      "while 4Q22 preliminary results were released on 9 January. Our key \n",
      "takeaways from the call are: the company remains positive on white-box \n",
      "shipment growth in 2023 and expects to also ride on the AI-server trend. \n",
      "Though we expect server orders to be adjusted by key clients again in \n",
      "2Q23, we think orders will start recovering in 2H23E. As we expect server \n",
      "industry to return to the up-cycle in next few quarters, we think Wiwynn \n",
      "deserves to resume trading at PE multiple of 11-17x (from current 9-10x). \n",
      " \n",
      "What’s the impact: 4Q22 results recap. Wiwynn’s 4Q22 net profit was \n",
      "TWD3.95bn (EPS: TWD22.59), 1-5% higher than our (TWD3.78bn) and \n",
      "Bloomberg consensus (TWD3.90bn) estimates. We attribute the strength \n",
      "mainly to the better-than-expected profit margin, while its bottom-line was \n",
      "negatively impacted by FX loss of TWD298m (for more details, see our \n",
      "4Q22 result first take). \n",
      " \n",
      "Key takeaways. We believe Wiwynn maintains its positive tone on white-\n",
      "box shipment growth in 2023 and guides for third-party estimates to remain \n",
      "at single digit YoY during the call. Also, AI server was the key topic among \n",
      "investors, and they are keen to know the spec and ASP difference between \n",
      "regular and AI servers and potential impact on Wiwynn’s gross margin if AI \n",
      "server shipments ramp up in future. Wiwynn mentioned AI-related server \n",
      "revenue to be less than 20% in 2022 (vs. our estimate of 5%) and c.50% of \n",
      "new projects are now linked to AI servers. Wiwynn expects AI servers to \n",
      "require higher computing power, power usage, bandwidth, heat dissipation \n",
      "and memory. Wiwynn specialises in all types of cooling systems (including \n",
      "air, liquid, immersion cooling) and is ready to capture client demand. \n",
      "However, the ASP of AI servers will be 10-20x higher than regular servers, \n",
      "which will hamper the company’s gross margin performance, in our view. \n",
      "Industry update. While we note US hyperscalers revised down their 2023 \n",
      "server orders since November 2022, we think Wiwynn’s regular server \n",
      "shipments are not likely to grow YoY in 2023. That said, we forecast \n",
      "Wiwynn’s 2023 revenue to increase by 2% YoY on ASP increase on AI-\n",
      "server shipment growth, but this will dilute its gross margin gradually. \n",
      " \n",
      "What we recommend: We cut our 2023-24E EPS by 13-15% to factor in \n",
      "the 4Q22 results and lower gross margin assumption. We raise our 12-\n",
      "month TP to TWD1,040 (from TWD940), based on a higher target PER of \n",
      "13x (prior 12x; mid-point of the stock’s past-2-year trading range of 8-17x), \n",
      "applied to our 1-year forward EPS forecast to reflect improving server \n",
      "outlook ahead. Key risk: worse-than-expected component shortage. \n",
      " \n",
      "How we differ: Our 2024E revenue is 7% higher than consensus, likely \n",
      "due to our more positive view on the improving server outlook.\n",
      " \n",
      "See important disclosures, including any required research certifications, beginning on page 6 \n",
      "Flash\n",
      "case1 ..\\file\\Daiwa\\6669-緯穎-2023_02_24-Daiwa-Outperform.pdf NULL rate_1=pee orm\n",
      "(unchanged)\n",
      " \n",
      " \n",
      " \n",
      "Headwinds from US hyperscalers well-anticipated  \n",
      "Sheng Cheng\n",
      "(886) 2 8758 6253\n",
      " Likely passing through industry trough soon \n",
      "sheng.cheng@daiwacm-cathay.com.tw\n",
      " Benefiting from incremental server demand from AI trend \n",
      "Tim Hsu\n",
      "(886) 2 8758 6252\n",
      "eS\n",
      "»\n",
      "tim.hsu@daiwacm-cathay.com.tw\n",
      " \n",
      "  \n",
      " Reiterating our Outperform (2) call; raising 12-month TP to TWD1,040 \n",
      " \n",
      " \n",
      " \n",
      " \n",
      " \n",
      " \n",
      "Forecast revisions (%)\n",
      "Year to 12 Dec\n",
      "22E\n",
      "23E\n",
      "24E\n",
      "Revenue change\n",
      "1.8\n",
      "(7.6)\n",
      "(5.4)\n",
      "Net profit change\n",
      "1.2\n",
      "(12.7)\n",
      "(14.8)\n",
      "Core EPS (FD) change\n",
      "1.2\n",
      "(12.7)\n",
      "(14.8)\n",
      " \n",
      "Source: Daiwa forecasts \n",
      " \n",
      " \n",
      " \n",
      "12-month range\n",
      "617.00-1,035.00\n",
      "Market cap (USDbn)\n",
      "5.20\n",
      "3m avg daily turnover (USDm)\n",
      "27.72\n",
      "Shares outstanding (m)\n",
      "175\n",
      "Major shareholder\n",
      "Wistron Corp (44.9%)\n",
      " \n",
      " \n",
      "Financial summary (TWD)\n",
      "Year to 31 Dec\n",
      "22E\n",
      "23E\n",
      "24E\n",
      "Revenue (m)\n",
      "292,876\n",
      "298,639\n",
      "365,359\n",
      "Operating profit (m)\n",
      "17,834\n",
      "17,265\n",
      "20,387\n",
      "Net profit (m)\n",
      "14,175\n",
      "13,129\n",
      "15,443\n",
      "Core EPS (fully-diluted)\n",
      "81.072\n",
      "75.092\n",
      "88.325\n",
      "EPS change (%)\n",
      "63.9\n",
      "(7.4)\n",
      "17.6\n",
      "Daiwa vs Cons. EPS (%)\n",
      "0.5\n",
      "(7.1)\n",
      "(3.2)\n",
      "PER (x)\n",
      "11.2\n",
      "12.1\n",
      "10.3\n",
      "Dividend yield (%)\n",
      "2.8\n",
      "5.5\n",
      "5.3\n",
      "DPS\n",
      "25.0\n",
      "50.0\n",
      "48.0\n",
      "PBR (x)\n",
      "4.3\n",
      "3.8\n",
      "3.3\n",
      "EV/EBITDA (x)\n",
      "8.7\n",
      "8.7\n",
      "6.9\n",
      "ROE (%)\n",
      "43.9\n",
      "33.4\n",
      "34.3\n",
      " \n",
      "Source: FactSet, Daiwa forecasts \n",
      " \n",
      "What’s new: Wiwynn held a results call after market hours on 23 February, \n",
      "while 4Q22 preliminary results were released on 9 January. Our key \n",
      "takeaways from the call are: the company remains positive on white-box \n",
      "shipment growth in 2023 and expects to also ride on the AI-server trend. \n",
      "Though we expect server orders to be adjusted by key clients again in \n",
      "2Q23, we think orders will start recovering in 2H23E. As we expect server \n",
      "industry to return to the up-cycle in next few quarters, we think Wiwynn \n",
      "deserves to resume trading at PE multiple of 11-17x (from current 9-10x). \n",
      " \n",
      "What’s the impact: 4Q22 results recap. Wiwynn’s 4Q22 net profit was \n",
      "TWD3.95bn (EPS: TWD22.59), 1-5% higher than our (TWD3.78bn) and \n",
      "Bloomberg consensus (TWD3.90bn) estimates. We attribute the strength \n",
      "mainly to the better-than-expected profit margin, while its bottom-line was \n",
      "negatively impacted by FX loss of TWD298m (for more details, see our \n",
      "4Q22 result first take). \n",
      " \n",
      "Key takeaways. We believe Wiwynn maintains its positive tone on white-\n",
      "box shipment growth in 2023 and guides for third-party estimates to remain \n",
      "at single digit YoY during the call. Also, AI server was the key topic among \n",
      "investors, and they are keen to know the spec and ASP difference between \n",
      "regular and AI servers and potential impact on Wiwynn’s gross margin if AI \n",
      "server shipments ramp up in future. Wiwynn mentioned AI-related server \n",
      "revenue to be less than 20% in 2022 (vs. our estimate of 5%) and c.50% of \n",
      "new projects are now linked to AI servers. Wiwynn expects AI servers to \n",
      "require higher computing power, power usage, bandwidth, heat dissipation \n",
      "and memory. Wiwynn specialises in all types of cooling systems (including \n",
      "air, liquid, immersion cooling) and is ready to capture client demand. \n",
      "However, the ASP of AI servers will be 10-20x higher than regular servers, \n",
      "which will hamper the company’s gross margin performance, in our view. \n",
      "Industry update. While we note US hyperscalers revised down their 2023 \n",
      "server orders since November 2022, we think Wiwynn’s regular server \n",
      "shipments are not likely to grow YoY in 2023. That said, we forecast \n",
      "Wiwynn’s 2023 revenue to increase by 2% YoY on ASP increase on AI-\n",
      "server shipment growth, but this will dilute its gross margin gradually. \n",
      " \n",
      "What we recommend: We cut our 2023-24E EPS by 13-15% to factor in \n",
      "the 4Q22 results and lower gross margin assumption. We raise our 12-\n",
      "month TP to TWD1,040 (from TWD940), based on a higher target PER of \n",
      "13x (prior 12x; mid-point of the stock’s past-2-year trading range of 8-17x), \n",
      "applied to our 1-year forward EPS forecast to reflect improving server \n",
      "outlook ahead. Key risk: worse-than-expected component shortage. \n",
      " \n",
      "How we differ: Our 2024E revenue is 7% higher than consensus, likely \n",
      "due to our more positive view on the improving server outlook.\n",
      " \n",
      "See important disclosures, including any required research certifications, beginning on page 6 \n",
      "Flash, rate_2=None\n"
     ]
    },
    {
     "name": "stderr",
     "output_type": "stream",
     "text": [
      " 98%|█████████▊| 50/51 [00:11<00:00,  6.08it/s]"
     ]
    },
    {
     "name": "stdout",
     "output_type": "stream",
     "text": [
      "pee orm\n",
      "(unchanged)\n",
      " \n",
      " \n",
      " \n",
      "Headwinds from US hyperscalers well-anticipated  \n",
      "Sheng Cheng\n",
      "(886) 2 8758 6253\n",
      " Likely passing through industry trough soon \n",
      "sheng.cheng@daiwacm-cathay.com.tw\n",
      " Benefiting from incremental server demand from AI trend \n",
      "Tim Hsu\n",
      "(886) 2 8758 6252\n",
      "eS\n",
      "»\n",
      "tim.hsu@daiwacm-cathay.com.tw\n",
      " \n",
      "  \n",
      " Reiterating our Outperform (2) call; raising 12-month TP to TWD1,040 \n",
      " \n",
      " \n",
      " \n",
      " \n",
      " \n",
      " \n",
      "Forecast revisions (%)\n",
      "Year to 12 Dec\n",
      "22E\n",
      "23E\n",
      "24E\n",
      "Revenue change\n",
      "1.8\n",
      "(7.6)\n",
      "(5.4)\n",
      "Net profit change\n",
      "1.2\n",
      "(12.7)\n",
      "(14.8)\n",
      "Core EPS (FD) change\n",
      "1.2\n",
      "(12.7)\n",
      "(14.8)\n",
      " \n",
      "Source: Daiwa forecasts \n",
      " \n",
      " \n",
      " \n",
      "12-month range\n",
      "617.00-1,035.00\n",
      "Market cap (USDbn)\n",
      "5.20\n",
      "3m avg daily turnover (USDm)\n",
      "27.72\n",
      "Shares outstanding (m)\n",
      "175\n",
      "Major shareholder\n",
      "Wistron Corp (44.9%)\n",
      " \n",
      " \n",
      "Financial summary (TWD)\n",
      "Year to 31 Dec\n",
      "22E\n",
      "23E\n",
      "24E\n",
      "Revenue (m)\n",
      "292,876\n",
      "298,639\n",
      "365,359\n",
      "Operating profit (m)\n",
      "17,834\n",
      "17,265\n",
      "20,387\n",
      "Net profit (m)\n",
      "14,175\n",
      "13,129\n",
      "15,443\n",
      "Core EPS (fully-diluted)\n",
      "81.072\n",
      "75.092\n",
      "88.325\n",
      "EPS change (%)\n",
      "63.9\n",
      "(7.4)\n",
      "17.6\n",
      "Daiwa vs Cons. EPS (%)\n",
      "0.5\n",
      "(7.1)\n",
      "(3.2)\n",
      "PER (x)\n",
      "11.2\n",
      "12.1\n",
      "10.3\n",
      "Dividend yield (%)\n",
      "2.8\n",
      "5.5\n",
      "5.3\n",
      "DPS\n",
      "25.0\n",
      "50.0\n",
      "48.0\n",
      "PBR (x)\n",
      "4.3\n",
      "3.8\n",
      "3.3\n",
      "EV/EBITDA (x)\n",
      "8.7\n",
      "8.7\n",
      "6.9\n",
      "ROE (%)\n",
      "43.9\n",
      "33.4\n",
      "34.3\n",
      " \n",
      "Source: FactSet, Daiwa forecasts \n",
      " \n",
      "What’s new: Wiwynn held a results call after market hours on 23 February, \n",
      "while 4Q22 preliminary results were released on 9 January. Our key \n",
      "takeaways from the call are: the company remains positive on white-box \n",
      "shipment growth in 2023 and expects to also ride on the AI-server trend. \n",
      "Though we expect server orders to be adjusted by key clients again in \n",
      "2Q23, we think orders will start recovering in 2H23E. As we expect server \n",
      "industry to return to the up-cycle in next few quarters, we think Wiwynn \n",
      "deserves to resume trading at PE multiple of 11-17x (from current 9-10x). \n",
      " \n",
      "What’s the impact: 4Q22 results recap. Wiwynn’s 4Q22 net profit was \n",
      "TWD3.95bn (EPS: TWD22.59), 1-5% higher than our (TWD3.78bn) and \n",
      "Bloomberg consensus (TWD3.90bn) estimates. We attribute the strength \n",
      "mainly to the better-than-expected profit margin, while its bottom-line was \n",
      "negatively impacted by FX loss of TWD298m (for more details, see our \n",
      "4Q22 result first take). \n",
      " \n",
      "Key takeaways. We believe Wiwynn maintains its positive tone on white-\n",
      "box shipment growth in 2023 and guides for third-party estimates to remain \n",
      "at single digit YoY during the call. Also, AI server was the key topic among \n",
      "investors, and they are keen to know the spec and ASP difference between \n",
      "regular and AI servers and potential impact on Wiwynn’s gross margin if AI \n",
      "server shipments ramp up in future. Wiwynn mentioned AI-related server \n",
      "revenue to be less than 20% in 2022 (vs. our estimate of 5%) and c.50% of \n",
      "new projects are now linked to AI servers. Wiwynn expects AI servers to \n",
      "require higher computing power, power usage, bandwidth, heat dissipation \n",
      "and memory. Wiwynn specialises in all types of cooling systems (including \n",
      "air, liquid, immersion cooling) and is ready to capture client demand. \n",
      "However, the ASP of AI servers will be 10-20x higher than regular servers, \n",
      "which will hamper the company’s gross margin performance, in our view. \n",
      "Industry update. While we note US hyperscalers revised down their 2023 \n",
      "server orders since November 2022, we think Wiwynn’s regular server \n",
      "shipments are not likely to grow YoY in 2023. That said, we forecast \n",
      "Wiwynn’s 2023 revenue to increase by 2% YoY on ASP increase on AI-\n",
      "server shipment growth, but this will dilute its gross margin gradually. \n",
      " \n",
      "What we recommend: We cut our 2023-24E EPS by 13-15% to factor in \n",
      "the 4Q22 results and lower gross margin assumption. We raise our 12-\n",
      "month TP to TWD1,040 (from TWD940), based on a higher target PER of \n",
      "13x (prior 12x; mid-point of the stock’s past-2-year trading range of 8-17x), \n",
      "applied to our 1-year forward EPS forecast to reflect improving server \n",
      "outlook ahead. Key risk: worse-than-expected component shortage. \n",
      " \n",
      "How we differ: Our 2024E revenue is 7% higher than consensus, likely \n",
      "due to our more positive view on the improving server outlook.\n",
      " \n",
      "See important disclosures, including any required research certifications, beginning on page 6 \n",
      "Flash\n",
      "case1 ..\\file\\Daiwa\\6669_緯穎_Daiwa_Outperform.pdf NULL rate_1=pee orm\n",
      "(unchanged)\n",
      " \n",
      " \n",
      " \n",
      "Headwinds from US hyperscalers well-anticipated  \n",
      "Sheng Cheng\n",
      "(886) 2 8758 6253\n",
      " Likely passing through industry trough soon \n",
      "sheng.cheng@daiwacm-cathay.com.tw\n",
      " Benefiting from incremental server demand from AI trend \n",
      "Tim Hsu\n",
      "(886) 2 8758 6252\n",
      "eS\n",
      "»\n",
      "tim.hsu@daiwacm-cathay.com.tw\n",
      " \n",
      "  \n",
      " Reiterating our Outperform (2) call; raising 12-month TP to TWD1,040 \n",
      " \n",
      " \n",
      " \n",
      " \n",
      " \n",
      " \n",
      "Forecast revisions (%)\n",
      "Year to 12 Dec\n",
      "22E\n",
      "23E\n",
      "24E\n",
      "Revenue change\n",
      "1.8\n",
      "(7.6)\n",
      "(5.4)\n",
      "Net profit change\n",
      "1.2\n",
      "(12.7)\n",
      "(14.8)\n",
      "Core EPS (FD) change\n",
      "1.2\n",
      "(12.7)\n",
      "(14.8)\n",
      " \n",
      "Source: Daiwa forecasts \n",
      " \n",
      " \n",
      " \n",
      "12-month range\n",
      "617.00-1,035.00\n",
      "Market cap (USDbn)\n",
      "5.20\n",
      "3m avg daily turnover (USDm)\n",
      "27.72\n",
      "Shares outstanding (m)\n",
      "175\n",
      "Major shareholder\n",
      "Wistron Corp (44.9%)\n",
      " \n",
      " \n",
      "Financial summary (TWD)\n",
      "Year to 31 Dec\n",
      "22E\n",
      "23E\n",
      "24E\n",
      "Revenue (m)\n",
      "292,876\n",
      "298,639\n",
      "365,359\n",
      "Operating profit (m)\n",
      "17,834\n",
      "17,265\n",
      "20,387\n",
      "Net profit (m)\n",
      "14,175\n",
      "13,129\n",
      "15,443\n",
      "Core EPS (fully-diluted)\n",
      "81.072\n",
      "75.092\n",
      "88.325\n",
      "EPS change (%)\n",
      "63.9\n",
      "(7.4)\n",
      "17.6\n",
      "Daiwa vs Cons. EPS (%)\n",
      "0.5\n",
      "(7.1)\n",
      "(3.2)\n",
      "PER (x)\n",
      "11.2\n",
      "12.1\n",
      "10.3\n",
      "Dividend yield (%)\n",
      "2.8\n",
      "5.5\n",
      "5.3\n",
      "DPS\n",
      "25.0\n",
      "50.0\n",
      "48.0\n",
      "PBR (x)\n",
      "4.3\n",
      "3.8\n",
      "3.3\n",
      "EV/EBITDA (x)\n",
      "8.7\n",
      "8.7\n",
      "6.9\n",
      "ROE (%)\n",
      "43.9\n",
      "33.4\n",
      "34.3\n",
      " \n",
      "Source: FactSet, Daiwa forecasts \n",
      " \n",
      "What’s new: Wiwynn held a results call after market hours on 23 February, \n",
      "while 4Q22 preliminary results were released on 9 January. Our key \n",
      "takeaways from the call are: the company remains positive on white-box \n",
      "shipment growth in 2023 and expects to also ride on the AI-server trend. \n",
      "Though we expect server orders to be adjusted by key clients again in \n",
      "2Q23, we think orders will start recovering in 2H23E. As we expect server \n",
      "industry to return to the up-cycle in next few quarters, we think Wiwynn \n",
      "deserves to resume trading at PE multiple of 11-17x (from current 9-10x). \n",
      " \n",
      "What’s the impact: 4Q22 results recap. Wiwynn’s 4Q22 net profit was \n",
      "TWD3.95bn (EPS: TWD22.59), 1-5% higher than our (TWD3.78bn) and \n",
      "Bloomberg consensus (TWD3.90bn) estimates. We attribute the strength \n",
      "mainly to the better-than-expected profit margin, while its bottom-line was \n",
      "negatively impacted by FX loss of TWD298m (for more details, see our \n",
      "4Q22 result first take). \n",
      " \n",
      "Key takeaways. We believe Wiwynn maintains its positive tone on white-\n",
      "box shipment growth in 2023 and guides for third-party estimates to remain \n",
      "at single digit YoY during the call. Also, AI server was the key topic among \n",
      "investors, and they are keen to know the spec and ASP difference between \n",
      "regular and AI servers and potential impact on Wiwynn’s gross margin if AI \n",
      "server shipments ramp up in future. Wiwynn mentioned AI-related server \n",
      "revenue to be less than 20% in 2022 (vs. our estimate of 5%) and c.50% of \n",
      "new projects are now linked to AI servers. Wiwynn expects AI servers to \n",
      "require higher computing power, power usage, bandwidth, heat dissipation \n",
      "and memory. Wiwynn specialises in all types of cooling systems (including \n",
      "air, liquid, immersion cooling) and is ready to capture client demand. \n",
      "However, the ASP of AI servers will be 10-20x higher than regular servers, \n",
      "which will hamper the company’s gross margin performance, in our view. \n",
      "Industry update. While we note US hyperscalers revised down their 2023 \n",
      "server orders since November 2022, we think Wiwynn’s regular server \n",
      "shipments are not likely to grow YoY in 2023. That said, we forecast \n",
      "Wiwynn’s 2023 revenue to increase by 2% YoY on ASP increase on AI-\n",
      "server shipment growth, but this will dilute its gross margin gradually. \n",
      " \n",
      "What we recommend: We cut our 2023-24E EPS by 13-15% to factor in \n",
      "the 4Q22 results and lower gross margin assumption. We raise our 12-\n",
      "month TP to TWD1,040 (from TWD940), based on a higher target PER of \n",
      "13x (prior 12x; mid-point of the stock’s past-2-year trading range of 8-17x), \n",
      "applied to our 1-year forward EPS forecast to reflect improving server \n",
      "outlook ahead. Key risk: worse-than-expected component shortage. \n",
      " \n",
      "How we differ: Our 2024E revenue is 7% higher than consensus, likely \n",
      "due to our more positive view on the improving server outlook.\n",
      " \n",
      "See important disclosures, including any required research certifications, beginning on page 6 \n",
      "Flash, rate_2=None\n",
      "case1 ..\\file\\Daiwa\\8454-┤I¿╣┤C-2023_02_20-Daiwa-Outperform.pdf NULL rate_1=None, rate_2=None\n",
      "case1 ..\\file\\Daiwa\\8454-富邦媒-2023_02_20-Daiwa-Outperform.pdf NULL rate_1=None, rate_2=None\n",
      "case1 ..\\file\\Daiwa\\8454_富邦媒_Daiwa_Outperform.pdf NULL rate_1=None, rate_2=None\n"
     ]
    },
    {
     "name": "stderr",
     "output_type": "stream",
     "text": [
      "100%|██████████| 51/51 [00:11<00:00,  4.51it/s]"
     ]
    },
    {
     "name": "stdout",
     "output_type": "stream",
     "text": [
      "共51件, 成功33件, 失敗18件, 成功率:64.7%\n"
     ]
    },
    {
     "name": "stderr",
     "output_type": "stream",
     "text": [
      "\n"
     ]
    }
   ],
   "source": [
    "zip_path = r'..\\file\\Daiwa'\n",
    "count_true = 0\n",
    "possible_rate = ['Buy', 'Hold']\n",
    "for directory in tqdm(os.listdir(zip_path)):\n",
    "    directory_path = os.path.join(zip_path, directory)\n",
    "    rate_1 = None\n",
    "    rate_2 = None\n",
    "    rate = None\n",
    "    try:\n",
    "        with fitz.open(directory_path) as doc:\n",
    "            mat = fitz.Matrix(1, 1)\n",
    "            page = doc.load_page(0)\n",
    "            rect = page.rect\n",
    "            page_check_source = doc.load_page(-1)\n",
    "            text_check_source = page_check_source.get_text()\n",
    "            if 'Daiwa Securities' in text_check_source :\n",
    "                # 檢查版本                \n",
    "                clip_check_report = fitz.Rect(350, 0, rect.width, 250)\n",
    "                text_check_report = page.get_text(clip=clip_check_report)\n",
    "                # 提取評價的第一種方法\n",
    "                try:\n",
    "                    full_tp = page.get_textpage_ocr(flags=3, language='eng', dpi=72, full=False)\n",
    "                    text_old_report_1 = page.get_text(textpage=full_tp, sort=True)\n",
    "                    text_old_report_1 = text_old_report_1.split('=>')[1].strip()\n",
    "                    rate_1 = text_old_report_1.split('|')[0].strip()\n",
    "                    print(rate_1)\n",
    "                except:\n",
    "                    rate_1 = None\n",
    "                    # 提取評價的第二種方法\n",
    "                # try:\n",
    "                #     clip_old_report_2 = fitz.Rect(370, 190, rect.width, 230)\n",
    "                #     rate_2 = page.get_text(clip=clip_old_report_2).strip()\n",
    "                # except:\n",
    "                #     rate_2 = None\n",
    "                # else :\n",
    "                #     print(f'{text_check_report}, {directory_path} NULL')\n",
    "                rate = check_rate_function(rate_1, rate_2, possible_rate)\n",
    "            else:\n",
    "                # False\n",
    "                print(f'{directory_path} is not posted by hsbc')\n",
    "    except:\n",
    "        print(directory_path, 'fail')\n",
    "    if rate == 'NULL' :\n",
    "        print('case1', directory_path, rate,\n",
    "                f'rate_1={rate_1}, rate_2={rate_2}')\n",
    "    elif rate == 'wrong':\n",
    "        count_true += 1\n",
    "        # print(directory_path, rate,\n",
    "        #       f'text_check_new_report={text_check_new_report}, text_check_old_fast_report={text_check_old_fast_report}')\n",
    "    elif rate != None :\n",
    "        count_true += 1\n",
    "        # print(directory_path, rate,\n",
    "        #         f'rate_1={rate_1}, rate_2={rate_2}')\n",
    "    else :\n",
    "        print('case2', directory_path, rate,\n",
    "                f'rate_1={rate_1}, rate_2={rate_2}')\n",
    "# 計算成功和失敗的數量並打印\n",
    "count_false = len(os.listdir(zip_path)) - count_true\n",
    "success_rate = round((count_true/len(os.listdir(zip_path))), 3)*100\n",
    "print(f'共{len(os.listdir(zip_path))}件, 成功{count_true}件, 失敗{count_false}件, 成功率:{success_rate}%')"
   ]
  },
  {
   "cell_type": "code",
   "execution_count": 38,
   "metadata": {},
   "outputs": [],
   "source": [
    "import fitz\n",
    "doc = fitz.open(r'..\\file\\Daiwa\\6669-╜n┐o-2023_02_24-Daiwa-Outperform.pdf')\n",
    "mat = fitz.Matrix(1, 1)\n",
    "page = doc.load_page(0)  # loads page number 'pno' of the document (0-based)\n",
    "rect = page.rect\n",
    "pix = page.get_pixmap(matrix=mat, alpha=False)\n",
    "pix.save(\"page-%i.png\" % page.number)"
   ]
  },
  {
   "cell_type": "code",
   "execution_count": 39,
   "metadata": {},
   "outputs": [
    {
     "name": "stdout",
     "output_type": "stream",
     "text": [
      "True\n"
     ]
    }
   ],
   "source": [
    "# 檢查是否由第一金投顧出版\n",
    "page_check_source = doc.load_page(-2)\n",
    "text_check_source = page_check_source.get_text()\n",
    "if 'Daiwa Securities' in text_check_source :\n",
    "    print('True')"
   ]
  },
  {
   "cell_type": "code",
   "execution_count": 40,
   "metadata": {},
   "outputs": [
    {
     "name": "stdout",
     "output_type": "stream",
     "text": [
      "NULL\n"
     ]
    },
    {
     "data": {
      "text/plain": [
       "'23 February 2023 \\n \\n \\n \\n \\n \\n \\n \\n \\n \\n1,040 \\n \\n \\n \\n \\n \\n \\nSheng Cheng\\n(886) 2 8758 6253\\nsheng.cheng@daiwacm-cathay.com.tw\\nTim Hsu\\n(886) 2 8758 6252\\ntim.hsu@daiwacm-cathay.com.tw\\n'"
      ]
     },
     "execution_count": 40,
     "metadata": {},
     "output_type": "execute_result"
    }
   ],
   "source": [
    "# 檢查版本\n",
    "clip_check_report = fitz.Rect(350, 0, rect.width, 250)\n",
    "pix = page.get_pixmap(matrix=mat, alpha=False, clip=clip_check_report)\n",
    "pix.save(\"page-clip_check_report.png\")\n",
    "text_check_report = page.get_text(clip=clip_check_report)\n",
    "if 'Equities' in text_check_report :\n",
    "    print('Equities')\n",
    "else :\n",
    "    print('NULL')\n",
    "text_check_report"
   ]
  },
  {
   "cell_type": "code",
   "execution_count": 42,
   "metadata": {},
   "outputs": [
    {
     "data": {
      "text/plain": [
       "' \\n \\n \\nTaiwan \\nInformation Technology \\n23 February 2023 \\n \\n \\n \\nWiwynn Corp  (6669 TT)\\n \\n \\n \\n \\n \\n \\n \\ny\\n \\nTarget price: TWD1,040.00 (from TWD940.00)\\n \\nShare price (23 Feb): TWD908.00\\n|\\nUp/downside: +14.5%\\n \\n=>\\npee orm\\n(unchanged)\\n \\n \\n \\nHeadwinds from US hyperscalers well-anticipated  \\nSheng Cheng\\n(886) 2 8758 6253\\n\\uf0d8 Likely passing through industry trough soon \\nsheng.cheng@daiwacm-cathay.com.tw\\n\\uf0d8 Benefiting from incremental server demand from AI trend \\nTim Hsu\\n(886) 2 8758 6252\\neS\\n»\\ntim.hsu@daiwacm-cathay.com.tw\\n \\n\\uf0d8  \\n\\uf0d8 Reiterating our Outperform (2) call; raising 12-month TP to TWD1,040 \\n \\n \\n \\n \\n \\n \\nForecast revisions (%)\\nYear to 12 Dec\\n22E\\n23E\\n24E\\nRevenue change\\n1.8\\n(7.6)\\n(5.4)\\nNet profit change\\n1.2\\n(12.7)\\n(14.8)\\nCore EPS (FD) change\\n1.2\\n(12.7)\\n(14.8)\\n \\nSource: Daiwa forecasts \\n \\n \\n \\n12-month range\\n617.00-1,035.00\\nMarket cap (USDbn)\\n5.20\\n3m avg daily turnover (USDm)\\n27.72\\nShares outstanding (m)\\n175\\nMajor shareholder\\nWistron Corp (44.9%)\\n \\n \\nFinancial summary (TWD)\\nYear to 31 Dec\\n22E\\n23E\\n24E\\nRevenue (m)\\n292,876\\n298,639\\n365,359\\nOperating profit (m)\\n17,834\\n17,265\\n20,387\\nNet profit (m)\\n14,175\\n13,129\\n15,443\\nCore EPS (fully-diluted)\\n81.072\\n75.092\\n88.325\\nEPS change (%)\\n63.9\\n(7.4)\\n17.6\\nDaiwa vs Cons. EPS (%)\\n0.5\\n(7.1)\\n(3.2)\\nPER (x)\\n11.2\\n12.1\\n10.3\\nDividend yield (%)\\n2.8\\n5.5\\n5.3\\nDPS\\n25.0\\n50.0\\n48.0\\nPBR (x)\\n4.3\\n3.8\\n3.3\\nEV/EBITDA (x)\\n8.7\\n8.7\\n6.9\\nROE (%)\\n43.9\\n33.4\\n34.3\\n \\nSource: FactSet, Daiwa forecasts \\n \\nWhat’s new: Wiwynn held a results call after market hours on 23 February, \\nwhile 4Q22 preliminary results were released on 9 January. Our key \\ntakeaways from the call are: the company remains positive on white-box \\nshipment growth in 2023 and expects to also ride on the AI-server trend. \\nThough we expect server orders to be adjusted by key clients again in \\n2Q23, we think orders will start recovering in 2H23E. As we expect server \\nindustry to return to the up-cycle in next few quarters, we think Wiwynn \\ndeserves to resume trading at PE multiple of 11-17x (from current 9-10x). \\n \\nWhat’s the impact: 4Q22 results recap. Wiwynn’s 4Q22 net profit was \\nTWD3.95bn (EPS: TWD22.59), 1-5% higher than our (TWD3.78bn) and \\nBloomberg consensus (TWD3.90bn) estimates. We attribute the strength \\nmainly to the better-than-expected profit margin, while its bottom-line was \\nnegatively impacted by FX loss of TWD298m (for more details, see our \\n4Q22 result first take). \\n \\nKey takeaways. We believe Wiwynn maintains its positive tone on white-\\nbox shipment growth in 2023 and guides for third-party estimates to remain \\nat single digit YoY during the call. Also, AI server was the key topic among \\ninvestors, and they are keen to know the spec and ASP difference between \\nregular and AI servers and potential impact on Wiwynn’s gross margin if AI \\nserver shipments ramp up in future. Wiwynn mentioned AI-related server \\nrevenue to be less than 20% in 2022 (vs. our estimate of 5%) and c.50% of \\nnew projects are now linked to AI servers. Wiwynn expects AI servers to \\nrequire higher computing power, power usage, bandwidth, heat dissipation \\nand memory. Wiwynn specialises in all types of cooling systems (including \\nair, liquid, immersion cooling) and is ready to capture client demand. \\nHowever, the ASP of AI servers will be 10-20x higher than regular servers, \\nwhich will hamper the company’s gross margin performance, in our view. \\nIndustry update. While we note US hyperscalers revised down their 2023 \\nserver orders since November 2022, we think Wiwynn’s regular server \\nshipments are not likely to grow YoY in 2023. That said, we forecast \\nWiwynn’s 2023 revenue to increase by 2% YoY on ASP increase on AI-\\nserver shipment growth, but this will dilute its gross margin gradually. \\n \\nWhat we recommend: We cut our 2023-24E EPS by 13-15% to factor in \\nthe 4Q22 results and lower gross margin assumption. We raise our 12-\\nmonth TP to TWD1,040 (from TWD940), based on a higher target PER of \\n13x (prior 12x; mid-point of the stock’s past-2-year trading range of 8-17x), \\napplied to our 1-year forward EPS forecast to reflect improving server \\noutlook ahead. Key risk: worse-than-expected component shortage. \\n \\nHow we differ: Our 2024E revenue is 7% higher than consensus, likely \\ndue to our more positive view on the improving server outlook.\\n \\nSee important disclosures, including any required research certifications, beginning on page 6 \\nFlash\\n \\n'"
      ]
     },
     "execution_count": 42,
     "metadata": {},
     "output_type": "execute_result"
    }
   ],
   "source": [
    "# 使用ocr提取評價 (不支持clip)\n",
    "try:\n",
    "    full_tp = page.get_textpage_ocr(flags=3, language='eng', dpi=72, full=False)\n",
    "    text_old_report_1 = page.get_text(textpage=full_tp, sort=True)\n",
    "    # text_old_report_1 = text_old_report_1.split('=>')[1].strip()\n",
    "    # rate_1 = text_old_report_1.split('|')[0].strip()\n",
    "except:\n",
    "    rate_1 = None\n",
    "text_old_report_1"
   ]
  }
 ],
 "metadata": {
  "kernelspec": {
   "display_name": "venv_stock",
   "language": "python",
   "name": "python3"
  },
  "language_info": {
   "codemirror_mode": {
    "name": "ipython",
    "version": 3
   },
   "file_extension": ".py",
   "mimetype": "text/x-python",
   "name": "python",
   "nbconvert_exporter": "python",
   "pygments_lexer": "ipython3",
   "version": "3.8.5"
  },
  "orig_nbformat": 4,
  "vscode": {
   "interpreter": {
    "hash": "ba787645ba8ce3b43ca5d5c1bc5ea17dd580ada22e1bd31731a2a86b718f16cf"
   }
  }
 },
 "nbformat": 4,
 "nbformat_minor": 2
}
