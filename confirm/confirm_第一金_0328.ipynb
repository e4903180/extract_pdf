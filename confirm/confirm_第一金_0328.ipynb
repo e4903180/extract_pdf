{
 "cells": [
  {
   "cell_type": "code",
   "execution_count": 32,
   "metadata": {},
   "outputs": [],
   "source": [
    "import os\n",
    "import fitz\n",
    "from tqdm import tqdm"
   ]
  },
  {
   "cell_type": "code",
   "execution_count": 33,
   "metadata": {},
   "outputs": [],
   "source": [
    "def check_rate_function(rate_1, rate_2, possible_rate):\n",
    "        # 檢查兩種方法提取的評價是否相同\n",
    "    if rate_1 == rate_2 and rate_1!= None:\n",
    "        return rate_1\n",
    "    elif rate_1 in possible_rate:\n",
    "        return rate_1\n",
    "    elif rate_2 in possible_rate:\n",
    "        return rate_2\n",
    "    else :\n",
    "        return 'NULL'\n",
    "            "
   ]
  },
  {
   "cell_type": "code",
   "execution_count": 34,
   "metadata": {},
   "outputs": [
    {
     "name": "stderr",
     "output_type": "stream",
     "text": [
      " 31%|███       | 185/605 [00:13<00:18, 22.55it/s]"
     ]
    },
    {
     "name": "stdout",
     "output_type": "stream",
     "text": [
      "..\\file\\第一金\\2539_櫻花建_2018-12-18_第一金_櫻花建設(2539)-區間操作.pdf NULL rate_1=None, rate_2=None\n"
     ]
    },
    {
     "name": "stderr",
     "output_type": "stream",
     "text": [
      " 32%|███▏      | 192/605 [00:13<00:16, 25.22it/s]"
     ]
    },
    {
     "name": "stdout",
     "output_type": "stream",
     "text": [
      "..\\file\\第一金\\2809_京城銀_2018-08-16_第一金_京城銀(2809)-區間操作.pdf is not posted by 第一金投顧\n",
      "..\\file\\第一金\\2809_京城銀_2018-08-16_第一金_京城銀(2809)-區間操作.pdf None rate_1=None, rate_2=None\n"
     ]
    },
    {
     "name": "stderr",
     "output_type": "stream",
     "text": [
      " 35%|███▌      | 212/605 [00:14<00:11, 33.31it/s]"
     ]
    },
    {
     "name": "stdout",
     "output_type": "stream",
     "text": [
      "..\\file\\第一金\\2886_兆豐金_2018-09-17_第一金_兆豐金(2886)-買進.pdf is not posted by 第一金投顧\n",
      "..\\file\\第一金\\2886_兆豐金_2018-09-17_第一金_兆豐金(2886)-買進.pdf None rate_1=None, rate_2=None\n"
     ]
    },
    {
     "name": "stderr",
     "output_type": "stream",
     "text": [
      " 55%|█████▌    | 334/605 [00:21<00:14, 19.08it/s]"
     ]
    },
    {
     "name": "stdout",
     "output_type": "stream",
     "text": [
      "..\\file\\第一金\\4137_麗豐-KY_2018-03-09_第一金_麗豐-KY(4137)-買進.pdf NULL rate_1=None, rate_2=None\n",
      "..\\file\\第一金\\4137_麗豐-KY_2018-03-12_第一金_麗豐-KY(4137)-買進.pdf NULL rate_1=None, rate_2=None\n"
     ]
    },
    {
     "name": "stderr",
     "output_type": "stream",
     "text": [
      " 61%|██████    | 367/605 [00:24<00:18, 12.76it/s]"
     ]
    },
    {
     "name": "stdout",
     "output_type": "stream",
     "text": [
      "..\\file\\第一金\\4766_南寶_2018-11-28_第一金_南寶(4766)-區間.pdf NULL rate_1=First Financial Group, rate_2=First Financial Group \n",
      "承銷價: 76.8 \n",
      "Target Price：97\n"
     ]
    },
    {
     "name": "stderr",
     "output_type": "stream",
     "text": [
      " 87%|████████▋ | 528/605 [00:33<00:04, 17.83it/s]"
     ]
    },
    {
     "name": "stdout",
     "output_type": "stream",
     "text": [
      "..\\file\\第一金\\6561_是方_2018-06-07_第一金_是方通訊(6561)-買進.pdf NULL rate_1=ncial Group, rate_2=ncial Group \n",
      "Price(6/6): 210\n"
     ]
    },
    {
     "name": "stderr",
     "output_type": "stream",
     "text": [
      "100%|██████████| 605/605 [00:37<00:00, 15.92it/s]"
     ]
    },
    {
     "name": "stdout",
     "output_type": "stream",
     "text": [
      "共605件, 成功598件, 失敗7件, 成功率:98.8%\n"
     ]
    },
    {
     "name": "stderr",
     "output_type": "stream",
     "text": [
      "\n"
     ]
    }
   ],
   "source": [
    "zip_path = r'..\\file\\第一金'\n",
    "count_true = 0\n",
    "possible_rate = ['買進', '區間操作', '中立', 'Trading Buy', '區間', '強力買進', '- -', 'buy', 'Buy', 'Neutral']\n",
    "for directory in tqdm(os.listdir(zip_path)):\n",
    "    directory_path = os.path.join(zip_path, directory)\n",
    "    rate_1 = None\n",
    "    rate_2 = None\n",
    "    rate = None\n",
    "    try:\n",
    "        with fitz.open(directory_path) as doc:\n",
    "            mat = fitz.Matrix(1, 1)\n",
    "            page = doc.load_page(0)\n",
    "            rect = page.rect\n",
    "            page_check_source = doc.load_page(-1)\n",
    "            text_check_source = page_check_source.get_text()\n",
    "            if '第一金證券投資顧問' in text_check_source :\n",
    "                # 檢查版本                \n",
    "                clip_check_report = fitz.Rect(rect.width/2, 0, rect.width, 150)\n",
    "                text_check_report = page.get_text(clip=clip_check_report)\n",
    "                if any(keyword in text_check_report for keyword in ['個股報告', '動態更新', '近況更新', '新股報告', '新 股 報 告', '新 股 掛 牌', '新股掛牌', '新 股 報 告 ', '個股速報', '!\"#$%']):\n",
    "                    # 提取評價的第一種方法\n",
    "                    try:\n",
    "                        clip_new_report_1 = fitz.Rect(0, 130, 170, 300)\n",
    "                        text_new_report_1 = page.get_text(clip=clip_new_report_1).strip()\n",
    "                        # text_new_report_1 = text_new_report_1.split('Price')[0].strip()\n",
    "                        rate_1 = text_new_report_1.split('\\n')[0].strip()\n",
    "                    except:\n",
    "                        rate_1 = None\n",
    "                        # 提取評價的第二種方法\n",
    "                    try:\n",
    "                        # clip_new_report_2 = fitz.Rect(60, 140, 170, 170)\n",
    "                        clip_new_report_2 = fitz.Rect(0, 140, 170, 300)\n",
    "                        rate_2 = page.get_text(clip=clip_new_report_2).strip()\n",
    "                        for keyword in possible_rate:\n",
    "                            if keyword in rate_2:\n",
    "                                rate_2 = keyword\n",
    "                    except:\n",
    "                        rate_2 = None\n",
    "                elif '個 股 速 報' in text_check_report :\n",
    "                    # 提取評價的第一種方法\n",
    "                    try:\n",
    "                        clip_old_report_1 = fitz.Rect(0, 130, 170, 300)\n",
    "                        text_old_report_1 = page.get_text(clip=clip_old_report_1).strip()\n",
    "                        # text_old_report_1 = text_old_report_1.split('承銷價')[0].strip()\n",
    "                        rate_1 = text_old_report_1.split('\\n')[0].strip()\n",
    "                    except:\n",
    "                        rate_1 = None\n",
    "                    # 提取評價的第二種方法\n",
    "                    try:\n",
    "                        # clip_old_report_2 = fitz.Rect(55, 140, 160, 180)\n",
    "                        clip_old_report_2 = fitz.Rect(0, 140, 170, 300)\n",
    "                        rate_2 = page.get_text(clip=clip_old_report_2).strip()\n",
    "                        for keyword in possible_rate:\n",
    "                            if keyword in rate_2:\n",
    "                                rate_2 = keyword\n",
    "                    except:\n",
    "                        rate_2 = None\n",
    "                rate = check_rate_function(rate_1, rate_2, possible_rate)\n",
    "            else:\n",
    "                # False\n",
    "                print(f'{directory_path} is not posted by 第一金投顧')\n",
    "    except:\n",
    "        print(directory_path, 'fail')\n",
    "    if rate == 'NULL' :\n",
    "        print(directory_path, rate,\n",
    "                f'rate_1={rate_1}, rate_2={rate_2}')\n",
    "    elif rate == 'wrong':\n",
    "        count_true += 1\n",
    "        # print(directory_path, rate,\n",
    "        #       f'text_check_new_report={text_check_new_report}, text_check_old_fast_report={text_check_old_fast_report}')\n",
    "    elif rate != None :\n",
    "        count_true += 1\n",
    "        # print(directory_path, rate,\n",
    "        #         f'rate_1={rate_1}, rate_2={rate_2}')\n",
    "    else :\n",
    "        print(directory_path, rate,\n",
    "                f'rate_1={rate_1}, rate_2={rate_2}')\n",
    "# 計算成功和失敗的數量並打印\n",
    "count_false = len(os.listdir(zip_path)) - count_true\n",
    "success_rate = round((count_true/len(os.listdir(zip_path))), 3)*100\n",
    "print(f'共{len(os.listdir(zip_path))}件, 成功{count_true}件, 失敗{count_false}件, 成功率:{success_rate}%')"
   ]
  },
  {
   "cell_type": "code",
   "execution_count": 35,
   "metadata": {},
   "outputs": [],
   "source": [
    "import fitz\n",
    "doc = fitz.open(r'..\\file\\第一金\\6282_康舒_一銀_買進.pdf')\n",
    "mat = fitz.Matrix(1, 1)\n",
    "page = doc.load_page(0)  # loads page number 'pno' of the document (0-based)\n",
    "rect = page.rect\n",
    "pix = page.get_pixmap(matrix=mat, alpha=False)\n",
    "pix.save(\"page-%i.png\" % page.number)"
   ]
  },
  {
   "cell_type": "code",
   "execution_count": 36,
   "metadata": {},
   "outputs": [
    {
     "name": "stdout",
     "output_type": "stream",
     "text": [
      "True\n"
     ]
    }
   ],
   "source": [
    "# 檢查是否由第一金投顧出版\n",
    "page_check_source = doc.load_page(-1)\n",
    "text_check_source = page_check_source.get_text()\n",
    "if '第一金證券投資顧問' in text_check_source :\n",
    "    print('True')"
   ]
  },
  {
   "cell_type": "code",
   "execution_count": 37,
   "metadata": {},
   "outputs": [
    {
     "name": "stdout",
     "output_type": "stream",
     "text": [
      "NULL\n"
     ]
    },
    {
     "data": {
      "text/plain": [
       "' \\n2023/02/07 \\n!\"#$%\\n'"
      ]
     },
     "execution_count": 37,
     "metadata": {},
     "output_type": "execute_result"
    }
   ],
   "source": [
    "# 檢查版本\n",
    "clip_check_report = fitz.Rect(rect.width/2, 0, rect.width, 100)\n",
    "pix = page.get_pixmap(matrix=mat, alpha=False, clip=clip_check_report)\n",
    "pix.save(\"page-clip_check_report.png\")\n",
    "text_check_report = page.get_text(clip=clip_check_report)\n",
    "if '個股報告' in text_check_report :\n",
    "    print('個股報告')\n",
    "elif '個 股 速 報' in text_check_report :\n",
    "    print('個 股 速 報')\n",
    "# elif '投資早報' in text_check_new_report or '港股投資' in text_check_new_report:\n",
    "#     print('投資早報 or 港股投資')\n",
    "else :\n",
    "    print('NULL')\n",
    "text_check_report"
   ]
  },
  {
   "cell_type": "code",
   "execution_count": 38,
   "metadata": {},
   "outputs": [
    {
     "data": {
      "text/plain": [
       "'wiiher.chen@firstsec.com.tw \\n \\n買進 \\nPrice(02/06): 38.35 \\nTarget Price：50'"
      ]
     },
     "execution_count": 38,
     "metadata": {},
     "output_type": "execute_result"
    }
   ],
   "source": [
    "# 報告為新版個股報告 提取評價的第一種方法\n",
    "try:\n",
    "    clip_old_report_1 = fitz.Rect(0, 120, 170, 300)\n",
    "    text_old_report_1 = page.get_text(clip=clip_old_report_1, sort=True).strip()\n",
    "    pix = page.get_pixmap(matrix=mat, alpha=False, clip=clip_old_report_1)\n",
    "    pix.save(\"page-clip_new_report_1.png\")\n",
    "    # text_old_report_1 = text_old_report_1.split('Price')[0].strip()\n",
    "    # rate_1 = text_old_report_1.split('\\n')[-1].strip()\n",
    "    rate_1 = text_old_report_1.split('\\n')[0].strip()\n",
    "except:\n",
    "    rate_1 = None\n",
    "text_old_report_1"
   ]
  },
  {
   "cell_type": "code",
   "execution_count": 39,
   "metadata": {},
   "outputs": [
    {
     "data": {
      "text/plain": [
       "''"
      ]
     },
     "execution_count": 39,
     "metadata": {},
     "output_type": "execute_result"
    }
   ],
   "source": [
    "# 報告為新版個股報告 提取評價的第二種方法\n",
    "try:\n",
    "    clip_old_report_2 = fitz.Rect(60, 140, 170, 170)\n",
    "    rate_2 = page.get_text(clip=clip_old_report_2).strip()\n",
    "    pix = page.get_pixmap(matrix=mat, alpha=False, clip=clip_old_report_2)\n",
    "    pix.save(\"page-clip_new_report_2.png\")\n",
    "except:\n",
    "    rate_2 = None\n",
    "rate_2"
   ]
  },
  {
   "cell_type": "code",
   "execution_count": 40,
   "metadata": {},
   "outputs": [
    {
     "data": {
      "text/plain": [
       "'Target Price：50'"
      ]
     },
     "execution_count": 40,
     "metadata": {},
     "output_type": "execute_result"
    }
   ],
   "source": [
    "# 報告為舊版個股報告 提取評價的第一種方法\n",
    "try:\n",
    "    clip_old_report_1 = fitz.Rect(0, 0, 170, 300)\n",
    "    text_old_report_1 = page.get_text(clip=clip_old_report_1).strip()\n",
    "    pix = page.get_pixmap(matrix=mat, alpha=False, clip=clip_old_report_1)\n",
    "    pix.save(\"page-clip_old_report_1.png\")\n",
    "    text_old_report_1 = text_old_report_1.split('承銷價')[0].strip()\n",
    "    rate_1 = text_old_report_1.split('\\n')[-1].strip()\n",
    "except:\n",
    "    rate_1 = None\n",
    "rate_1"
   ]
  },
  {
   "cell_type": "code",
   "execution_count": 41,
   "metadata": {},
   "outputs": [
    {
     "data": {
      "text/plain": [
       "''"
      ]
     },
     "execution_count": 41,
     "metadata": {},
     "output_type": "execute_result"
    }
   ],
   "source": [
    "# 報告為舊版個股報告 提取評價的第二種方法\n",
    "try:\n",
    "    clip_old_report_2 = fitz.Rect(55, 140, 160, 180)\n",
    "    rate_2 = page.get_text(clip=clip_old_report_2).strip()\n",
    "    pix = page.get_pixmap(matrix=mat, alpha=False, clip=clip_old_report_2)\n",
    "    pix.save(\"page-clip_old_report_2.png\")\n",
    "except:\n",
    "    rate_2 = None\n",
    "rate_2"
   ]
  }
 ],
 "metadata": {
  "kernelspec": {
   "display_name": "venv_stock",
   "language": "python",
   "name": "python3"
  },
  "language_info": {
   "codemirror_mode": {
    "name": "ipython",
    "version": 3
   },
   "file_extension": ".py",
   "mimetype": "text/x-python",
   "name": "python",
   "nbconvert_exporter": "python",
   "pygments_lexer": "ipython3",
   "version": "3.8.5"
  },
  "orig_nbformat": 4,
  "vscode": {
   "interpreter": {
    "hash": "ba787645ba8ce3b43ca5d5c1bc5ea17dd580ada22e1bd31731a2a86b718f16cf"
   }
  }
 },
 "nbformat": 4,
 "nbformat_minor": 2
}
