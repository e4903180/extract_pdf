{
 "cells": [
  {
   "cell_type": "code",
   "execution_count": 44,
   "metadata": {},
   "outputs": [],
   "source": [
    "import os\n",
    "import fitz"
   ]
  },
  {
   "cell_type": "code",
   "execution_count": 45,
   "metadata": {},
   "outputs": [],
   "source": [
    "def check_rate_function(rate_1, rate_2, possible_rate):\n",
    "        # 檢查兩種方法提取的評價是否相同\n",
    "    if rate_1 == rate_2 and rate_1!= None:\n",
    "        return rate_1\n",
    "    else:\n",
    "        if rate_1 in possible_rate:\n",
    "            return rate_1\n",
    "        elif rate_2 in possible_rate:\n",
    "            return rate_2\n",
    "        else :\n",
    "            return 'NULL'\n",
    "            "
   ]
  },
  {
   "cell_type": "code",
   "execution_count": 46,
   "metadata": {},
   "outputs": [
    {
     "name": "stdout",
     "output_type": "stream",
     "text": [
      "共252件, 成功252件, 失敗0件, 成功率:100.0%\n"
     ]
    }
   ],
   "source": [
    "zip_path = '宏遠'\n",
    "count_true = 0\n",
    "possible_rate = ['買進', '區間操作', '買進（調升）', '強力買進', '區間→買進',\n",
    "                 '中立', '買進（維持）', '中立（調降）', '區間操作（調降）', '區間', '維持買進']\n",
    "for directory in os.listdir(zip_path):\n",
    "    directory_path = os.path.join(zip_path, directory)\n",
    "    rate_1 = None\n",
    "    rate_2 = None\n",
    "    rate = None\n",
    "    try:\n",
    "        # 使用with語句讀取PDF文件，確保在使用後自動關閉文件。\n",
    "        with fitz.open(directory_path) as doc:\n",
    "            mat = fitz.Matrix(1, 1)\n",
    "            page = doc.load_page(0)  # 加載文檔的第0頁\n",
    "            rect = page.rect\n",
    "            try:\n",
    "                # 檢查是否由宏遠投顧出版\n",
    "                clip_check_source = fitz.Rect(0, 0.9*rect.height, rect.width, rect.height)\n",
    "                text_check_source = page.get_text(clip=clip_check_source)\n",
    "                if '宏遠投顧' in text_check_source :\n",
    "                    try:\n",
    "                        # 裁剪並提取文本的第一種方法\n",
    "                        clip_new_version_1 = fitz.Rect(0, 0, 220, rect.height)\n",
    "                        pix = page.get_pixmap(matrix=mat, alpha=False, clip=clip_new_version_1)\n",
    "                        pix.save(\"page-clip_new_version_1.png\")\n",
    "                        text_new_version_1 = page.get_text(clip=clip_new_version_1, sort=True).strip()\n",
    "                        if '投資評等:' in text_new_version_1:\n",
    "                            text_new_version_1 = text_new_version_1.split('投資評等:')[1]\n",
    "                        else:\n",
    "                            text_new_version_1 = text_new_version_1.split('投資評等：')[1]\n",
    "                        rate_1 = text_new_version_1.split('\\n')[0].strip()\n",
    "                    # 如果出現任何錯誤，設置rate_1和rate_2為None。\n",
    "                    except:\n",
    "                        rate_1 = None\n",
    "                    rate = check_rate_function(rate_1, rate_2, possible_rate)\n",
    "                else:\n",
    "                    # False\n",
    "                    print(f'{directory_path} is not posted by 宏遠投顧')\n",
    "            except:\n",
    "                print(directory_path, 'fail')\n",
    "    except:\n",
    "        print(directory_path, 'fail')\n",
    "\n",
    "    if rate == 'NULL' :\n",
    "        print(directory_path, rate,\n",
    "                f'rate_1={rate_1}, rate_2={rate_2}')\n",
    "    elif rate != None :\n",
    "        count_true += 1\n",
    "        # print(directory_path, rate,\n",
    "        #         f'rate_1={rate_1}, rate_2={rate_2}')\n",
    "    else :\n",
    "        print(directory_path, rate,\n",
    "                f'rate_1={rate_1}, rate_2={rate_2}')\n",
    "        \n",
    "# 計算成功和失敗的數量並打印\n",
    "count_false = len(os.listdir(zip_path)) - count_true\n",
    "success_rate = round((count_true/len(os.listdir(zip_path))), 3)*100\n",
    "print(f'共{len(os.listdir(zip_path))}件, 成功{count_true}件, 失敗{count_false}件, 成功率:{success_rate}%')"
   ]
  },
  {
   "cell_type": "code",
   "execution_count": 47,
   "metadata": {},
   "outputs": [],
   "source": [
    "import fitz\n",
    "doc = fitz.open(r'宏遠\\1101_台泥_2018-11-01_宏遠_2308-台達電-20181101-宏遠投顧.pdf')\n",
    "mat = fitz.Matrix(1, 1)\n",
    "page = doc.load_page(0)  # loads page number 'pno' of the document (0-based)\n",
    "rect = page.rect\n",
    "pix = page.get_pixmap(matrix=mat, alpha=False)\n",
    "pix.save(\"page-%i.png\" % page.number)"
   ]
  },
  {
   "cell_type": "code",
   "execution_count": 48,
   "metadata": {},
   "outputs": [
    {
     "name": "stdout",
     "output_type": "stream",
     "text": [
      "True\n"
     ]
    }
   ],
   "source": [
    "page_check_source = doc.load_page(0)\n",
    "clip_check_source = fitz.Rect(0, 0.9*rect.height, rect.width, rect.height)\n",
    "pix = page_check_source.get_pixmap(matrix=mat, alpha=False, clip=clip_check_source)\n",
    "pix.save(\"page-clip_check_source.png\")\n",
    "text_check_source = page.get_text(clip=clip_check_source)\n",
    "if '宏遠投顧' in text_check_source :\n",
    "    print('True')"
   ]
  },
  {
   "cell_type": "code",
   "execution_count": 49,
   "metadata": {},
   "outputs": [],
   "source": [
    "# # 檢查報告版本\n",
    "# clip_check_version= fitz.Rect(370, 80, 450, 200)\n",
    "# pix = page.get_pixmap(matrix=mat, alpha=False, clip=clip_check_version)\n",
    "# pix.save(\"page-clip_check_version.png\")\n",
    "# text_check_version = page.get_text(clip=clip_check_version).strip()\n",
    "# if '投資評等' in text_check_version:\n",
    "#    print('報告為舊版')"
   ]
  },
  {
   "cell_type": "code",
   "execution_count": 50,
   "metadata": {},
   "outputs": [],
   "source": [
    "# # 報告為舊版\n",
    "# try:\n",
    "#     text_old_version_1 = text_check_version\n",
    "#     text_old_version_1 = text_old_version_1.split('投資評等')[1].strip()\n",
    "#     rate_1 = text_old_version_1.split('\\n')[0].strip()\n",
    "# except:\n",
    "#     rate_1 = None\n",
    "# rate_1"
   ]
  },
  {
   "cell_type": "code",
   "execution_count": 51,
   "metadata": {},
   "outputs": [],
   "source": [
    "# # 報告為舊版\n",
    "# try:\n",
    "#     clip_old_version_2 = fitz.Rect(370, 120, 430, 150)\n",
    "#     pix = page.get_pixmap(matrix=mat, alpha=False, clip=clip_old_version_2)\n",
    "#     pix.save(\"page-clip_old_version_2.png\")\n",
    "#     rate_2 = page.get_text(clip=clip_old_version_2).strip()\n",
    "# except:\n",
    "#     rate_2 = None\n",
    "# rate_2"
   ]
  },
  {
   "cell_type": "code",
   "execution_count": 52,
   "metadata": {},
   "outputs": [
    {
     "data": {
      "text/plain": [
       "'區間操作'"
      ]
     },
     "execution_count": 52,
     "metadata": {},
     "output_type": "execute_result"
    }
   ],
   "source": [
    "# 報告為新版\n",
    "try:\n",
    "    # 裁剪並提取文本的第一種方法\n",
    "    clip_new_version_1 = fitz.Rect(0, 0, 220, rect.height)\n",
    "    pix = page.get_pixmap(matrix=mat, alpha=False, clip=clip_new_version_1)\n",
    "    pix.save(\"page-clip_new_version_1.png\")\n",
    "    text_new_version_1 = page.get_text(clip=clip_new_version_1, sort=True).strip()\n",
    "    if '投資評等:' in text_new_version_1:\n",
    "        text_new_version_1 = text_new_version_1.split('投資評等:')[1]\n",
    "    else:\n",
    "        text_new_version_1 = text_new_version_1.split('投資評等：')[1]\n",
    "    rate_1 = text_new_version_1.split('\\n')[0].strip()\n",
    "# 如果出現任何錯誤，設置rate_1和rate_2為None。\n",
    "except:\n",
    "    rate_1 = None\n",
    "rate_1"
   ]
  },
  {
   "cell_type": "code",
   "execution_count": 53,
   "metadata": {},
   "outputs": [
    {
     "data": {
      "text/plain": [
       "False"
      ]
     },
     "execution_count": 53,
     "metadata": {},
     "output_type": "execute_result"
    }
   ],
   "source": [
    "':' == '：'"
   ]
  }
 ],
 "metadata": {
  "kernelspec": {
   "display_name": "venv_stock",
   "language": "python",
   "name": "python3"
  },
  "language_info": {
   "codemirror_mode": {
    "name": "ipython",
    "version": 3
   },
   "file_extension": ".py",
   "mimetype": "text/x-python",
   "name": "python",
   "nbconvert_exporter": "python",
   "pygments_lexer": "ipython3",
   "version": "3.8.5"
  },
  "orig_nbformat": 4,
  "vscode": {
   "interpreter": {
    "hash": "ba787645ba8ce3b43ca5d5c1bc5ea17dd580ada22e1bd31731a2a86b718f16cf"
   }
  }
 },
 "nbformat": 4,
 "nbformat_minor": 2
}
